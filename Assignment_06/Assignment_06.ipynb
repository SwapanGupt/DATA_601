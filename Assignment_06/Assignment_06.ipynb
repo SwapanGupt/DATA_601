{
 "cells": [
  {
   "cell_type": "markdown",
   "id": "2bb86f1f",
   "metadata": {},
   "source": [
    "## Attached an Excel spreadsheet that has two worksheets, \"main\" and \"another\". Each worksheet has data and visualizations. Worksheet \"main\" has a \"patient id\" column; and worksheet \"another\" has a \"p_id\" column. The \"patient id\" values in \"main\" tab are the same variable as \"p_id\" in \"another\".\n",
    "Submit a notebook that reads the Excel spreadsheet and produces a separate spreadsheet with the following modifications:\n",
    "1. Use openpyxl to copy patients from \"another\" to \"main\"\n",
    "2. For patients on \"another\" that don't exist in \"main,\" create new rows in \"main\"\n",
    "3. Make no changes to the visualizations that exist in each worksheet.\n",
    "4. Make no changes to the data on \"another\".\n",
    "5. Write your changes to a new .xlsx file (don't overwrite the original)\n",
    "Some helpful observations:\n",
    "* \"main\" worksheet will have three new columns (because those columns exist in the \"another\" worksheet)\n",
    "* \"main\" worksheet will have new rows (one row per patient)\n",
    "* There will be empty cells in \"main\" worksheet\n",
    "* Use a programmatic (rather than manual) approach to identify which patients appear in both worksheets\n",
    "* Some cells in both worksheets contain formulas. Copy only values from \"another\" to \"main\"\n",
    "week_05_homework_XLSX_openpyxl.xlsx"
   ]
  },
  {
   "cell_type": "markdown",
   "id": "0fbad232",
   "metadata": {},
   "source": [
    "- Name: Swapan Gupta Chollati\n",
    "- Assignment:06\n"
   ]
  },
  {
   "cell_type": "code",
   "execution_count": 49,
   "id": "e553ecfb",
   "metadata": {},
   "outputs": [],
   "source": [
    "import openpyxl\n",
    "ws = openpyxl.load_workbook('/Users/Swapan Gupta/Downloads/week_05_homework_XLSX_openpyxl.xlsx') #to open the excel sheet\n",
    "main_ws=ws['main']\n",
    "another_ws=ws['another']\n",
    "ws_1={} #creating a dictonary with main as key and rows as value\n",
    "for i in range(main_ws.max_row-1):\n",
    "    ws_1[main_ws.cell(row=i+2, column=1).value]=i+2"
   ]
  },
  {
   "cell_type": "code",
   "execution_count": 50,
   "id": "f8c34d15",
   "metadata": {},
   "outputs": [],
   "source": [
    "x=main_ws.max_row+1 #to check if p_id is in main,else adding the values in a new row\n",
    "for i in range(another_ws.max_row-1):\n",
    "    if another_ws.cell(row=i+2, column=1).value not in worksheet_1.keys():\n",
    "        main_ws.cell(row=x, column=1).value=another_ws.cell(row=i+2, column=1).value\n",
    "        x=x+1\n",
    "        for j in range(29):\n",
    "            main_ws.cell(row=x, column=j+7).value=another_ws.cell(row=i+2, column=j+2).value   "
   ]
  },
  {
   "cell_type": "code",
   "execution_count": 51,
   "id": "9d19b40a",
   "metadata": {},
   "outputs": [],
   "source": [
    "ws_2={} # creating a dictionary with key as another_ws and rows as value\n",
    "for i in range(another_ws.max_row-1):\n",
    "    ws_2[another_ws.cell(row=i+2, column=1).value]=i+2"
   ]
  },
  {
   "cell_type": "code",
   "execution_count": 52,
   "id": "102358c6",
   "metadata": {},
   "outputs": [],
   "source": [
    "for i in range(main_ws.max_row-1): #to place the details from another sheet to main sheet\n",
    "    if main_ws.cell(row=i+2, column=1).value in worksheet_2.keys():\n",
    "        x=worksheet_2[main_ws.cell(row=i+2, column=1).value]\n",
    "        for j in range(another_ws.max_column):\n",
    "            main_ws.cell(row=i+2, column=j+7).value=another_ws.cell(row=x, column=j+2).value\n",
    "for j in range(29):\n",
    "    main_ws.cell(row=1, column=j+7).value=another_ws.cell(row=1, column=j+2).value"
   ]
  },
  {
   "cell_type": "code",
   "execution_count": 53,
   "id": "89f2fd8c",
   "metadata": {},
   "outputs": [],
   "source": [
    "ws.save('/Users/Swapan Gupta/Downloads/Data_601_Assignment_6.xlsx') #Saving the Output file\n",
    "ws.close()"
   ]
  }
 ],
 "metadata": {
  "kernelspec": {
   "display_name": "Python 3",
   "language": "python",
   "name": "python3"
  },
  "language_info": {
   "codemirror_mode": {
    "name": "ipython",
    "version": 3
   },
   "file_extension": ".py",
   "mimetype": "text/x-python",
   "name": "python",
   "nbconvert_exporter": "python",
   "pygments_lexer": "ipython3",
   "version": "3.8.8"
  }
 },
 "nbformat": 4,
 "nbformat_minor": 5
}
