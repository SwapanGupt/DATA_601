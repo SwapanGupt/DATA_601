{
  "nbformat": 4,
  "nbformat_minor": 0,
  "metadata": {
    "colab": {
      "name": "601Part1.ipynb",
      "provenance": []
    },
    "kernelspec": {
      "name": "python3",
      "display_name": "Python 3"
    },
    "language_info": {
      "name": "python"
    }
  },
  "cells": [
    {
      "cell_type": "code",
      "metadata": {
        "colab": {
          "base_uri": "https://localhost:8080/"
        },
        "id": "YqNkWN8XBP7v",
        "outputId": "64bddf11-2dad-4cf2-a528-894581955e3a"
      },
      "source": [
        "def char_count(a_string):             # string is given as an argument\n",
        "    a_string=input(\"Enter a String:\") ## If User should enter a string\n",
        "    print(a_string)\n",
        "    word_count= a_string.split()\n",
        "    number_of_words = len(word_count)\n",
        "    print(\"Number of Words:\",number_of_words)\n",
        "    count=0\n",
        "    for i in a_string:\n",
        "      count += 1\n",
        "    print(\"Numer of Characters:\",count)\n",
        "char_count(\"a_string\")"
      ],
      "execution_count": 6,
      "outputs": [
        {
          "output_type": "stream",
          "name": "stdout",
          "text": [
            "Enter a String:Hi hello\n",
            "Hi hello\n",
            "Number of Words: 2\n",
            "Numer of Characters: 8\n"
          ]
        }
      ]
    }
  ]
}