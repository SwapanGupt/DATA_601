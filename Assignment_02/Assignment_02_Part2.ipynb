{
  "nbformat": 4,
  "nbformat_minor": 0,
  "metadata": {
    "colab": {
      "name": "601Part2.ipynb",
      "provenance": []
    },
    "kernelspec": {
      "name": "python3",
      "display_name": "Python 3"
    },
    "language_info": {
      "name": "python"
    }
  },
  "cells": [
    {
      "cell_type": "code",
      "metadata": {
        "colab": {
          "base_uri": "https://localhost:8080/"
        },
        "id": "o2GlE4AYEmoR",
        "outputId": "ebc6d730-6d16-4e67-e2f3-5ac86ba1bce1"
      },
      "source": [
        "def new(list_2):\n",
        "  list_1 = []\n",
        "  n=int(input(\"enter number of elements\"))\n",
        "\n",
        "  for i in range(0,n):                        # for finding number of elements\n",
        "      val = input(\"Enter a value:\")\n",
        "      list_1.append(val)                      # storing int value in list\n",
        "  print(\"Entered Values:\",list_1)\n",
        "\n",
        "  for j in list_1:\n",
        "      list_2=list_1[-1:]+list_1[:-1]\n",
        "  print(\"List shifted by right by 1 index:\",list_2)\n",
        "new(\"list_2\")\n",
        "  \n",
        "  "
      ],
      "execution_count": 5,
      "outputs": [
        {
          "output_type": "stream",
          "name": "stdout",
          "text": [
            "enter number of elements5\n",
            "Enter a value:1\n",
            "Enter a value:2\n",
            "Enter a value:3\n",
            "Enter a value:4\n",
            "Enter a value:5\n",
            "Entered Values: ['1', '2', '3', '4', '5']\n",
            "List shifted by right by 1 index: ['5', '1', '2', '3', '4']\n"
          ]
        }
      ]
    }
  ]
}