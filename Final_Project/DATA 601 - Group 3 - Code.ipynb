{
 "cells": [
  {
   "cell_type": "markdown",
   "id": "99fa8f9c",
   "metadata": {},
   "source": [
    "# The Relationship Between Smartphone Usage and Sleep Quality Amongst University Students\n",
    "- Hafsa Chaudhry\n",
    "- Hetvi Patel \n",
    "- Sai Teja Avadhootha\n",
    "- Sushanthik Reddy Poreddy\n",
    "- Swapan Gupta Chollati \n",
    "- Ujwala Namineni"
   ]
  },
  {
   "cell_type": "code",
   "execution_count": 1,
   "id": "cbc5aa4e",
   "metadata": {},
   "outputs": [
    {
     "name": "stdout",
     "output_type": "stream",
     "text": [
      "Requirement already satisfied: seaborn in /Users/hetvipatel/opt/anaconda3/envs/Pandas/lib/python3.8/site-packages (0.11.2)\n",
      "Requirement already satisfied: pandas>=0.23 in /Users/hetvipatel/opt/anaconda3/envs/Pandas/lib/python3.8/site-packages (from seaborn) (1.3.3)\n",
      "Requirement already satisfied: matplotlib>=2.2 in /Users/hetvipatel/opt/anaconda3/envs/Pandas/lib/python3.8/site-packages (from seaborn) (3.5.0)\n",
      "Requirement already satisfied: numpy>=1.15 in /Users/hetvipatel/opt/anaconda3/envs/Pandas/lib/python3.8/site-packages (from seaborn) (1.20.3)\n",
      "Requirement already satisfied: scipy>=1.0 in /Users/hetvipatel/opt/anaconda3/envs/Pandas/lib/python3.8/site-packages (from seaborn) (1.7.1)\n",
      "Requirement already satisfied: python-dateutil>=2.7 in /Users/hetvipatel/opt/anaconda3/envs/Pandas/lib/python3.8/site-packages (from matplotlib>=2.2->seaborn) (2.8.2)\n",
      "Requirement already satisfied: cycler>=0.10 in /Users/hetvipatel/opt/anaconda3/envs/Pandas/lib/python3.8/site-packages (from matplotlib>=2.2->seaborn) (0.11.0)\n",
      "Requirement already satisfied: pillow>=6.2.0 in /Users/hetvipatel/opt/anaconda3/envs/Pandas/lib/python3.8/site-packages (from matplotlib>=2.2->seaborn) (8.4.0)\n",
      "Requirement already satisfied: pyparsing>=2.2.1 in /Users/hetvipatel/opt/anaconda3/envs/Pandas/lib/python3.8/site-packages (from matplotlib>=2.2->seaborn) (2.4.7)\n",
      "Requirement already satisfied: packaging>=20.0 in /Users/hetvipatel/opt/anaconda3/envs/Pandas/lib/python3.8/site-packages (from matplotlib>=2.2->seaborn) (21.0)\n",
      "Requirement already satisfied: kiwisolver>=1.0.1 in /Users/hetvipatel/opt/anaconda3/envs/Pandas/lib/python3.8/site-packages (from matplotlib>=2.2->seaborn) (1.3.2)\n",
      "Requirement already satisfied: fonttools>=4.22.0 in /Users/hetvipatel/opt/anaconda3/envs/Pandas/lib/python3.8/site-packages (from matplotlib>=2.2->seaborn) (4.25.0)\n",
      "Requirement already satisfied: pytz>=2017.3 in /Users/hetvipatel/opt/anaconda3/envs/Pandas/lib/python3.8/site-packages (from pandas>=0.23->seaborn) (2021.1)\n",
      "Requirement already satisfied: six>=1.5 in /Users/hetvipatel/opt/anaconda3/envs/Pandas/lib/python3.8/site-packages (from python-dateutil>=2.7->matplotlib>=2.2->seaborn) (1.16.0)\n",
      "Note: you may need to restart the kernel to use updated packages.\n"
     ]
    }
   ],
   "source": [
    "pip install seaborn"
   ]
  },
  {
   "cell_type": "code",
   "execution_count": 2,
   "id": "06523c65",
   "metadata": {},
   "outputs": [
    {
     "name": "stdout",
     "output_type": "stream",
     "text": [
      "Requirement already satisfied: statsmodels in /Users/hetvipatel/opt/anaconda3/envs/Pandas/lib/python3.8/site-packages (0.13.1)\n",
      "Requirement already satisfied: numpy>=1.17 in /Users/hetvipatel/opt/anaconda3/envs/Pandas/lib/python3.8/site-packages (from statsmodels) (1.20.3)\n",
      "Requirement already satisfied: patsy>=0.5.2 in /Users/hetvipatel/opt/anaconda3/envs/Pandas/lib/python3.8/site-packages (from statsmodels) (0.5.2)\n",
      "Requirement already satisfied: scipy>=1.3 in /Users/hetvipatel/opt/anaconda3/envs/Pandas/lib/python3.8/site-packages (from statsmodels) (1.7.1)\n",
      "Requirement already satisfied: pandas>=0.25 in /Users/hetvipatel/opt/anaconda3/envs/Pandas/lib/python3.8/site-packages (from statsmodels) (1.3.3)\n",
      "Requirement already satisfied: python-dateutil>=2.7.3 in /Users/hetvipatel/opt/anaconda3/envs/Pandas/lib/python3.8/site-packages (from pandas>=0.25->statsmodels) (2.8.2)\n",
      "Requirement already satisfied: pytz>=2017.3 in /Users/hetvipatel/opt/anaconda3/envs/Pandas/lib/python3.8/site-packages (from pandas>=0.25->statsmodels) (2021.1)\n",
      "Requirement already satisfied: six in /Users/hetvipatel/opt/anaconda3/envs/Pandas/lib/python3.8/site-packages (from patsy>=0.5.2->statsmodels) (1.16.0)\n",
      "Note: you may need to restart the kernel to use updated packages.\n"
     ]
    }
   ],
   "source": [
    "pip install statsmodels"
   ]
  },
  {
   "cell_type": "code",
   "execution_count": 3,
   "id": "5bc1eca9",
   "metadata": {},
   "outputs": [
    {
     "name": "stdout",
     "output_type": "stream",
     "text": [
      "Requirement already satisfied: scikit-learn in /Users/hetvipatel/opt/anaconda3/envs/Pandas/lib/python3.8/site-packages (1.0.1)\n",
      "Requirement already satisfied: threadpoolctl>=2.0.0 in /Users/hetvipatel/opt/anaconda3/envs/Pandas/lib/python3.8/site-packages (from scikit-learn) (3.0.0)\n",
      "Requirement already satisfied: scipy>=1.1.0 in /Users/hetvipatel/opt/anaconda3/envs/Pandas/lib/python3.8/site-packages (from scikit-learn) (1.7.1)\n",
      "Requirement already satisfied: numpy>=1.14.6 in /Users/hetvipatel/opt/anaconda3/envs/Pandas/lib/python3.8/site-packages (from scikit-learn) (1.20.3)\n",
      "Requirement already satisfied: joblib>=0.11 in /Users/hetvipatel/opt/anaconda3/envs/Pandas/lib/python3.8/site-packages (from scikit-learn) (1.1.0)\n",
      "Note: you may need to restart the kernel to use updated packages.\n"
     ]
    }
   ],
   "source": [
    "pip install scikit-learn"
   ]
  },
  {
   "cell_type": "code",
   "execution_count": 4,
   "id": "6c12347f",
   "metadata": {},
   "outputs": [
    {
     "name": "stdout",
     "output_type": "stream",
     "text": [
      "Requirement already satisfied: mplcursors in /Users/hetvipatel/opt/anaconda3/envs/Pandas/lib/python3.8/site-packages (0.5.1)\n",
      "Requirement already satisfied: matplotlib>=3.1 in /Users/hetvipatel/opt/anaconda3/envs/Pandas/lib/python3.8/site-packages (from mplcursors) (3.5.0)\n",
      "Requirement already satisfied: python-dateutil>=2.7 in /Users/hetvipatel/opt/anaconda3/envs/Pandas/lib/python3.8/site-packages (from matplotlib>=3.1->mplcursors) (2.8.2)\n",
      "Requirement already satisfied: fonttools>=4.22.0 in /Users/hetvipatel/opt/anaconda3/envs/Pandas/lib/python3.8/site-packages (from matplotlib>=3.1->mplcursors) (4.25.0)\n",
      "Requirement already satisfied: kiwisolver>=1.0.1 in /Users/hetvipatel/opt/anaconda3/envs/Pandas/lib/python3.8/site-packages (from matplotlib>=3.1->mplcursors) (1.3.2)\n",
      "Requirement already satisfied: pyparsing>=2.2.1 in /Users/hetvipatel/opt/anaconda3/envs/Pandas/lib/python3.8/site-packages (from matplotlib>=3.1->mplcursors) (2.4.7)\n",
      "Requirement already satisfied: numpy>=1.17 in /Users/hetvipatel/opt/anaconda3/envs/Pandas/lib/python3.8/site-packages (from matplotlib>=3.1->mplcursors) (1.20.3)\n",
      "Requirement already satisfied: cycler>=0.10 in /Users/hetvipatel/opt/anaconda3/envs/Pandas/lib/python3.8/site-packages (from matplotlib>=3.1->mplcursors) (0.11.0)\n",
      "Requirement already satisfied: packaging>=20.0 in /Users/hetvipatel/opt/anaconda3/envs/Pandas/lib/python3.8/site-packages (from matplotlib>=3.1->mplcursors) (21.0)\n",
      "Requirement already satisfied: pillow>=6.2.0 in /Users/hetvipatel/opt/anaconda3/envs/Pandas/lib/python3.8/site-packages (from matplotlib>=3.1->mplcursors) (8.4.0)\n",
      "Requirement already satisfied: six>=1.5 in /Users/hetvipatel/opt/anaconda3/envs/Pandas/lib/python3.8/site-packages (from python-dateutil>=2.7->matplotlib>=3.1->mplcursors) (1.16.0)\n",
      "Note: you may need to restart the kernel to use updated packages.\n"
     ]
    }
   ],
   "source": [
    "pip install mplcursors"
   ]
  },
  {
   "cell_type": "code",
   "execution_count": 5,
   "id": "5bb6bfef",
   "metadata": {},
   "outputs": [],
   "source": [
    "import pandas as pd\n",
    "import plotly.io as pio\n",
    "import plotly.express as px\n",
    "import seaborn as sns\n",
    "import matplotlib.pyplot as plt\n",
    "import numpy as np\n",
    "import statsmodels.api as sm"
   ]
  },
  {
   "cell_type": "code",
   "execution_count": 6,
   "id": "a12b331a",
   "metadata": {},
   "outputs": [],
   "source": [
    "pio.templates.default = \"plotly_dark\"\n",
    "sns.set_theme(style=\"darkgrid\")"
   ]
  },
  {
   "cell_type": "markdown",
   "id": "4f824a8b",
   "metadata": {},
   "source": [
    "## Reading data"
   ]
  },
  {
   "cell_type": "code",
   "execution_count": 7,
   "id": "eb0c177b",
   "metadata": {},
   "outputs": [
    {
     "data": {
      "text/html": [
       "<div>\n",
       "<style scoped>\n",
       "    .dataframe tbody tr th:only-of-type {\n",
       "        vertical-align: middle;\n",
       "    }\n",
       "\n",
       "    .dataframe tbody tr th {\n",
       "        vertical-align: top;\n",
       "    }\n",
       "\n",
       "    .dataframe thead th {\n",
       "        text-align: right;\n",
       "    }\n",
       "</style>\n",
       "<table border=\"1\" class=\"dataframe\">\n",
       "  <thead>\n",
       "    <tr style=\"text-align: right;\">\n",
       "      <th></th>\n",
       "      <th>Age</th>\n",
       "      <th>Gender</th>\n",
       "      <th>meals/day</th>\n",
       "      <th>physical illness</th>\n",
       "      <th>screen time</th>\n",
       "      <th>bluelight filter</th>\n",
       "      <th>sleep direction</th>\n",
       "      <th>exercise</th>\n",
       "      <th>smoke/drink</th>\n",
       "      <th>beverage</th>\n",
       "      <th>sleep time</th>\n",
       "    </tr>\n",
       "  </thead>\n",
       "  <tbody>\n",
       "    <tr>\n",
       "      <th>0</th>\n",
       "      <td>22</td>\n",
       "      <td>Male</td>\n",
       "      <td>two</td>\n",
       "      <td>no</td>\n",
       "      <td>2.0</td>\n",
       "      <td>yes</td>\n",
       "      <td>west</td>\n",
       "      <td>sometimes</td>\n",
       "      <td>no</td>\n",
       "      <td>Tea</td>\n",
       "      <td>6.7575</td>\n",
       "    </tr>\n",
       "    <tr>\n",
       "      <th>1</th>\n",
       "      <td>22</td>\n",
       "      <td>Female</td>\n",
       "      <td>three</td>\n",
       "      <td>no</td>\n",
       "      <td>3.5</td>\n",
       "      <td>no</td>\n",
       "      <td>south</td>\n",
       "      <td>no</td>\n",
       "      <td>no</td>\n",
       "      <td>Coffee</td>\n",
       "      <td>8.0000</td>\n",
       "    </tr>\n",
       "    <tr>\n",
       "      <th>2</th>\n",
       "      <td>23</td>\n",
       "      <td>Male</td>\n",
       "      <td>three</td>\n",
       "      <td>no</td>\n",
       "      <td>3.5</td>\n",
       "      <td>no</td>\n",
       "      <td>south</td>\n",
       "      <td>no</td>\n",
       "      <td>no</td>\n",
       "      <td>Tea</td>\n",
       "      <td>8.0000</td>\n",
       "    </tr>\n",
       "    <tr>\n",
       "      <th>3</th>\n",
       "      <td>23</td>\n",
       "      <td>Female</td>\n",
       "      <td>two</td>\n",
       "      <td>no</td>\n",
       "      <td>1.5</td>\n",
       "      <td>no</td>\n",
       "      <td>east</td>\n",
       "      <td>sometimes</td>\n",
       "      <td>no</td>\n",
       "      <td>Coffee</td>\n",
       "      <td>6.5000</td>\n",
       "    </tr>\n",
       "    <tr>\n",
       "      <th>4</th>\n",
       "      <td>22</td>\n",
       "      <td>Male</td>\n",
       "      <td>three</td>\n",
       "      <td>no</td>\n",
       "      <td>4.5</td>\n",
       "      <td>yes</td>\n",
       "      <td>east</td>\n",
       "      <td>sometimes</td>\n",
       "      <td>yes</td>\n",
       "      <td>Tea and Coffee both</td>\n",
       "      <td>6.0000</td>\n",
       "    </tr>\n",
       "    <tr>\n",
       "      <th>5</th>\n",
       "      <td>22</td>\n",
       "      <td>Male</td>\n",
       "      <td>two</td>\n",
       "      <td>no</td>\n",
       "      <td>2.5</td>\n",
       "      <td>yes</td>\n",
       "      <td>west</td>\n",
       "      <td>sometimes</td>\n",
       "      <td>no</td>\n",
       "      <td>Tea</td>\n",
       "      <td>6.7575</td>\n",
       "    </tr>\n",
       "    <tr>\n",
       "      <th>6</th>\n",
       "      <td>22</td>\n",
       "      <td>Male</td>\n",
       "      <td>four</td>\n",
       "      <td>no</td>\n",
       "      <td>1.5</td>\n",
       "      <td>yes</td>\n",
       "      <td>south</td>\n",
       "      <td>yes</td>\n",
       "      <td>no</td>\n",
       "      <td>none of the above</td>\n",
       "      <td>7.0000</td>\n",
       "    </tr>\n",
       "    <tr>\n",
       "      <th>7</th>\n",
       "      <td>24</td>\n",
       "      <td>Female</td>\n",
       "      <td>three</td>\n",
       "      <td>yes</td>\n",
       "      <td>4.5</td>\n",
       "      <td>no</td>\n",
       "      <td>east</td>\n",
       "      <td>sometimes</td>\n",
       "      <td>no</td>\n",
       "      <td>Tea</td>\n",
       "      <td>6.5000</td>\n",
       "    </tr>\n",
       "    <tr>\n",
       "      <th>8</th>\n",
       "      <td>24</td>\n",
       "      <td>Male</td>\n",
       "      <td>four</td>\n",
       "      <td>no</td>\n",
       "      <td>2.5</td>\n",
       "      <td>yes</td>\n",
       "      <td>east</td>\n",
       "      <td>yes</td>\n",
       "      <td>no</td>\n",
       "      <td>none of the above</td>\n",
       "      <td>8.0000</td>\n",
       "    </tr>\n",
       "    <tr>\n",
       "      <th>9</th>\n",
       "      <td>23</td>\n",
       "      <td>Female</td>\n",
       "      <td>three</td>\n",
       "      <td>no</td>\n",
       "      <td>4.5</td>\n",
       "      <td>yes</td>\n",
       "      <td>north</td>\n",
       "      <td>yes</td>\n",
       "      <td>yes</td>\n",
       "      <td>Tea and Coffee both</td>\n",
       "      <td>7.0000</td>\n",
       "    </tr>\n",
       "    <tr>\n",
       "      <th>10</th>\n",
       "      <td>28</td>\n",
       "      <td>Female</td>\n",
       "      <td>three</td>\n",
       "      <td>no</td>\n",
       "      <td>0.5</td>\n",
       "      <td>yes</td>\n",
       "      <td>north</td>\n",
       "      <td>yes</td>\n",
       "      <td>no</td>\n",
       "      <td>Tea</td>\n",
       "      <td>6.5000</td>\n",
       "    </tr>\n",
       "    <tr>\n",
       "      <th>11</th>\n",
       "      <td>59</td>\n",
       "      <td>Male</td>\n",
       "      <td>two</td>\n",
       "      <td>no</td>\n",
       "      <td>0.5</td>\n",
       "      <td>no</td>\n",
       "      <td>west</td>\n",
       "      <td>no</td>\n",
       "      <td>no</td>\n",
       "      <td>Tea</td>\n",
       "      <td>6.0000</td>\n",
       "    </tr>\n",
       "    <tr>\n",
       "      <th>12</th>\n",
       "      <td>23</td>\n",
       "      <td>Female</td>\n",
       "      <td>three</td>\n",
       "      <td>no</td>\n",
       "      <td>4.5</td>\n",
       "      <td>no</td>\n",
       "      <td>west</td>\n",
       "      <td>sometimes</td>\n",
       "      <td>no</td>\n",
       "      <td>Tea</td>\n",
       "      <td>8.0000</td>\n",
       "    </tr>\n",
       "    <tr>\n",
       "      <th>13</th>\n",
       "      <td>25</td>\n",
       "      <td>Prefer not to say</td>\n",
       "      <td>more than 5</td>\n",
       "      <td>no</td>\n",
       "      <td>4.5</td>\n",
       "      <td>yes</td>\n",
       "      <td>east</td>\n",
       "      <td>yes</td>\n",
       "      <td>no</td>\n",
       "      <td>Coffee</td>\n",
       "      <td>1.5000</td>\n",
       "    </tr>\n",
       "    <tr>\n",
       "      <th>14</th>\n",
       "      <td>23</td>\n",
       "      <td>Male</td>\n",
       "      <td>three</td>\n",
       "      <td>no</td>\n",
       "      <td>3.5</td>\n",
       "      <td>no</td>\n",
       "      <td>north</td>\n",
       "      <td>sometimes</td>\n",
       "      <td>no</td>\n",
       "      <td>Coffee</td>\n",
       "      <td>8.0000</td>\n",
       "    </tr>\n",
       "    <tr>\n",
       "      <th>15</th>\n",
       "      <td>23</td>\n",
       "      <td>Female</td>\n",
       "      <td>two</td>\n",
       "      <td>no</td>\n",
       "      <td>2.5</td>\n",
       "      <td>yes</td>\n",
       "      <td>west</td>\n",
       "      <td>yes</td>\n",
       "      <td>no</td>\n",
       "      <td>none of the above</td>\n",
       "      <td>8.0000</td>\n",
       "    </tr>\n",
       "    <tr>\n",
       "      <th>16</th>\n",
       "      <td>24</td>\n",
       "      <td>Male</td>\n",
       "      <td>three</td>\n",
       "      <td>no</td>\n",
       "      <td>4.5</td>\n",
       "      <td>no</td>\n",
       "      <td>west</td>\n",
       "      <td>no</td>\n",
       "      <td>no</td>\n",
       "      <td>none of the above</td>\n",
       "      <td>7.0000</td>\n",
       "    </tr>\n",
       "    <tr>\n",
       "      <th>17</th>\n",
       "      <td>24</td>\n",
       "      <td>Male</td>\n",
       "      <td>two</td>\n",
       "      <td>no</td>\n",
       "      <td>4.5</td>\n",
       "      <td>yes</td>\n",
       "      <td>north</td>\n",
       "      <td>sometimes</td>\n",
       "      <td>no</td>\n",
       "      <td>none of the above</td>\n",
       "      <td>8.0000</td>\n",
       "    </tr>\n",
       "    <tr>\n",
       "      <th>18</th>\n",
       "      <td>23</td>\n",
       "      <td>Male</td>\n",
       "      <td>three</td>\n",
       "      <td>no</td>\n",
       "      <td>1.5</td>\n",
       "      <td>yes</td>\n",
       "      <td>west</td>\n",
       "      <td>yes</td>\n",
       "      <td>yes</td>\n",
       "      <td>Tea</td>\n",
       "      <td>8.0000</td>\n",
       "    </tr>\n",
       "    <tr>\n",
       "      <th>19</th>\n",
       "      <td>22</td>\n",
       "      <td>Male</td>\n",
       "      <td>two</td>\n",
       "      <td>yes</td>\n",
       "      <td>2.5</td>\n",
       "      <td>yes</td>\n",
       "      <td>south</td>\n",
       "      <td>sometimes</td>\n",
       "      <td>no</td>\n",
       "      <td>Tea</td>\n",
       "      <td>7.0000</td>\n",
       "    </tr>\n",
       "    <tr>\n",
       "      <th>20</th>\n",
       "      <td>23</td>\n",
       "      <td>Male</td>\n",
       "      <td>three</td>\n",
       "      <td>no</td>\n",
       "      <td>4.5</td>\n",
       "      <td>yes</td>\n",
       "      <td>west</td>\n",
       "      <td>no</td>\n",
       "      <td>no</td>\n",
       "      <td>Tea</td>\n",
       "      <td>7.0000</td>\n",
       "    </tr>\n",
       "    <tr>\n",
       "      <th>21</th>\n",
       "      <td>39</td>\n",
       "      <td>Female</td>\n",
       "      <td>five</td>\n",
       "      <td>no</td>\n",
       "      <td>2.5</td>\n",
       "      <td>yes</td>\n",
       "      <td>west</td>\n",
       "      <td>no</td>\n",
       "      <td>no</td>\n",
       "      <td>Tea and Coffee both</td>\n",
       "      <td>6.0000</td>\n",
       "    </tr>\n",
       "    <tr>\n",
       "      <th>22</th>\n",
       "      <td>23</td>\n",
       "      <td>Female</td>\n",
       "      <td>three</td>\n",
       "      <td>no</td>\n",
       "      <td>3.5</td>\n",
       "      <td>no</td>\n",
       "      <td>north</td>\n",
       "      <td>sometimes</td>\n",
       "      <td>no</td>\n",
       "      <td>Tea</td>\n",
       "      <td>7.0000</td>\n",
       "    </tr>\n",
       "    <tr>\n",
       "      <th>23</th>\n",
       "      <td>25</td>\n",
       "      <td>Female</td>\n",
       "      <td>two</td>\n",
       "      <td>no</td>\n",
       "      <td>4.5</td>\n",
       "      <td>no</td>\n",
       "      <td>south</td>\n",
       "      <td>sometimes</td>\n",
       "      <td>no</td>\n",
       "      <td>none of the above</td>\n",
       "      <td>7.0000</td>\n",
       "    </tr>\n",
       "    <tr>\n",
       "      <th>24</th>\n",
       "      <td>23</td>\n",
       "      <td>Male</td>\n",
       "      <td>three</td>\n",
       "      <td>no</td>\n",
       "      <td>4.5</td>\n",
       "      <td>no</td>\n",
       "      <td>north</td>\n",
       "      <td>sometimes</td>\n",
       "      <td>no</td>\n",
       "      <td>Tea</td>\n",
       "      <td>7.0000</td>\n",
       "    </tr>\n",
       "    <tr>\n",
       "      <th>25</th>\n",
       "      <td>22</td>\n",
       "      <td>Male</td>\n",
       "      <td>four</td>\n",
       "      <td>no</td>\n",
       "      <td>1.5</td>\n",
       "      <td>yes</td>\n",
       "      <td>north</td>\n",
       "      <td>sometimes</td>\n",
       "      <td>no</td>\n",
       "      <td>Tea and Coffee both</td>\n",
       "      <td>5.0000</td>\n",
       "    </tr>\n",
       "    <tr>\n",
       "      <th>26</th>\n",
       "      <td>25</td>\n",
       "      <td>Female</td>\n",
       "      <td>three</td>\n",
       "      <td>no</td>\n",
       "      <td>2.5</td>\n",
       "      <td>no</td>\n",
       "      <td>east</td>\n",
       "      <td>sometimes</td>\n",
       "      <td>no</td>\n",
       "      <td>Tea and Coffee both</td>\n",
       "      <td>5.0000</td>\n",
       "    </tr>\n",
       "    <tr>\n",
       "      <th>27</th>\n",
       "      <td>50</td>\n",
       "      <td>Male</td>\n",
       "      <td>two</td>\n",
       "      <td>no</td>\n",
       "      <td>1.5</td>\n",
       "      <td>no</td>\n",
       "      <td>west</td>\n",
       "      <td>yes</td>\n",
       "      <td>no</td>\n",
       "      <td>none of the above</td>\n",
       "      <td>8.0000</td>\n",
       "    </tr>\n",
       "    <tr>\n",
       "      <th>28</th>\n",
       "      <td>23</td>\n",
       "      <td>Female</td>\n",
       "      <td>three</td>\n",
       "      <td>no</td>\n",
       "      <td>4.5</td>\n",
       "      <td>yes</td>\n",
       "      <td>west</td>\n",
       "      <td>no</td>\n",
       "      <td>no</td>\n",
       "      <td>Tea</td>\n",
       "      <td>7.0000</td>\n",
       "    </tr>\n",
       "    <tr>\n",
       "      <th>29</th>\n",
       "      <td>20</td>\n",
       "      <td>Male</td>\n",
       "      <td>one</td>\n",
       "      <td>no</td>\n",
       "      <td>4.5</td>\n",
       "      <td>no</td>\n",
       "      <td>west</td>\n",
       "      <td>no</td>\n",
       "      <td>no</td>\n",
       "      <td>Coffee</td>\n",
       "      <td>3.3300</td>\n",
       "    </tr>\n",
       "    <tr>\n",
       "      <th>30</th>\n",
       "      <td>23</td>\n",
       "      <td>Female</td>\n",
       "      <td>two</td>\n",
       "      <td>no</td>\n",
       "      <td>2.5</td>\n",
       "      <td>no</td>\n",
       "      <td>west</td>\n",
       "      <td>no</td>\n",
       "      <td>no</td>\n",
       "      <td>Tea</td>\n",
       "      <td>9.0000</td>\n",
       "    </tr>\n",
       "    <tr>\n",
       "      <th>31</th>\n",
       "      <td>23</td>\n",
       "      <td>Female</td>\n",
       "      <td>three</td>\n",
       "      <td>no</td>\n",
       "      <td>4.5</td>\n",
       "      <td>yes</td>\n",
       "      <td>east</td>\n",
       "      <td>yes</td>\n",
       "      <td>no</td>\n",
       "      <td>Tea</td>\n",
       "      <td>7.0000</td>\n",
       "    </tr>\n",
       "    <tr>\n",
       "      <th>32</th>\n",
       "      <td>23</td>\n",
       "      <td>Female</td>\n",
       "      <td>three</td>\n",
       "      <td>no</td>\n",
       "      <td>3.5</td>\n",
       "      <td>no</td>\n",
       "      <td>east</td>\n",
       "      <td>sometimes</td>\n",
       "      <td>no</td>\n",
       "      <td>Tea and Coffee both</td>\n",
       "      <td>6.0000</td>\n",
       "    </tr>\n",
       "    <tr>\n",
       "      <th>33</th>\n",
       "      <td>22</td>\n",
       "      <td>Male</td>\n",
       "      <td>one</td>\n",
       "      <td>no</td>\n",
       "      <td>4.5</td>\n",
       "      <td>no</td>\n",
       "      <td>north</td>\n",
       "      <td>sometimes</td>\n",
       "      <td>no</td>\n",
       "      <td>Tea and Coffee both</td>\n",
       "      <td>8.0000</td>\n",
       "    </tr>\n",
       "    <tr>\n",
       "      <th>34</th>\n",
       "      <td>22</td>\n",
       "      <td>Male</td>\n",
       "      <td>two</td>\n",
       "      <td>no</td>\n",
       "      <td>1.5</td>\n",
       "      <td>yes</td>\n",
       "      <td>north</td>\n",
       "      <td>sometimes</td>\n",
       "      <td>no</td>\n",
       "      <td>Tea</td>\n",
       "      <td>7.0000</td>\n",
       "    </tr>\n",
       "    <tr>\n",
       "      <th>35</th>\n",
       "      <td>21</td>\n",
       "      <td>Male</td>\n",
       "      <td>one</td>\n",
       "      <td>yes</td>\n",
       "      <td>4.5</td>\n",
       "      <td>yes</td>\n",
       "      <td>west</td>\n",
       "      <td>no</td>\n",
       "      <td>no</td>\n",
       "      <td>none of the above</td>\n",
       "      <td>7.0000</td>\n",
       "    </tr>\n",
       "    <tr>\n",
       "      <th>36</th>\n",
       "      <td>24</td>\n",
       "      <td>Male</td>\n",
       "      <td>two</td>\n",
       "      <td>no</td>\n",
       "      <td>4.5</td>\n",
       "      <td>no</td>\n",
       "      <td>west</td>\n",
       "      <td>sometimes</td>\n",
       "      <td>no</td>\n",
       "      <td>none of the above</td>\n",
       "      <td>7.0000</td>\n",
       "    </tr>\n",
       "    <tr>\n",
       "      <th>37</th>\n",
       "      <td>25</td>\n",
       "      <td>Male</td>\n",
       "      <td>two</td>\n",
       "      <td>no</td>\n",
       "      <td>2.5</td>\n",
       "      <td>yes</td>\n",
       "      <td>east</td>\n",
       "      <td>sometimes</td>\n",
       "      <td>no</td>\n",
       "      <td>Tea</td>\n",
       "      <td>7.0000</td>\n",
       "    </tr>\n",
       "    <tr>\n",
       "      <th>38</th>\n",
       "      <td>22</td>\n",
       "      <td>Male</td>\n",
       "      <td>two</td>\n",
       "      <td>no</td>\n",
       "      <td>4.5</td>\n",
       "      <td>yes</td>\n",
       "      <td>east</td>\n",
       "      <td>no</td>\n",
       "      <td>no</td>\n",
       "      <td>Tea</td>\n",
       "      <td>7.0000</td>\n",
       "    </tr>\n",
       "    <tr>\n",
       "      <th>39</th>\n",
       "      <td>23</td>\n",
       "      <td>Female</td>\n",
       "      <td>three</td>\n",
       "      <td>no</td>\n",
       "      <td>4.5</td>\n",
       "      <td>yes</td>\n",
       "      <td>west</td>\n",
       "      <td>yes</td>\n",
       "      <td>no</td>\n",
       "      <td>Coffee</td>\n",
       "      <td>6.0000</td>\n",
       "    </tr>\n",
       "    <tr>\n",
       "      <th>40</th>\n",
       "      <td>22</td>\n",
       "      <td>Female</td>\n",
       "      <td>two</td>\n",
       "      <td>no</td>\n",
       "      <td>3.5</td>\n",
       "      <td>no</td>\n",
       "      <td>south</td>\n",
       "      <td>yes</td>\n",
       "      <td>no</td>\n",
       "      <td>Tea</td>\n",
       "      <td>6.0000</td>\n",
       "    </tr>\n",
       "    <tr>\n",
       "      <th>41</th>\n",
       "      <td>22</td>\n",
       "      <td>Male</td>\n",
       "      <td>three</td>\n",
       "      <td>no</td>\n",
       "      <td>3.5</td>\n",
       "      <td>no</td>\n",
       "      <td>east</td>\n",
       "      <td>sometimes</td>\n",
       "      <td>no</td>\n",
       "      <td>Tea</td>\n",
       "      <td>6.0000</td>\n",
       "    </tr>\n",
       "    <tr>\n",
       "      <th>42</th>\n",
       "      <td>21</td>\n",
       "      <td>Male</td>\n",
       "      <td>two</td>\n",
       "      <td>no</td>\n",
       "      <td>4.5</td>\n",
       "      <td>no</td>\n",
       "      <td>east</td>\n",
       "      <td>sometimes</td>\n",
       "      <td>no</td>\n",
       "      <td>Tea</td>\n",
       "      <td>7.0000</td>\n",
       "    </tr>\n",
       "    <tr>\n",
       "      <th>43</th>\n",
       "      <td>24</td>\n",
       "      <td>Male</td>\n",
       "      <td>three</td>\n",
       "      <td>no</td>\n",
       "      <td>4.5</td>\n",
       "      <td>yes</td>\n",
       "      <td>east</td>\n",
       "      <td>sometimes</td>\n",
       "      <td>no</td>\n",
       "      <td>none of the above</td>\n",
       "      <td>4.0000</td>\n",
       "    </tr>\n",
       "    <tr>\n",
       "      <th>44</th>\n",
       "      <td>25</td>\n",
       "      <td>Prefer not to say</td>\n",
       "      <td>three</td>\n",
       "      <td>yes</td>\n",
       "      <td>4.5</td>\n",
       "      <td>yes</td>\n",
       "      <td>east</td>\n",
       "      <td>yes</td>\n",
       "      <td>yes</td>\n",
       "      <td>Tea and Coffee both</td>\n",
       "      <td>8.0000</td>\n",
       "    </tr>\n",
       "    <tr>\n",
       "      <th>45</th>\n",
       "      <td>23</td>\n",
       "      <td>Female</td>\n",
       "      <td>three</td>\n",
       "      <td>no</td>\n",
       "      <td>4.5</td>\n",
       "      <td>yes</td>\n",
       "      <td>east</td>\n",
       "      <td>sometimes</td>\n",
       "      <td>no</td>\n",
       "      <td>Tea</td>\n",
       "      <td>8.0000</td>\n",
       "    </tr>\n",
       "  </tbody>\n",
       "</table>\n",
       "</div>"
      ],
      "text/plain": [
       "    Age             Gender    meals/day physical illness  screen time  \\\n",
       "0    22               Male          two               no          2.0   \n",
       "1    22             Female        three               no          3.5   \n",
       "2    23               Male        three               no          3.5   \n",
       "3    23             Female          two               no          1.5   \n",
       "4    22               Male        three               no          4.5   \n",
       "5    22               Male          two               no          2.5   \n",
       "6    22               Male         four               no          1.5   \n",
       "7    24             Female        three              yes          4.5   \n",
       "8    24               Male         four               no          2.5   \n",
       "9    23             Female        three               no          4.5   \n",
       "10   28             Female        three               no          0.5   \n",
       "11   59               Male          two               no          0.5   \n",
       "12   23             Female        three               no          4.5   \n",
       "13   25  Prefer not to say  more than 5               no          4.5   \n",
       "14   23               Male        three               no          3.5   \n",
       "15   23             Female          two               no          2.5   \n",
       "16   24               Male        three               no          4.5   \n",
       "17   24               Male          two               no          4.5   \n",
       "18   23               Male        three               no          1.5   \n",
       "19   22               Male          two              yes          2.5   \n",
       "20   23               Male        three               no          4.5   \n",
       "21   39             Female         five               no          2.5   \n",
       "22   23             Female        three               no          3.5   \n",
       "23   25             Female          two               no          4.5   \n",
       "24   23               Male        three               no          4.5   \n",
       "25   22               Male         four               no          1.5   \n",
       "26   25             Female        three               no          2.5   \n",
       "27   50               Male          two               no          1.5   \n",
       "28   23             Female        three               no          4.5   \n",
       "29   20               Male          one               no          4.5   \n",
       "30   23             Female          two               no          2.5   \n",
       "31   23             Female        three               no          4.5   \n",
       "32   23             Female        three               no          3.5   \n",
       "33   22               Male          one               no          4.5   \n",
       "34   22               Male          two               no          1.5   \n",
       "35   21               Male          one              yes          4.5   \n",
       "36   24               Male          two               no          4.5   \n",
       "37   25               Male          two               no          2.5   \n",
       "38   22               Male          two               no          4.5   \n",
       "39   23             Female        three               no          4.5   \n",
       "40   22             Female          two               no          3.5   \n",
       "41   22               Male        three               no          3.5   \n",
       "42   21               Male          two               no          4.5   \n",
       "43   24               Male        three               no          4.5   \n",
       "44   25  Prefer not to say        three              yes          4.5   \n",
       "45   23             Female        three               no          4.5   \n",
       "\n",
       "   bluelight filter sleep direction   exercise smoke/drink  \\\n",
       "0               yes            west  sometimes          no   \n",
       "1                no           south         no          no   \n",
       "2                no           south         no          no   \n",
       "3                no            east  sometimes          no   \n",
       "4               yes            east  sometimes         yes   \n",
       "5               yes            west  sometimes          no   \n",
       "6               yes           south        yes          no   \n",
       "7                no            east  sometimes          no   \n",
       "8               yes            east        yes          no   \n",
       "9               yes           north        yes         yes   \n",
       "10              yes           north        yes          no   \n",
       "11               no            west         no          no   \n",
       "12               no            west  sometimes          no   \n",
       "13              yes            east        yes          no   \n",
       "14               no           north  sometimes          no   \n",
       "15              yes            west        yes          no   \n",
       "16               no            west         no          no   \n",
       "17              yes           north  sometimes          no   \n",
       "18              yes            west        yes         yes   \n",
       "19              yes           south  sometimes          no   \n",
       "20              yes            west         no          no   \n",
       "21              yes            west         no          no   \n",
       "22               no           north  sometimes          no   \n",
       "23               no           south  sometimes          no   \n",
       "24               no           north  sometimes          no   \n",
       "25              yes           north  sometimes          no   \n",
       "26               no            east  sometimes          no   \n",
       "27               no            west        yes          no   \n",
       "28              yes            west         no          no   \n",
       "29               no            west         no          no   \n",
       "30               no            west         no          no   \n",
       "31              yes            east        yes          no   \n",
       "32               no            east  sometimes          no   \n",
       "33               no           north  sometimes          no   \n",
       "34              yes           north  sometimes          no   \n",
       "35              yes            west         no          no   \n",
       "36               no            west  sometimes          no   \n",
       "37              yes            east  sometimes          no   \n",
       "38              yes            east         no          no   \n",
       "39              yes            west        yes          no   \n",
       "40               no           south        yes          no   \n",
       "41               no            east  sometimes          no   \n",
       "42               no            east  sometimes          no   \n",
       "43              yes            east  sometimes          no   \n",
       "44              yes            east        yes         yes   \n",
       "45              yes            east  sometimes          no   \n",
       "\n",
       "               beverage  sleep time  \n",
       "0                   Tea      6.7575  \n",
       "1                Coffee      8.0000  \n",
       "2                   Tea      8.0000  \n",
       "3                Coffee      6.5000  \n",
       "4   Tea and Coffee both      6.0000  \n",
       "5                   Tea      6.7575  \n",
       "6     none of the above      7.0000  \n",
       "7                   Tea      6.5000  \n",
       "8     none of the above      8.0000  \n",
       "9   Tea and Coffee both      7.0000  \n",
       "10                  Tea      6.5000  \n",
       "11                  Tea      6.0000  \n",
       "12                  Tea      8.0000  \n",
       "13               Coffee      1.5000  \n",
       "14               Coffee      8.0000  \n",
       "15    none of the above      8.0000  \n",
       "16    none of the above      7.0000  \n",
       "17    none of the above      8.0000  \n",
       "18                  Tea      8.0000  \n",
       "19                  Tea      7.0000  \n",
       "20                  Tea      7.0000  \n",
       "21  Tea and Coffee both      6.0000  \n",
       "22                  Tea      7.0000  \n",
       "23    none of the above      7.0000  \n",
       "24                  Tea      7.0000  \n",
       "25  Tea and Coffee both      5.0000  \n",
       "26  Tea and Coffee both      5.0000  \n",
       "27    none of the above      8.0000  \n",
       "28                  Tea      7.0000  \n",
       "29               Coffee      3.3300  \n",
       "30                  Tea      9.0000  \n",
       "31                  Tea      7.0000  \n",
       "32  Tea and Coffee both      6.0000  \n",
       "33  Tea and Coffee both      8.0000  \n",
       "34                  Tea      7.0000  \n",
       "35    none of the above      7.0000  \n",
       "36    none of the above      7.0000  \n",
       "37                  Tea      7.0000  \n",
       "38                  Tea      7.0000  \n",
       "39               Coffee      6.0000  \n",
       "40                  Tea      6.0000  \n",
       "41                  Tea      6.0000  \n",
       "42                  Tea      7.0000  \n",
       "43    none of the above      4.0000  \n",
       "44  Tea and Coffee both      8.0000  \n",
       "45                  Tea      8.0000  "
      ]
     },
     "execution_count": 7,
     "metadata": {},
     "output_type": "execute_result"
    }
   ],
   "source": [
    "df = pd.read_csv(\"https://raw.githubusercontent.com/601GroupProject/601_GroupProject/main/Sleep_Analysis.csv\")\n",
    "df.head(46)"
   ]
  },
  {
   "cell_type": "markdown",
   "id": "0f768fca",
   "metadata": {},
   "source": [
    "# Visualizing the Data Set"
   ]
  },
  {
   "cell_type": "markdown",
   "id": "b0631ee8",
   "metadata": {},
   "source": [
    "## From the below graph we can observe that:\n",
    "- Age group of 20 to 25 has about 7 to 8 hours of sleep duration at night\n",
    "- Age group of 20 to 25 has about 6 to 7 Hours of smartphone screen time usage \n",
    "- People with smartphone screen time usage of about 6 to 7 Hours recorded 7 to 8 hours of sleep duration"
   ]
  },
  {
   "cell_type": "code",
   "execution_count": 8,
   "id": "4cef11be",
   "metadata": {},
   "outputs": [
    {
     "data": {
      "text/plain": [
       "<Figure size 800x640 with 0 Axes>"
      ]
     },
     "metadata": {},
     "output_type": "display_data"
    },
    {
     "data": {
      "image/png": "[encoded data removed]",
      "text/plain": [
       "<Figure size 660.475x540 with 12 Axes>"
      ]
     },
     "metadata": {},
     "output_type": "display_data"
    }
   ],
   "source": [
    "plt.figure(figsize=(10,8), dpi= 80)\n",
    "sns.pairplot(df, kind=\"scatter\", hue=\"Gender\", plot_kws=dict(s=80, edgecolor=\"white\", linewidth=2.5))\n",
    "plt.show()"
   ]
  },
  {
   "cell_type": "code",
   "execution_count": 9,
   "id": "e6027080",
   "metadata": {
    "scrolled": true
   },
   "outputs": [
    {
     "data": {
      "text/html": [
       "<div>\n",
       "<style scoped>\n",
       "    .dataframe tbody tr th:only-of-type {\n",
       "        vertical-align: middle;\n",
       "    }\n",
       "\n",
       "    .dataframe tbody tr th {\n",
       "        vertical-align: top;\n",
       "    }\n",
       "\n",
       "    .dataframe thead th {\n",
       "        text-align: right;\n",
       "    }\n",
       "</style>\n",
       "<table border=\"1\" class=\"dataframe\">\n",
       "  <thead>\n",
       "    <tr style=\"text-align: right;\">\n",
       "      <th></th>\n",
       "      <th>Age</th>\n",
       "      <th>screen time</th>\n",
       "      <th>sleep time</th>\n",
       "    </tr>\n",
       "  </thead>\n",
       "  <tbody>\n",
       "    <tr>\n",
       "      <th>count</th>\n",
       "      <td>46.000000</td>\n",
       "      <td>46.000000</td>\n",
       "      <td>46.000000</td>\n",
       "    </tr>\n",
       "    <tr>\n",
       "      <th>mean</th>\n",
       "      <td>24.760870</td>\n",
       "      <td>3.380435</td>\n",
       "      <td>6.757500</td>\n",
       "    </tr>\n",
       "    <tr>\n",
       "      <th>std</th>\n",
       "      <td>7.021189</td>\n",
       "      <td>1.278822</td>\n",
       "      <td>1.348921</td>\n",
       "    </tr>\n",
       "    <tr>\n",
       "      <th>min</th>\n",
       "      <td>20.000000</td>\n",
       "      <td>0.500000</td>\n",
       "      <td>1.500000</td>\n",
       "    </tr>\n",
       "    <tr>\n",
       "      <th>25%</th>\n",
       "      <td>22.000000</td>\n",
       "      <td>2.500000</td>\n",
       "      <td>6.125000</td>\n",
       "    </tr>\n",
       "    <tr>\n",
       "      <th>50%</th>\n",
       "      <td>23.000000</td>\n",
       "      <td>3.500000</td>\n",
       "      <td>7.000000</td>\n",
       "    </tr>\n",
       "    <tr>\n",
       "      <th>75%</th>\n",
       "      <td>24.000000</td>\n",
       "      <td>4.500000</td>\n",
       "      <td>8.000000</td>\n",
       "    </tr>\n",
       "    <tr>\n",
       "      <th>max</th>\n",
       "      <td>59.000000</td>\n",
       "      <td>4.500000</td>\n",
       "      <td>9.000000</td>\n",
       "    </tr>\n",
       "  </tbody>\n",
       "</table>\n",
       "</div>"
      ],
      "text/plain": [
       "             Age  screen time  sleep time\n",
       "count  46.000000    46.000000   46.000000\n",
       "mean   24.760870     3.380435    6.757500\n",
       "std     7.021189     1.278822    1.348921\n",
       "min    20.000000     0.500000    1.500000\n",
       "25%    22.000000     2.500000    6.125000\n",
       "50%    23.000000     3.500000    7.000000\n",
       "75%    24.000000     4.500000    8.000000\n",
       "max    59.000000     4.500000    9.000000"
      ]
     },
     "execution_count": 9,
     "metadata": {},
     "output_type": "execute_result"
    }
   ],
   "source": [
    "df.describe()"
   ]
  },
  {
   "cell_type": "code",
   "execution_count": 10,
   "id": "524cebad",
   "metadata": {},
   "outputs": [
    {
     "name": "stdout",
     "output_type": "stream",
     "text": [
      "<class 'pandas.core.frame.DataFrame'>\n",
      "RangeIndex: 46 entries, 0 to 45\n",
      "Data columns (total 11 columns):\n",
      " #   Column            Non-Null Count  Dtype  \n",
      "---  ------            --------------  -----  \n",
      " 0   Age               46 non-null     int64  \n",
      " 1   Gender            46 non-null     object \n",
      " 2   meals/day         46 non-null     object \n",
      " 3   physical illness  46 non-null     object \n",
      " 4   screen time       46 non-null     float64\n",
      " 5   bluelight filter  46 non-null     object \n",
      " 6   sleep direction   46 non-null     object \n",
      " 7   exercise          46 non-null     object \n",
      " 8   smoke/drink       46 non-null     object \n",
      " 9   beverage          46 non-null     object \n",
      " 10  sleep time        46 non-null     float64\n",
      "dtypes: float64(2), int64(1), object(8)\n",
      "memory usage: 4.1+ KB\n"
     ]
    }
   ],
   "source": [
    "df.info()"
   ]
  },
  {
   "cell_type": "markdown",
   "id": "dd4060ef",
   "metadata": {},
   "source": [
    "# 1. Analytical Methods: Across All Genders and Ages"
   ]
  },
  {
   "cell_type": "markdown",
   "id": "aa6a920a",
   "metadata": {},
   "source": [
    "## 1.1 Data Visualization"
   ]
  },
  {
   "cell_type": "markdown",
   "id": "53a614f7",
   "metadata": {},
   "source": [
    "### Smartphone Screen Time vs Sleep Duration Across All Genders and Ages (Figure 1.1)"
   ]
  },
  {
   "cell_type": "code",
   "execution_count": 52,
   "id": "1c900ff8",
   "metadata": {
    "scrolled": true
   },
   "outputs": [
    {
     "data": {
      "image/png": "[encoded data removed]",
      "text/plain": [
       "<Figure size 1152x432 with 1 Axes>"
      ]
     },
     "metadata": {},
     "output_type": "display_data"
    }
   ],
   "source": [
    "fig_dims = (16, 6)\n",
    "fig, ax = plt.subplots(figsize=fig_dims)\n",
    "g = sns.barplot(x='screen time', y='sleep time', data=df).set(xlabel =\"Screen Time\", ylabel = \"Sleep Time\",title='Figure 1.1. Smartphone Screen Time vs Sleep Duration Across All Genders and Ages')"
   ]
  },
  {
   "cell_type": "markdown",
   "id": "2899ad8b",
   "metadata": {},
   "source": [
    "## 1.2 OLS Linear Regression"
   ]
  },
  {
   "cell_type": "markdown",
   "id": "cb93a877",
   "metadata": {},
   "source": [
    "### Regression Summary: Smartphone Screen Time vs Sleep Duration Across All Genders and Ages"
   ]
  },
  {
   "cell_type": "code",
   "execution_count": 12,
   "id": "5e0a85ab",
   "metadata": {},
   "outputs": [
    {
     "data": {
      "text/html": [
       "<table class=\"simpletable\">\n",
       "<caption>OLS Regression Results</caption>\n",
       "<tr>\n",
       "  <th>Dep. Variable:</th>       <td>sleep time</td>    <th>  R-squared:         </th> <td>   0.006</td>\n",
       "</tr>\n",
       "<tr>\n",
       "  <th>Model:</th>                   <td>OLS</td>       <th>  Adj. R-squared:    </th> <td>  -0.017</td>\n",
       "</tr>\n",
       "<tr>\n",
       "  <th>Method:</th>             <td>Least Squares</td>  <th>  F-statistic:       </th> <td>  0.2554</td>\n",
       "</tr>\n",
       "<tr>\n",
       "  <th>Date:</th>             <td>Wed, 15 Dec 2021</td> <th>  Prob (F-statistic):</th>  <td> 0.616</td> \n",
       "</tr>\n",
       "<tr>\n",
       "  <th>Time:</th>                 <td>21:56:43</td>     <th>  Log-Likelihood:    </th> <td> -78.401</td>\n",
       "</tr>\n",
       "<tr>\n",
       "  <th>No. Observations:</th>      <td>    46</td>      <th>  AIC:               </th> <td>   160.8</td>\n",
       "</tr>\n",
       "<tr>\n",
       "  <th>Df Residuals:</th>          <td>    44</td>      <th>  BIC:               </th> <td>   164.5</td>\n",
       "</tr>\n",
       "<tr>\n",
       "  <th>Df Model:</th>              <td>     1</td>      <th>                     </th>     <td> </td>   \n",
       "</tr>\n",
       "<tr>\n",
       "  <th>Covariance Type:</th>      <td>nonrobust</td>    <th>                     </th>     <td> </td>   \n",
       "</tr>\n",
       "</table>\n",
       "<table class=\"simpletable\">\n",
       "<tr>\n",
       "       <td></td>          <th>coef</th>     <th>std err</th>      <th>t</th>      <th>P>|t|</th>  <th>[0.025</th>    <th>0.975]</th>  \n",
       "</tr>\n",
       "<tr>\n",
       "  <th>const</th>       <td>    7.0284</td> <td>    0.572</td> <td>   12.281</td> <td> 0.000</td> <td>    5.875</td> <td>    8.182</td>\n",
       "</tr>\n",
       "<tr>\n",
       "  <th>screen time</th> <td>   -0.0801</td> <td>    0.159</td> <td>   -0.505</td> <td> 0.616</td> <td>   -0.400</td> <td>    0.239</td>\n",
       "</tr>\n",
       "</table>\n",
       "<table class=\"simpletable\">\n",
       "<tr>\n",
       "  <th>Omnibus:</th>       <td>25.658</td> <th>  Durbin-Watson:     </th> <td>   2.435</td>\n",
       "</tr>\n",
       "<tr>\n",
       "  <th>Prob(Omnibus):</th> <td> 0.000</td> <th>  Jarque-Bera (JB):  </th> <td>  46.832</td>\n",
       "</tr>\n",
       "<tr>\n",
       "  <th>Skew:</th>          <td>-1.631</td> <th>  Prob(JB):          </th> <td>6.77e-11</td>\n",
       "</tr>\n",
       "<tr>\n",
       "  <th>Kurtosis:</th>      <td> 6.714</td> <th>  Cond. No.          </th> <td>    11.0</td>\n",
       "</tr>\n",
       "</table><br/><br/>Notes:<br/>[1] Standard Errors assume that the covariance matrix of the errors is correctly specified."
      ],
      "text/plain": [
       "<class 'statsmodels.iolib.summary.Summary'>\n",
       "\"\"\"\n",
       "                            OLS Regression Results                            \n",
       "==============================================================================\n",
       "Dep. Variable:             sleep time   R-squared:                       0.006\n",
       "Model:                            OLS   Adj. R-squared:                 -0.017\n",
       "Method:                 Least Squares   F-statistic:                    0.2554\n",
       "Date:                Wed, 15 Dec 2021   Prob (F-statistic):              0.616\n",
       "Time:                        21:56:43   Log-Likelihood:                -78.401\n",
       "No. Observations:                  46   AIC:                             160.8\n",
       "Df Residuals:                      44   BIC:                             164.5\n",
       "Df Model:                           1                                         \n",
       "Covariance Type:            nonrobust                                         \n",
       "===============================================================================\n",
       "                  coef    std err          t      P>|t|      [0.025      0.975]\n",
       "-------------------------------------------------------------------------------\n",
       "const           7.0284      0.572     12.281      0.000       5.875       8.182\n",
       "screen time    -0.0801      0.159     -0.505      0.616      -0.400       0.239\n",
       "==============================================================================\n",
       "Omnibus:                       25.658   Durbin-Watson:                   2.435\n",
       "Prob(Omnibus):                  0.000   Jarque-Bera (JB):               46.832\n",
       "Skew:                          -1.631   Prob(JB):                     6.77e-11\n",
       "Kurtosis:                       6.714   Cond. No.                         11.0\n",
       "==============================================================================\n",
       "\n",
       "Notes:\n",
       "[1] Standard Errors assume that the covariance matrix of the errors is correctly specified.\n",
       "\"\"\""
      ]
     },
     "execution_count": 12,
     "metadata": {},
     "output_type": "execute_result"
    }
   ],
   "source": [
    "X_df = df['screen time']\n",
    "y_df = df['sleep time']\n",
    "\n",
    "# Adding a constant to get an intercept\n",
    "cst_slptime_scrtime_df = sm.add_constant(X_df)\n",
    "\n",
    "# Fitting the resgression line using 'OLS'\n",
    "lr = sm.OLS(y_df, cst_slptime_scrtime_df).fit()\n",
    "\n",
    "lr.summary()"
   ]
  },
  {
   "cell_type": "markdown",
   "id": "422f279a",
   "metadata": {},
   "source": [
    "### Linear Regression Plot: Smartphone Screen Time vs Sleep Duration Across All Genders and Ages (Figure 1.2)"
   ]
  },
  {
   "cell_type": "code",
   "execution_count": 56,
   "id": "81510d3e",
   "metadata": {},
   "outputs": [
    {
     "data": {
      "image/png": "[encoded data removed]",
      "text/plain": [
       "<Figure size 504x360 with 1 Axes>"
      ]
     },
     "metadata": {},
     "output_type": "display_data"
    }
   ],
   "source": [
    "plt.scatter(X_df, y_df)\n",
    "plt.plot(X_df, 7.0284 + (-0.0801)*X_df, 'r')\n",
    "plt.title('Figure 1.2. Linear Regression Plot: Smartphone Screen Time vs Sleep Duration Across All Genders and Ages')\n",
    "plt.xlabel('Smartphone Screen Time (Hours)')\n",
    "plt.ylabel('Sleep Duration (Hours)')\n",
    "plt.show()"
   ]
  },
  {
   "cell_type": "markdown",
   "id": "1e0c9ca0",
   "metadata": {},
   "source": [
    "## 1.3 Residual Analysis"
   ]
  },
  {
   "cell_type": "markdown",
   "id": "2475de7b",
   "metadata": {},
   "source": [
    "### Smartphone Screen Time vs Sleep Duration Across All Genders and Ages (Figure 1.3 and Figure 1.4)"
   ]
  },
  {
   "cell_type": "code",
   "execution_count": 69,
   "id": "5de30594",
   "metadata": {},
   "outputs": [
    {
     "name": "stderr",
     "output_type": "stream",
     "text": [
      "/Users/hetvipatel/opt/anaconda3/envs/Pandas/lib/python3.8/site-packages/seaborn/distributions.py:2619: FutureWarning:\n",
      "\n",
      "`distplot` is a deprecated function and will be removed in a future version. Please adapt your code to use either `displot` (a figure-level function with similar flexibility) or `histplot` (an axes-level function for histograms).\n",
      "\n"
     ]
    },
    {
     "data": {
      "image/png": "[encoded data removed]",
      "text/plain": [
       "<Figure size 504x360 with 1 Axes>"
      ]
     },
     "metadata": {},
     "output_type": "display_data"
    },
    {
     "data": {
      "image/png": "[encoded data removed]",
      "text/plain": [
       "<Figure size 504x360 with 1 Axes>"
      ]
     },
     "metadata": {},
     "output_type": "display_data"
    }
   ],
   "source": [
    "# Predicting y_df using the data of X_df\n",
    "y_prediction_df = lr.predict(cst_slptime_scrtime_df)\n",
    "\n",
    "# Creating residuals from the y_prediction_df data and predicted data\n",
    "res = (y_df - y_prediction_df)\n",
    "\n",
    "fig = plt.figure()\n",
    "sns.distplot(res, bins = 15)\n",
    "plt.title('Figure 1.3. Residual Graph of Smartphone Screen Time vs Sleep Duration Across All Genders and Ages', fontsize = 13)\n",
    "plt.xlabel('Screen time - Sleep time Prediction Values ', fontsize = 13)\n",
    "plt.show()\n",
    "\n",
    "# Looking for any patterns in the residuals\n",
    "plt.scatter(X_df,res)\n",
    "plt.title('Figure 1.4. Residual Scatter Plot of Smartphone Screen Time vs Sleep Duration Across All Genders and Ages', fontsize = 13)\n",
    "plt.xlabel('Screen Time (Hours)', fontsize = 13)\n",
    "plt.ylabel('Residual Results', fontsize = 13)\n",
    "plt.show()"
   ]
  },
  {
   "cell_type": "markdown",
   "id": "2b106d06",
   "metadata": {},
   "source": [
    "# 2. Analytical Methods: Males"
   ]
  },
  {
   "cell_type": "markdown",
   "id": "714dda33",
   "metadata": {},
   "source": [
    "### Creating a Dataframe for Males"
   ]
  },
  {
   "cell_type": "code",
   "execution_count": 16,
   "id": "abf20207",
   "metadata": {},
   "outputs": [
    {
     "data": {
      "text/html": [
       "<div>\n",
       "<style scoped>\n",
       "    .dataframe tbody tr th:only-of-type {\n",
       "        vertical-align: middle;\n",
       "    }\n",
       "\n",
       "    .dataframe tbody tr th {\n",
       "        vertical-align: top;\n",
       "    }\n",
       "\n",
       "    .dataframe thead th {\n",
       "        text-align: right;\n",
       "    }\n",
       "</style>\n",
       "<table border=\"1\" class=\"dataframe\">\n",
       "  <thead>\n",
       "    <tr style=\"text-align: right;\">\n",
       "      <th></th>\n",
       "      <th>Age</th>\n",
       "      <th>Gender</th>\n",
       "      <th>meals/day</th>\n",
       "      <th>physical illness</th>\n",
       "      <th>screen time</th>\n",
       "      <th>bluelight filter</th>\n",
       "      <th>sleep direction</th>\n",
       "      <th>exercise</th>\n",
       "      <th>smoke/drink</th>\n",
       "      <th>beverage</th>\n",
       "      <th>sleep time</th>\n",
       "    </tr>\n",
       "  </thead>\n",
       "  <tbody>\n",
       "    <tr>\n",
       "      <th>0</th>\n",
       "      <td>22</td>\n",
       "      <td>Male</td>\n",
       "      <td>two</td>\n",
       "      <td>no</td>\n",
       "      <td>2.0</td>\n",
       "      <td>yes</td>\n",
       "      <td>west</td>\n",
       "      <td>sometimes</td>\n",
       "      <td>no</td>\n",
       "      <td>Tea</td>\n",
       "      <td>6.7575</td>\n",
       "    </tr>\n",
       "    <tr>\n",
       "      <th>2</th>\n",
       "      <td>23</td>\n",
       "      <td>Male</td>\n",
       "      <td>three</td>\n",
       "      <td>no</td>\n",
       "      <td>3.5</td>\n",
       "      <td>no</td>\n",
       "      <td>south</td>\n",
       "      <td>no</td>\n",
       "      <td>no</td>\n",
       "      <td>Tea</td>\n",
       "      <td>8.0000</td>\n",
       "    </tr>\n",
       "    <tr>\n",
       "      <th>4</th>\n",
       "      <td>22</td>\n",
       "      <td>Male</td>\n",
       "      <td>three</td>\n",
       "      <td>no</td>\n",
       "      <td>4.5</td>\n",
       "      <td>yes</td>\n",
       "      <td>east</td>\n",
       "      <td>sometimes</td>\n",
       "      <td>yes</td>\n",
       "      <td>Tea and Coffee both</td>\n",
       "      <td>6.0000</td>\n",
       "    </tr>\n",
       "    <tr>\n",
       "      <th>5</th>\n",
       "      <td>22</td>\n",
       "      <td>Male</td>\n",
       "      <td>two</td>\n",
       "      <td>no</td>\n",
       "      <td>2.5</td>\n",
       "      <td>yes</td>\n",
       "      <td>west</td>\n",
       "      <td>sometimes</td>\n",
       "      <td>no</td>\n",
       "      <td>Tea</td>\n",
       "      <td>6.7575</td>\n",
       "    </tr>\n",
       "    <tr>\n",
       "      <th>6</th>\n",
       "      <td>22</td>\n",
       "      <td>Male</td>\n",
       "      <td>four</td>\n",
       "      <td>no</td>\n",
       "      <td>1.5</td>\n",
       "      <td>yes</td>\n",
       "      <td>south</td>\n",
       "      <td>yes</td>\n",
       "      <td>no</td>\n",
       "      <td>none of the above</td>\n",
       "      <td>7.0000</td>\n",
       "    </tr>\n",
       "  </tbody>\n",
       "</table>\n",
       "</div>"
      ],
      "text/plain": [
       "   Age Gender meals/day physical illness  screen time bluelight filter  \\\n",
       "0   22   Male       two               no          2.0              yes   \n",
       "2   23   Male     three               no          3.5               no   \n",
       "4   22   Male     three               no          4.5              yes   \n",
       "5   22   Male       two               no          2.5              yes   \n",
       "6   22   Male      four               no          1.5              yes   \n",
       "\n",
       "  sleep direction   exercise smoke/drink             beverage  sleep time  \n",
       "0            west  sometimes          no                  Tea      6.7575  \n",
       "2           south         no          no                  Tea      8.0000  \n",
       "4            east  sometimes         yes  Tea and Coffee both      6.0000  \n",
       "5            west  sometimes          no                  Tea      6.7575  \n",
       "6           south        yes          no    none of the above      7.0000  "
      ]
     },
     "execution_count": 16,
     "metadata": {},
     "output_type": "execute_result"
    }
   ],
   "source": [
    "df_male= df[df[\"Gender\"]=='Male']\n",
    "df_male.head()"
   ]
  },
  {
   "cell_type": "markdown",
   "id": "a998af4f",
   "metadata": {},
   "source": [
    "## 2.1 Data Visualization"
   ]
  },
  {
   "cell_type": "markdown",
   "id": "0be94d78",
   "metadata": {},
   "source": [
    "### Smartphone Screen Time vs Sleep Duration in Males (Figure 2.1)"
   ]
  },
  {
   "cell_type": "code",
   "execution_count": 63,
   "id": "b15e79fc",
   "metadata": {},
   "outputs": [
    {
     "data": {
      "image/png": "[encoded data removed]",
      "text/plain": [
       "<Figure size 1152x432 with 1 Axes>"
      ]
     },
     "metadata": {},
     "output_type": "display_data"
    }
   ],
   "source": [
    "fig_dims = (16, 6)\n",
    "fig, ax = plt.subplots(figsize=fig_dims)\n",
    "g = sns.barplot(x='screen time', y='sleep time', data=df_male).set(xlabel =\"Screen Time (Hours)\", ylabel = \"Sleep Time (Hours)\",title='Figure 2.1. Smartphone Screen Time vs Sleep Duration in Males')"
   ]
  },
  {
   "cell_type": "markdown",
   "id": "9bfd933e",
   "metadata": {},
   "source": [
    "### Age vs Smartphone Screen Time in Males (Figure 2.2)"
   ]
  },
  {
   "cell_type": "code",
   "execution_count": 62,
   "id": "76574f0b",
   "metadata": {},
   "outputs": [
    {
     "data": {
      "image/png": "[encoded data removed]",
      "text/plain": [
       "<Figure size 1152x432 with 1 Axes>"
      ]
     },
     "metadata": {},
     "output_type": "display_data"
    }
   ],
   "source": [
    "fig_dims = (16, 6)\n",
    "fig, ax = plt.subplots(figsize=fig_dims)\n",
    "g = sns.barplot(x='Age', y='screen time', data=df_male).set(xlabel =\"Age (Years)\", ylabel = \"Screen Time (Hours)\",title='Figure 2.2. Age Vs Smartphone Screen Time in Males')"
   ]
  },
  {
   "cell_type": "markdown",
   "id": "d1428a71",
   "metadata": {},
   "source": [
    "## Age vs Sleep Duration in Males (Figure 2.3)"
   ]
  },
  {
   "cell_type": "code",
   "execution_count": 64,
   "id": "9d077968",
   "metadata": {},
   "outputs": [
    {
     "data": {
      "image/png": "[encoded data removed]",
      "text/plain": [
       "<Figure size 1152x432 with 1 Axes>"
      ]
     },
     "metadata": {},
     "output_type": "display_data"
    }
   ],
   "source": [
    "fig_dims = (16, 6)\n",
    "fig, ax = plt.subplots(figsize=fig_dims)\n",
    "g = sns.barplot(x='Age', y='sleep time', data=df_male).set(xlabel =\"Age (Years)\", ylabel = \"Sleep Time (Hours)\",title='Figure 2.3. Age vs Sleep Duration in Males')"
   ]
  },
  {
   "cell_type": "code",
   "execution_count": 65,
   "id": "cf8ab250",
   "metadata": {},
   "outputs": [
    {
     "data": {
      "application/vnd.plotly.v1+json": {
       "config": {
        "plotlyServerURL": "https://plot.ly"
       },
       "data": [
        {
         "domain": {
          "x": [
           0,
           1
          ],
          "y": [
           0,
           1
          ]
         },
         "hovertemplate": "Age=%{label}<br>sleep time=%{value}<extra></extra>",
         "labels": [
          22,
          23,
          22,
          22,
          22,
          24,
          59,
          23,
          24,
          24,
          23,
          22,
          23,
          23,
          22,
          50,
          20,
          22,
          22,
          21,
          24,
          25,
          22,
          22,
          21,
          24
         ],
         "legendgroup": "",
         "name": "",
         "showlegend": true,
         "textinfo": "percent+label",
         "textposition": "inside",
         "type": "pie",
         "values": [
          6.7575,
          8,
          6,
          6.7575,
          7,
          8,
          6,
          8,
          7,
          8,
          8,
          7,
          7,
          7,
          5,
          8,
          3.33,
          8,
          7,
          7,
          7,
          7,
          7,
          6,
          7,
          4
         ]
        }
       ],
       "layout": {
        "legend": {
         "tracegroupgap": 0
        },
        "template": {
         "data": {
          "bar": [
           {
            "error_x": {
             "color": "#f2f5fa"
            },
            "error_y": {
             "color": "#f2f5fa"
            },
            "marker": {
             "line": {
              "color": "rgb(17,17,17)",
              "width": 0.5
             },
             "pattern": {
              "fillmode": "overlay",
              "size": 10,
              "solidity": 0.2
             }
            },
            "type": "bar"
           }
          ],
          "barpolar": [
           {
            "marker": {
             "line": {
              "color": "rgb(17,17,17)",
              "width": 0.5
             },
             "pattern": {
              "fillmode": "overlay",
              "size": 10,
              "solidity": 0.2
             }
            },
            "type": "barpolar"
           }
          ],
          "carpet": [
           {
            "aaxis": {
             "endlinecolor": "#A2B1C6",
             "gridcolor": "#506784",
             "linecolor": "#506784",
             "minorgridcolor": "#506784",
             "startlinecolor": "#A2B1C6"
            },
            "baxis": {
             "endlinecolor": "#A2B1C6",
             "gridcolor": "#506784",
             "linecolor": "#506784",
             "minorgridcolor": "#506784",
             "startlinecolor": "#A2B1C6"
            },
            "type": "carpet"
           }
          ],
          "choropleth": [
           {
            "colorbar": {
             "outlinewidth": 0,
             "ticks": ""
            },
            "type": "choropleth"
           }
          ],
          "contour": [
           {
            "colorbar": {
             "outlinewidth": 0,
             "ticks": ""
            },
            "colorscale": [
             [
              0,
              "#0d0887"
             ],
             [
              0.1111111111111111,
              "#46039f"
             ],
             [
              0.2222222222222222,
              "#7201a8"
             ],
             [
              0.3333333333333333,
              "#9c179e"
             ],
             [
              0.4444444444444444,
              "#bd3786"
             ],
             [
              0.5555555555555556,
              "#d8576b"
             ],
             [
              0.6666666666666666,
              "#ed7953"
             ],
             [
              0.7777777777777778,
              "#fb9f3a"
             ],
             [
              0.8888888888888888,
              "#fdca26"
             ],
             [
              1,
              "#f0f921"
             ]
            ],
            "type": "contour"
           }
          ],
          "contourcarpet": [
           {
            "colorbar": {
             "outlinewidth": 0,
             "ticks": ""
            },
            "type": "contourcarpet"
           }
          ],
          "heatmap": [
           {
            "colorbar": {
             "outlinewidth": 0,
             "ticks": ""
            },
            "colorscale": [
             [
              0,
              "#0d0887"
             ],
             [
              0.1111111111111111,
              "#46039f"
             ],
             [
              0.2222222222222222,
              "#7201a8"
             ],
             [
              0.3333333333333333,
              "#9c179e"
             ],
             [
              0.4444444444444444,
              "#bd3786"
             ],
             [
              0.5555555555555556,
              "#d8576b"
             ],
             [
              0.6666666666666666,
              "#ed7953"
             ],
             [
              0.7777777777777778,
              "#fb9f3a"
             ],
             [
              0.8888888888888888,
              "#fdca26"
             ],
             [
              1,
              "#f0f921"
             ]
            ],
            "type": "heatmap"
           }
          ],
          "heatmapgl": [
           {
            "colorbar": {
             "outlinewidth": 0,
             "ticks": ""
            },
            "colorscale": [
             [
              0,
              "#0d0887"
             ],
             [
              0.1111111111111111,
              "#46039f"
             ],
             [
              0.2222222222222222,
              "#7201a8"
             ],
             [
              0.3333333333333333,
              "#9c179e"
             ],
             [
              0.4444444444444444,
              "#bd3786"
             ],
             [
              0.5555555555555556,
              "#d8576b"
             ],
             [
              0.6666666666666666,
              "#ed7953"
             ],
             [
              0.7777777777777778,
              "#fb9f3a"
             ],
             [
              0.8888888888888888,
              "#fdca26"
             ],
             [
              1,
              "#f0f921"
             ]
            ],
            "type": "heatmapgl"
           }
          ],
          "histogram": [
           {
            "marker": {
             "pattern": {
              "fillmode": "overlay",
              "size": 10,
              "solidity": 0.2
             }
            },
            "type": "histogram"
           }
          ],
          "histogram2d": [
           {
            "colorbar": {
             "outlinewidth": 0,
             "ticks": ""
            },
            "colorscale": [
             [
              0,
              "#0d0887"
             ],
             [
              0.1111111111111111,
              "#46039f"
             ],
             [
              0.2222222222222222,
              "#7201a8"
             ],
             [
              0.3333333333333333,
              "#9c179e"
             ],
             [
              0.4444444444444444,
              "#bd3786"
             ],
             [
              0.5555555555555556,
              "#d8576b"
             ],
             [
              0.6666666666666666,
              "#ed7953"
             ],
             [
              0.7777777777777778,
              "#fb9f3a"
             ],
             [
              0.8888888888888888,
              "#fdca26"
             ],
             [
              1,
              "#f0f921"
             ]
            ],
            "type": "histogram2d"
           }
          ],
          "histogram2dcontour": [
           {
            "colorbar": {
             "outlinewidth": 0,
             "ticks": ""
            },
            "colorscale": [
             [
              0,
              "#0d0887"
             ],
             [
              0.1111111111111111,
              "#46039f"
             ],
             [
              0.2222222222222222,
              "#7201a8"
             ],
             [
              0.3333333333333333,
              "#9c179e"
             ],
             [
              0.4444444444444444,
              "#bd3786"
             ],
             [
              0.5555555555555556,
              "#d8576b"
             ],
             [
              0.6666666666666666,
              "#ed7953"
             ],
             [
              0.7777777777777778,
              "#fb9f3a"
             ],
             [
              0.8888888888888888,
              "#fdca26"
             ],
             [
              1,
              "#f0f921"
             ]
            ],
            "type": "histogram2dcontour"
           }
          ],
          "mesh3d": [
           {
            "colorbar": {
             "outlinewidth": 0,
             "ticks": ""
            },
            "type": "mesh3d"
           }
          ],
          "parcoords": [
           {
            "line": {
             "colorbar": {
              "outlinewidth": 0,
              "ticks": ""
             }
            },
            "type": "parcoords"
           }
          ],
          "pie": [
           {
            "automargin": true,
            "type": "pie"
           }
          ],
          "scatter": [
           {
            "marker": {
             "line": {
              "color": "#283442"
             }
            },
            "type": "scatter"
           }
          ],
          "scatter3d": [
           {
            "line": {
             "colorbar": {
              "outlinewidth": 0,
              "ticks": ""
             }
            },
            "marker": {
             "colorbar": {
              "outlinewidth": 0,
              "ticks": ""
             }
            },
            "type": "scatter3d"
           }
          ],
          "scattercarpet": [
           {
            "marker": {
             "colorbar": {
              "outlinewidth": 0,
              "ticks": ""
             }
            },
            "type": "scattercarpet"
           }
          ],
          "scattergeo": [
           {
            "marker": {
             "colorbar": {
              "outlinewidth": 0,
              "ticks": ""
             }
            },
            "type": "scattergeo"
           }
          ],
          "scattergl": [
           {
            "marker": {
             "line": {
              "color": "#283442"
             }
            },
            "type": "scattergl"
           }
          ],
          "scattermapbox": [
           {
            "marker": {
             "colorbar": {
              "outlinewidth": 0,
              "ticks": ""
             }
            },
            "type": "scattermapbox"
           }
          ],
          "scatterpolar": [
           {
            "marker": {
             "colorbar": {
              "outlinewidth": 0,
              "ticks": ""
             }
            },
            "type": "scatterpolar"
           }
          ],
          "scatterpolargl": [
           {
            "marker": {
             "colorbar": {
              "outlinewidth": 0,
              "ticks": ""
             }
            },
            "type": "scatterpolargl"
           }
          ],
          "scatterternary": [
           {
            "marker": {
             "colorbar": {
              "outlinewidth": 0,
              "ticks": ""
             }
            },
            "type": "scatterternary"
           }
          ],
          "surface": [
           {
            "colorbar": {
             "outlinewidth": 0,
             "ticks": ""
            },
            "colorscale": [
             [
              0,
              "#0d0887"
             ],
             [
              0.1111111111111111,
              "#46039f"
             ],
             [
              0.2222222222222222,
              "#7201a8"
             ],
             [
              0.3333333333333333,
              "#9c179e"
             ],
             [
              0.4444444444444444,
              "#bd3786"
             ],
             [
              0.5555555555555556,
              "#d8576b"
             ],
             [
              0.6666666666666666,
              "#ed7953"
             ],
             [
              0.7777777777777778,
              "#fb9f3a"
             ],
             [
              0.8888888888888888,
              "#fdca26"
             ],
             [
              1,
              "#f0f921"
             ]
            ],
            "type": "surface"
           }
          ],
          "table": [
           {
            "cells": {
             "fill": {
              "color": "#506784"
             },
             "line": {
              "color": "rgb(17,17,17)"
             }
            },
            "header": {
             "fill": {
              "color": "#2a3f5f"
             },
             "line": {
              "color": "rgb(17,17,17)"
             }
            },
            "type": "table"
           }
          ]
         },
         "layout": {
          "annotationdefaults": {
           "arrowcolor": "#f2f5fa",
           "arrowhead": 0,
           "arrowwidth": 1
          },
          "autotypenumbers": "strict",
          "coloraxis": {
           "colorbar": {
            "outlinewidth": 0,
            "ticks": ""
           }
          },
          "colorscale": {
           "diverging": [
            [
             0,
             "#8e0152"
            ],
            [
             0.1,
             "#c51b7d"
            ],
            [
             0.2,
             "#de77ae"
            ],
            [
             0.3,
             "#f1b6da"
            ],
            [
             0.4,
             "#fde0ef"
            ],
            [
             0.5,
             "#f7f7f7"
            ],
            [
             0.6,
             "#e6f5d0"
            ],
            [
             0.7,
             "#b8e186"
            ],
            [
             0.8,
             "#7fbc41"
            ],
            [
             0.9,
             "#4d9221"
            ],
            [
             1,
             "#276419"
            ]
           ],
           "sequential": [
            [
             0,
             "#0d0887"
            ],
            [
             0.1111111111111111,
             "#46039f"
            ],
            [
             0.2222222222222222,
             "#7201a8"
            ],
            [
             0.3333333333333333,
             "#9c179e"
            ],
            [
             0.4444444444444444,
             "#bd3786"
            ],
            [
             0.5555555555555556,
             "#d8576b"
            ],
            [
             0.6666666666666666,
             "#ed7953"
            ],
            [
             0.7777777777777778,
             "#fb9f3a"
            ],
            [
             0.8888888888888888,
             "#fdca26"
            ],
            [
             1,
             "#f0f921"
            ]
           ],
           "sequentialminus": [
            [
             0,
             "#0d0887"
            ],
            [
             0.1111111111111111,
             "#46039f"
            ],
            [
             0.2222222222222222,
             "#7201a8"
            ],
            [
             0.3333333333333333,
             "#9c179e"
            ],
            [
             0.4444444444444444,
             "#bd3786"
            ],
            [
             0.5555555555555556,
             "#d8576b"
            ],
            [
             0.6666666666666666,
             "#ed7953"
            ],
            [
             0.7777777777777778,
             "#fb9f3a"
            ],
            [
             0.8888888888888888,
             "#fdca26"
            ],
            [
             1,
             "#f0f921"
            ]
           ]
          },
          "colorway": [
           "#636efa",
           "#EF553B",
           "#00cc96",
           "#ab63fa",
           "#FFA15A",
           "#19d3f3",
           "#FF6692",
           "#B6E880",
           "#FF97FF",
           "#FECB52"
          ],
          "font": {
           "color": "#f2f5fa"
          },
          "geo": {
           "bgcolor": "rgb(17,17,17)",
           "lakecolor": "rgb(17,17,17)",
           "landcolor": "rgb(17,17,17)",
           "showlakes": true,
           "showland": true,
           "subunitcolor": "#506784"
          },
          "hoverlabel": {
           "align": "left"
          },
          "hovermode": "closest",
          "mapbox": {
           "style": "dark"
          },
          "paper_bgcolor": "rgb(17,17,17)",
          "plot_bgcolor": "rgb(17,17,17)",
          "polar": {
           "angularaxis": {
            "gridcolor": "#506784",
            "linecolor": "#506784",
            "ticks": ""
           },
           "bgcolor": "rgb(17,17,17)",
           "radialaxis": {
            "gridcolor": "#506784",
            "linecolor": "#506784",
            "ticks": ""
           }
          },
          "scene": {
           "xaxis": {
            "backgroundcolor": "rgb(17,17,17)",
            "gridcolor": "#506784",
            "gridwidth": 2,
            "linecolor": "#506784",
            "showbackground": true,
            "ticks": "",
            "zerolinecolor": "#C8D4E3"
           },
           "yaxis": {
            "backgroundcolor": "rgb(17,17,17)",
            "gridcolor": "#506784",
            "gridwidth": 2,
            "linecolor": "#506784",
            "showbackground": true,
            "ticks": "",
            "zerolinecolor": "#C8D4E3"
           },
           "zaxis": {
            "backgroundcolor": "rgb(17,17,17)",
            "gridcolor": "#506784",
            "gridwidth": 2,
            "linecolor": "#506784",
            "showbackground": true,
            "ticks": "",
            "zerolinecolor": "#C8D4E3"
           }
          },
          "shapedefaults": {
           "line": {
            "color": "#f2f5fa"
           }
          },
          "sliderdefaults": {
           "bgcolor": "#C8D4E3",
           "bordercolor": "rgb(17,17,17)",
           "borderwidth": 1,
           "tickwidth": 0
          },
          "ternary": {
           "aaxis": {
            "gridcolor": "#506784",
            "linecolor": "#506784",
            "ticks": ""
           },
           "baxis": {
            "gridcolor": "#506784",
            "linecolor": "#506784",
            "ticks": ""
           },
           "bgcolor": "rgb(17,17,17)",
           "caxis": {
            "gridcolor": "#506784",
            "linecolor": "#506784",
            "ticks": ""
           }
          },
          "title": {
           "x": 0.05
          },
          "updatemenudefaults": {
           "bgcolor": "#506784",
           "borderwidth": 0
          },
          "xaxis": {
           "automargin": true,
           "gridcolor": "#283442",
           "linecolor": "#506784",
           "ticks": "",
           "title": {
            "standoff": 15
           },
           "zerolinecolor": "#283442",
           "zerolinewidth": 2
          },
          "yaxis": {
           "automargin": true,
           "gridcolor": "#283442",
           "linecolor": "#506784",
           "ticks": "",
           "title": {
            "standoff": 15
           },
           "zerolinecolor": "#283442",
           "zerolinewidth": 2
          }
         }
        },
        "title": {
         "text": "Figure 2.4. Pie Chart Representation of Age vs Sleep Duration in Males"
        }
       }
      },
      "text/html": [
       "<div>                            <div id=\"c9ce81af-2503-45a7-a20f-84eb6b64b7c3\" class=\"plotly-graph-div\" style=\"height:525px; width:100%;\"></div>            <script type=\"text/javascript\">                require([\"plotly\"], function(Plotly) {                    window.PLOTLYENV=window.PLOTLYENV || {};                                    if (document.getElementById(\"c9ce81af-2503-45a7-a20f-84eb6b64b7c3\")) {                    Plotly.newPlot(                        \"c9ce81af-2503-45a7-a20f-84eb6b64b7c3\",                        [{\"domain\":{\"x\":[0.0,1.0],\"y\":[0.0,1.0]},\"hovertemplate\":\"Age=%{label}<br>sleep time=%{value}<extra></extra>\",\"labels\":[22,23,22,22,22,24,59,23,24,24,23,22,23,23,22,50,20,22,22,21,24,25,22,22,21,24],\"legendgroup\":\"\",\"name\":\"\",\"showlegend\":true,\"values\":[6.7575,8.0,6.0,6.7575,7.0,8.0,6.0,8.0,7.0,8.0,8.0,7.0,7.0,7.0,5.0,8.0,3.33,8.0,7.0,7.0,7.0,7.0,7.0,6.0,7.0,4.0],\"type\":\"pie\",\"textinfo\":\"percent+label\",\"textposition\":\"inside\"}],                        {\"template\":{\"data\":{\"bar\":[{\"error_x\":{\"color\":\"#f2f5fa\"},\"error_y\":{\"color\":\"#f2f5fa\"},\"marker\":{\"line\":{\"color\":\"rgb(17,17,17)\",\"width\":0.5},\"pattern\":{\"fillmode\":\"overlay\",\"size\":10,\"solidity\":0.2}},\"type\":\"bar\"}],\"barpolar\":[{\"marker\":{\"line\":{\"color\":\"rgb(17,17,17)\",\"width\":0.5},\"pattern\":{\"fillmode\":\"overlay\",\"size\":10,\"solidity\":0.2}},\"type\":\"barpolar\"}],\"carpet\":[{\"aaxis\":{\"endlinecolor\":\"#A2B1C6\",\"gridcolor\":\"#506784\",\"linecolor\":\"#506784\",\"minorgridcolor\":\"#506784\",\"startlinecolor\":\"#A2B1C6\"},\"baxis\":{\"endlinecolor\":\"#A2B1C6\",\"gridcolor\":\"#506784\",\"linecolor\":\"#506784\",\"minorgridcolor\":\"#506784\",\"startlinecolor\":\"#A2B1C6\"},\"type\":\"carpet\"}],\"choropleth\":[{\"colorbar\":{\"outlinewidth\":0,\"ticks\":\"\"},\"type\":\"choropleth\"}],\"contour\":[{\"colorbar\":{\"outlinewidth\":0,\"ticks\":\"\"},\"colorscale\":[[0.0,\"#0d0887\"],[0.1111111111111111,\"#46039f\"],[0.2222222222222222,\"#7201a8\"],[0.3333333333333333,\"#9c179e\"],[0.4444444444444444,\"#bd3786\"],[0.5555555555555556,\"#d8576b\"],[0.6666666666666666,\"#ed7953\"],[0.7777777777777778,\"#fb9f3a\"],[0.8888888888888888,\"#fdca26\"],[1.0,\"#f0f921\"]],\"type\":\"contour\"}],\"contourcarpet\":[{\"colorbar\":{\"outlinewidth\":0,\"ticks\":\"\"},\"type\":\"contourcarpet\"}],\"heatmap\":[{\"colorbar\":{\"outlinewidth\":0,\"ticks\":\"\"},\"colorscale\":[[0.0,\"#0d0887\"],[0.1111111111111111,\"#46039f\"],[0.2222222222222222,\"#7201a8\"],[0.3333333333333333,\"#9c179e\"],[0.4444444444444444,\"#bd3786\"],[0.5555555555555556,\"#d8576b\"],[0.6666666666666666,\"#ed7953\"],[0.7777777777777778,\"#fb9f3a\"],[0.8888888888888888,\"#fdca26\"],[1.0,\"#f0f921\"]],\"type\":\"heatmap\"}],\"heatmapgl\":[{\"colorbar\":{\"outlinewidth\":0,\"ticks\":\"\"},\"colorscale\":[[0.0,\"#0d0887\"],[0.1111111111111111,\"#46039f\"],[0.2222222222222222,\"#7201a8\"],[0.3333333333333333,\"#9c179e\"],[0.4444444444444444,\"#bd3786\"],[0.5555555555555556,\"#d8576b\"],[0.6666666666666666,\"#ed7953\"],[0.7777777777777778,\"#fb9f3a\"],[0.8888888888888888,\"#fdca26\"],[1.0,\"#f0f921\"]],\"type\":\"heatmapgl\"}],\"histogram\":[{\"marker\":{\"pattern\":{\"fillmode\":\"overlay\",\"size\":10,\"solidity\":0.2}},\"type\":\"histogram\"}],\"histogram2d\":[{\"colorbar\":{\"outlinewidth\":0,\"ticks\":\"\"},\"colorscale\":[[0.0,\"#0d0887\"],[0.1111111111111111,\"#46039f\"],[0.2222222222222222,\"#7201a8\"],[0.3333333333333333,\"#9c179e\"],[0.4444444444444444,\"#bd3786\"],[0.5555555555555556,\"#d8576b\"],[0.6666666666666666,\"#ed7953\"],[0.7777777777777778,\"#fb9f3a\"],[0.8888888888888888,\"#fdca26\"],[1.0,\"#f0f921\"]],\"type\":\"histogram2d\"}],\"histogram2dcontour\":[{\"colorbar\":{\"outlinewidth\":0,\"ticks\":\"\"},\"colorscale\":[[0.0,\"#0d0887\"],[0.1111111111111111,\"#46039f\"],[0.2222222222222222,\"#7201a8\"],[0.3333333333333333,\"#9c179e\"],[0.4444444444444444,\"#bd3786\"],[0.5555555555555556,\"#d8576b\"],[0.6666666666666666,\"#ed7953\"],[0.7777777777777778,\"#fb9f3a\"],[0.8888888888888888,\"#fdca26\"],[1.0,\"#f0f921\"]],\"type\":\"histogram2dcontour\"}],\"mesh3d\":[{\"colorbar\":{\"outlinewidth\":0,\"ticks\":\"\"},\"type\":\"mesh3d\"}],\"parcoords\":[{\"line\":{\"colorbar\":{\"outlinewidth\":0,\"ticks\":\"\"}},\"type\":\"parcoords\"}],\"pie\":[{\"automargin\":true,\"type\":\"pie\"}],\"scatter\":[{\"marker\":{\"line\":{\"color\":\"#283442\"}},\"type\":\"scatter\"}],\"scatter3d\":[{\"line\":{\"colorbar\":{\"outlinewidth\":0,\"ticks\":\"\"}},\"marker\":{\"colorbar\":{\"outlinewidth\":0,\"ticks\":\"\"}},\"type\":\"scatter3d\"}],\"scattercarpet\":[{\"marker\":{\"colorbar\":{\"outlinewidth\":0,\"ticks\":\"\"}},\"type\":\"scattercarpet\"}],\"scattergeo\":[{\"marker\":{\"colorbar\":{\"outlinewidth\":0,\"ticks\":\"\"}},\"type\":\"scattergeo\"}],\"scattergl\":[{\"marker\":{\"line\":{\"color\":\"#283442\"}},\"type\":\"scattergl\"}],\"scattermapbox\":[{\"marker\":{\"colorbar\":{\"outlinewidth\":0,\"ticks\":\"\"}},\"type\":\"scattermapbox\"}],\"scatterpolar\":[{\"marker\":{\"colorbar\":{\"outlinewidth\":0,\"ticks\":\"\"}},\"type\":\"scatterpolar\"}],\"scatterpolargl\":[{\"marker\":{\"colorbar\":{\"outlinewidth\":0,\"ticks\":\"\"}},\"type\":\"scatterpolargl\"}],\"scatterternary\":[{\"marker\":{\"colorbar\":{\"outlinewidth\":0,\"ticks\":\"\"}},\"type\":\"scatterternary\"}],\"surface\":[{\"colorbar\":{\"outlinewidth\":0,\"ticks\":\"\"},\"colorscale\":[[0.0,\"#0d0887\"],[0.1111111111111111,\"#46039f\"],[0.2222222222222222,\"#7201a8\"],[0.3333333333333333,\"#9c179e\"],[0.4444444444444444,\"#bd3786\"],[0.5555555555555556,\"#d8576b\"],[0.6666666666666666,\"#ed7953\"],[0.7777777777777778,\"#fb9f3a\"],[0.8888888888888888,\"#fdca26\"],[1.0,\"#f0f921\"]],\"type\":\"surface\"}],\"table\":[{\"cells\":{\"fill\":{\"color\":\"#506784\"},\"line\":{\"color\":\"rgb(17,17,17)\"}},\"header\":{\"fill\":{\"color\":\"#2a3f5f\"},\"line\":{\"color\":\"rgb(17,17,17)\"}},\"type\":\"table\"}]},\"layout\":{\"annotationdefaults\":{\"arrowcolor\":\"#f2f5fa\",\"arrowhead\":0,\"arrowwidth\":1},\"autotypenumbers\":\"strict\",\"coloraxis\":{\"colorbar\":{\"outlinewidth\":0,\"ticks\":\"\"}},\"colorscale\":{\"diverging\":[[0,\"#8e0152\"],[0.1,\"#c51b7d\"],[0.2,\"#de77ae\"],[0.3,\"#f1b6da\"],[0.4,\"#fde0ef\"],[0.5,\"#f7f7f7\"],[0.6,\"#e6f5d0\"],[0.7,\"#b8e186\"],[0.8,\"#7fbc41\"],[0.9,\"#4d9221\"],[1,\"#276419\"]],\"sequential\":[[0.0,\"#0d0887\"],[0.1111111111111111,\"#46039f\"],[0.2222222222222222,\"#7201a8\"],[0.3333333333333333,\"#9c179e\"],[0.4444444444444444,\"#bd3786\"],[0.5555555555555556,\"#d8576b\"],[0.6666666666666666,\"#ed7953\"],[0.7777777777777778,\"#fb9f3a\"],[0.8888888888888888,\"#fdca26\"],[1.0,\"#f0f921\"]],\"sequentialminus\":[[0.0,\"#0d0887\"],[0.1111111111111111,\"#46039f\"],[0.2222222222222222,\"#7201a8\"],[0.3333333333333333,\"#9c179e\"],[0.4444444444444444,\"#bd3786\"],[0.5555555555555556,\"#d8576b\"],[0.6666666666666666,\"#ed7953\"],[0.7777777777777778,\"#fb9f3a\"],[0.8888888888888888,\"#fdca26\"],[1.0,\"#f0f921\"]]},\"colorway\":[\"#636efa\",\"#EF553B\",\"#00cc96\",\"#ab63fa\",\"#FFA15A\",\"#19d3f3\",\"#FF6692\",\"#B6E880\",\"#FF97FF\",\"#FECB52\"],\"font\":{\"color\":\"#f2f5fa\"},\"geo\":{\"bgcolor\":\"rgb(17,17,17)\",\"lakecolor\":\"rgb(17,17,17)\",\"landcolor\":\"rgb(17,17,17)\",\"showlakes\":true,\"showland\":true,\"subunitcolor\":\"#506784\"},\"hoverlabel\":{\"align\":\"left\"},\"hovermode\":\"closest\",\"mapbox\":{\"style\":\"dark\"},\"paper_bgcolor\":\"rgb(17,17,17)\",\"plot_bgcolor\":\"rgb(17,17,17)\",\"polar\":{\"angularaxis\":{\"gridcolor\":\"#506784\",\"linecolor\":\"#506784\",\"ticks\":\"\"},\"bgcolor\":\"rgb(17,17,17)\",\"radialaxis\":{\"gridcolor\":\"#506784\",\"linecolor\":\"#506784\",\"ticks\":\"\"}},\"scene\":{\"xaxis\":{\"backgroundcolor\":\"rgb(17,17,17)\",\"gridcolor\":\"#506784\",\"gridwidth\":2,\"linecolor\":\"#506784\",\"showbackground\":true,\"ticks\":\"\",\"zerolinecolor\":\"#C8D4E3\"},\"yaxis\":{\"backgroundcolor\":\"rgb(17,17,17)\",\"gridcolor\":\"#506784\",\"gridwidth\":2,\"linecolor\":\"#506784\",\"showbackground\":true,\"ticks\":\"\",\"zerolinecolor\":\"#C8D4E3\"},\"zaxis\":{\"backgroundcolor\":\"rgb(17,17,17)\",\"gridcolor\":\"#506784\",\"gridwidth\":2,\"linecolor\":\"#506784\",\"showbackground\":true,\"ticks\":\"\",\"zerolinecolor\":\"#C8D4E3\"}},\"shapedefaults\":{\"line\":{\"color\":\"#f2f5fa\"}},\"sliderdefaults\":{\"bgcolor\":\"#C8D4E3\",\"bordercolor\":\"rgb(17,17,17)\",\"borderwidth\":1,\"tickwidth\":0},\"ternary\":{\"aaxis\":{\"gridcolor\":\"#506784\",\"linecolor\":\"#506784\",\"ticks\":\"\"},\"baxis\":{\"gridcolor\":\"#506784\",\"linecolor\":\"#506784\",\"ticks\":\"\"},\"bgcolor\":\"rgb(17,17,17)\",\"caxis\":{\"gridcolor\":\"#506784\",\"linecolor\":\"#506784\",\"ticks\":\"\"}},\"title\":{\"x\":0.05},\"updatemenudefaults\":{\"bgcolor\":\"#506784\",\"borderwidth\":0},\"xaxis\":{\"automargin\":true,\"gridcolor\":\"#283442\",\"linecolor\":\"#506784\",\"ticks\":\"\",\"title\":{\"standoff\":15},\"zerolinecolor\":\"#283442\",\"zerolinewidth\":2},\"yaxis\":{\"automargin\":true,\"gridcolor\":\"#283442\",\"linecolor\":\"#506784\",\"ticks\":\"\",\"title\":{\"standoff\":15},\"zerolinecolor\":\"#283442\",\"zerolinewidth\":2}}},\"legend\":{\"tracegroupgap\":0},\"title\":{\"text\":\"Figure 2.4. Pie Chart Representation of Age vs Sleep Duration in Males\"}},                        {\"responsive\": true}                    ).then(function(){\n",
       "                            \n",
       "var gd = document.getElementById('c9ce81af-2503-45a7-a20f-84eb6b64b7c3');\n",
       "var x = new MutationObserver(function (mutations, observer) {{\n",
       "        var display = window.getComputedStyle(gd).display;\n",
       "        if (!display || display === 'none') {{\n",
       "            console.log([gd, 'removed!']);\n",
       "            Plotly.purge(gd);\n",
       "            observer.disconnect();\n",
       "        }}\n",
       "}});\n",
       "\n",
       "// Listen for the removal of the full notebook cells\n",
       "var notebookContainer = gd.closest('#notebook-container');\n",
       "if (notebookContainer) {{\n",
       "    x.observe(notebookContainer, {childList: true});\n",
       "}}\n",
       "\n",
       "// Listen for the clearing of the current output cell\n",
       "var outputEl = gd.closest('.output');\n",
       "if (outputEl) {{\n",
       "    x.observe(outputEl, {childList: true});\n",
       "}}\n",
       "\n",
       "                        })                };                });            </script>        </div>"
      ]
     },
     "metadata": {},
     "output_type": "display_data"
    }
   ],
   "source": [
    "fig = px.pie(\n",
    "    df_male,\n",
    "    values='sleep time',\n",
    "    names=\"Age\",\n",
    "    title=\"Figure 2.4. Pie Chart Representation of Age vs Sleep Duration in Males\"\n",
    ")\n",
    "fig.update_traces(textposition='inside', textinfo='percent+label')\n",
    "fig.show()"
   ]
  },
  {
   "cell_type": "markdown",
   "id": "9ae79537",
   "metadata": {},
   "source": [
    "## 2.2 OLS Linear Regression"
   ]
  },
  {
   "cell_type": "markdown",
   "id": "fed3e0ee",
   "metadata": {},
   "source": [
    "### Regression Summary: Smartphone Screen Time vs Sleep Duration in Males"
   ]
  },
  {
   "cell_type": "code",
   "execution_count": 66,
   "id": "d888b1df",
   "metadata": {},
   "outputs": [
    {
     "data": {
      "text/html": [
       "<table class=\"simpletable\">\n",
       "<caption>OLS Regression Results</caption>\n",
       "<tr>\n",
       "  <th>Dep. Variable:</th>       <td>sleep time</td>    <th>  R-squared:         </th> <td>   0.012</td>\n",
       "</tr>\n",
       "<tr>\n",
       "  <th>Model:</th>                   <td>OLS</td>       <th>  Adj. R-squared:    </th> <td>  -0.030</td>\n",
       "</tr>\n",
       "<tr>\n",
       "  <th>Method:</th>             <td>Least Squares</td>  <th>  F-statistic:       </th> <td>  0.2835</td>\n",
       "</tr>\n",
       "<tr>\n",
       "  <th>Date:</th>             <td>Wed, 15 Dec 2021</td> <th>  Prob (F-statistic):</th>  <td> 0.599</td> \n",
       "</tr>\n",
       "<tr>\n",
       "  <th>Time:</th>                 <td>22:24:07</td>     <th>  Log-Likelihood:    </th> <td> -40.812</td>\n",
       "</tr>\n",
       "<tr>\n",
       "  <th>No. Observations:</th>      <td>    26</td>      <th>  AIC:               </th> <td>   85.62</td>\n",
       "</tr>\n",
       "<tr>\n",
       "  <th>Df Residuals:</th>          <td>    24</td>      <th>  BIC:               </th> <td>   88.14</td>\n",
       "</tr>\n",
       "<tr>\n",
       "  <th>Df Model:</th>              <td>     1</td>      <th>                     </th>     <td> </td>   \n",
       "</tr>\n",
       "<tr>\n",
       "  <th>Covariance Type:</th>      <td>nonrobust</td>    <th>                     </th>     <td> </td>   \n",
       "</tr>\n",
       "</table>\n",
       "<table class=\"simpletable\">\n",
       "<tr>\n",
       "       <td></td>          <th>coef</th>     <th>std err</th>      <th>t</th>      <th>P>|t|</th>  <th>[0.025</th>    <th>0.975]</th>  \n",
       "</tr>\n",
       "<tr>\n",
       "  <th>const</th>       <td>    7.1118</td> <td>    0.629</td> <td>   11.310</td> <td> 0.000</td> <td>    5.814</td> <td>    8.410</td>\n",
       "</tr>\n",
       "<tr>\n",
       "  <th>screen time</th> <td>   -0.0954</td> <td>    0.179</td> <td>   -0.532</td> <td> 0.599</td> <td>   -0.465</td> <td>    0.274</td>\n",
       "</tr>\n",
       "</table>\n",
       "<table class=\"simpletable\">\n",
       "<tr>\n",
       "  <th>Omnibus:</th>       <td>11.408</td> <th>  Durbin-Watson:     </th> <td>   2.513</td>\n",
       "</tr>\n",
       "<tr>\n",
       "  <th>Prob(Omnibus):</th> <td> 0.003</td> <th>  Jarque-Bera (JB):  </th> <td>   9.861</td>\n",
       "</tr>\n",
       "<tr>\n",
       "  <th>Skew:</th>          <td>-1.334</td> <th>  Prob(JB):          </th> <td> 0.00722</td>\n",
       "</tr>\n",
       "<tr>\n",
       "  <th>Kurtosis:</th>      <td> 4.407</td> <th>  Cond. No.          </th> <td>    9.95</td>\n",
       "</tr>\n",
       "</table><br/><br/>Notes:<br/>[1] Standard Errors assume that the covariance matrix of the errors is correctly specified."
      ],
      "text/plain": [
       "<class 'statsmodels.iolib.summary.Summary'>\n",
       "\"\"\"\n",
       "                            OLS Regression Results                            \n",
       "==============================================================================\n",
       "Dep. Variable:             sleep time   R-squared:                       0.012\n",
       "Model:                            OLS   Adj. R-squared:                 -0.030\n",
       "Method:                 Least Squares   F-statistic:                    0.2835\n",
       "Date:                Wed, 15 Dec 2021   Prob (F-statistic):              0.599\n",
       "Time:                        22:24:07   Log-Likelihood:                -40.812\n",
       "No. Observations:                  26   AIC:                             85.62\n",
       "Df Residuals:                      24   BIC:                             88.14\n",
       "Df Model:                           1                                         \n",
       "Covariance Type:            nonrobust                                         \n",
       "===============================================================================\n",
       "                  coef    std err          t      P>|t|      [0.025      0.975]\n",
       "-------------------------------------------------------------------------------\n",
       "const           7.1118      0.629     11.310      0.000       5.814       8.410\n",
       "screen time    -0.0954      0.179     -0.532      0.599      -0.465       0.274\n",
       "==============================================================================\n",
       "Omnibus:                       11.408   Durbin-Watson:                   2.513\n",
       "Prob(Omnibus):                  0.003   Jarque-Bera (JB):                9.861\n",
       "Skew:                          -1.334   Prob(JB):                      0.00722\n",
       "Kurtosis:                       4.407   Cond. No.                         9.95\n",
       "==============================================================================\n",
       "\n",
       "Notes:\n",
       "[1] Standard Errors assume that the covariance matrix of the errors is correctly specified.\n",
       "\"\"\""
      ]
     },
     "execution_count": 66,
     "metadata": {},
     "output_type": "execute_result"
    }
   ],
   "source": [
    "X = df_male['screen time']\n",
    "y = df_male['sleep time']\n",
    "\n",
    "# Adding a constant to get an intercept\n",
    "cst_slptime_scrtime = sm.add_constant(X)\n",
    "\n",
    "# Fitting the resgression line using 'OLS'\n",
    "lr = sm.OLS(y, cst_slptime_scrtime).fit()\n",
    "\n",
    "lr.summary()"
   ]
  },
  {
   "cell_type": "markdown",
   "id": "6e07aeda",
   "metadata": {},
   "source": [
    "### Linear Regression Plot: Smartphone Screen Time vs Sleep Duration in Males (Figure 2.5)"
   ]
  },
  {
   "cell_type": "code",
   "execution_count": 68,
   "id": "f905affa",
   "metadata": {},
   "outputs": [
    {
     "data": {
      "image/png": "[encoded data removed]",
      "text/plain": [
       "<Figure size 504x360 with 1 Axes>"
      ]
     },
     "metadata": {},
     "output_type": "display_data"
    }
   ],
   "source": [
    "plt.scatter(X, y)\n",
    "plt.plot(X, 7.1118 + (-0.0954)*X, 'r')\n",
    "plt.title('Figure 2.5. Linear Regression Plot: Smartphone Screen Time vs Sleep Duration in Males')\n",
    "plt.xlabel('Smartphone Screen Time (Hours)')\n",
    "plt.ylabel('Sleep Duration (Hours)')\n",
    "plt.show()"
   ]
  },
  {
   "cell_type": "markdown",
   "id": "5ce4adff",
   "metadata": {},
   "source": [
    "### Regression Summary: Age vs Sleep Duration in Males"
   ]
  },
  {
   "cell_type": "code",
   "execution_count": 23,
   "id": "b5cc7455",
   "metadata": {},
   "outputs": [
    {
     "data": {
      "text/html": [
       "<table class=\"simpletable\">\n",
       "<caption>OLS Regression Results</caption>\n",
       "<tr>\n",
       "  <th>Dep. Variable:</th>       <td>sleep time</td>    <th>  R-squared:         </th> <td>   0.003</td>\n",
       "</tr>\n",
       "<tr>\n",
       "  <th>Model:</th>                   <td>OLS</td>       <th>  Adj. R-squared:    </th> <td>  -0.038</td>\n",
       "</tr>\n",
       "<tr>\n",
       "  <th>Method:</th>             <td>Least Squares</td>  <th>  F-statistic:       </th> <td> 0.07803</td>\n",
       "</tr>\n",
       "<tr>\n",
       "  <th>Date:</th>             <td>Wed, 15 Dec 2021</td> <th>  Prob (F-statistic):</th>  <td> 0.782</td> \n",
       "</tr>\n",
       "<tr>\n",
       "  <th>Time:</th>                 <td>21:56:45</td>     <th>  Log-Likelihood:    </th> <td> -40.922</td>\n",
       "</tr>\n",
       "<tr>\n",
       "  <th>No. Observations:</th>      <td>    26</td>      <th>  AIC:               </th> <td>   85.84</td>\n",
       "</tr>\n",
       "<tr>\n",
       "  <th>Df Residuals:</th>          <td>    24</td>      <th>  BIC:               </th> <td>   88.36</td>\n",
       "</tr>\n",
       "<tr>\n",
       "  <th>Df Model:</th>              <td>     1</td>      <th>                     </th>     <td> </td>   \n",
       "</tr>\n",
       "<tr>\n",
       "  <th>Covariance Type:</th>      <td>nonrobust</td>    <th>                     </th>     <td> </td>   \n",
       "</tr>\n",
       "</table>\n",
       "<table class=\"simpletable\">\n",
       "<tr>\n",
       "    <td></td>       <th>coef</th>     <th>std err</th>      <th>t</th>      <th>P>|t|</th>  <th>[0.025</th>    <th>0.975]</th>  \n",
       "</tr>\n",
       "<tr>\n",
       "  <th>const</th> <td>    6.6094</td> <td>    0.729</td> <td>    9.070</td> <td> 0.000</td> <td>    5.105</td> <td>    8.113</td>\n",
       "</tr>\n",
       "<tr>\n",
       "  <th>Age</th>   <td>    0.0077</td> <td>    0.028</td> <td>    0.279</td> <td> 0.782</td> <td>   -0.049</td> <td>    0.064</td>\n",
       "</tr>\n",
       "</table>\n",
       "<table class=\"simpletable\">\n",
       "<tr>\n",
       "  <th>Omnibus:</th>       <td>12.722</td> <th>  Durbin-Watson:     </th> <td>   2.417</td>\n",
       "</tr>\n",
       "<tr>\n",
       "  <th>Prob(Omnibus):</th> <td> 0.002</td> <th>  Jarque-Bera (JB):  </th> <td>  11.600</td>\n",
       "</tr>\n",
       "<tr>\n",
       "  <th>Skew:</th>          <td>-1.406</td> <th>  Prob(JB):          </th> <td> 0.00303</td>\n",
       "</tr>\n",
       "<tr>\n",
       "  <th>Kurtosis:</th>      <td> 4.673</td> <th>  Cond. No.          </th> <td>    81.1</td>\n",
       "</tr>\n",
       "</table><br/><br/>Notes:<br/>[1] Standard Errors assume that the covariance matrix of the errors is correctly specified."
      ],
      "text/plain": [
       "<class 'statsmodels.iolib.summary.Summary'>\n",
       "\"\"\"\n",
       "                            OLS Regression Results                            \n",
       "==============================================================================\n",
       "Dep. Variable:             sleep time   R-squared:                       0.003\n",
       "Model:                            OLS   Adj. R-squared:                 -0.038\n",
       "Method:                 Least Squares   F-statistic:                   0.07803\n",
       "Date:                Wed, 15 Dec 2021   Prob (F-statistic):              0.782\n",
       "Time:                        21:56:45   Log-Likelihood:                -40.922\n",
       "No. Observations:                  26   AIC:                             85.84\n",
       "Df Residuals:                      24   BIC:                             88.36\n",
       "Df Model:                           1                                         \n",
       "Covariance Type:            nonrobust                                         \n",
       "==============================================================================\n",
       "                 coef    std err          t      P>|t|      [0.025      0.975]\n",
       "------------------------------------------------------------------------------\n",
       "const          6.6094      0.729      9.070      0.000       5.105       8.113\n",
       "Age            0.0077      0.028      0.279      0.782      -0.049       0.064\n",
       "==============================================================================\n",
       "Omnibus:                       12.722   Durbin-Watson:                   2.417\n",
       "Prob(Omnibus):                  0.002   Jarque-Bera (JB):               11.600\n",
       "Skew:                          -1.406   Prob(JB):                      0.00303\n",
       "Kurtosis:                       4.673   Cond. No.                         81.1\n",
       "==============================================================================\n",
       "\n",
       "Notes:\n",
       "[1] Standard Errors assume that the covariance matrix of the errors is correctly specified.\n",
       "\"\"\""
      ]
     },
     "execution_count": 23,
     "metadata": {},
     "output_type": "execute_result"
    }
   ],
   "source": [
    "X_age = df_male['Age']\n",
    "y_sleep_time = df_male['sleep time']\n",
    "\n",
    "# Adding a constant to get an intercept\n",
    "cst_slptime_scrtime_age = sm.add_constant(X_age)\n",
    "\n",
    "# Fitting the resgression line using 'OLS'\n",
    "lr = sm.OLS(y_sleep_time, cst_slptime_scrtime_age).fit()\n",
    "\n",
    "lr.summary()"
   ]
  },
  {
   "cell_type": "markdown",
   "id": "6019fd7e",
   "metadata": {},
   "source": [
    "### Linear Regression Plot: Age vs Sleep Duration in Males (Figure 2.6)"
   ]
  },
  {
   "cell_type": "code",
   "execution_count": 70,
   "id": "25bddcd5",
   "metadata": {},
   "outputs": [
    {
     "data": {
      "image/png": "[encoded data removed]",
      "text/plain": [
       "<Figure size 504x360 with 1 Axes>"
      ]
     },
     "metadata": {},
     "output_type": "display_data"
    }
   ],
   "source": [
    "plt.scatter(X_age, y_sleep_time)\n",
    "plt.plot(X_age, 6.6094 + (0.0077)*X_age, 'r')\n",
    "plt.title('Figure 2.6. Linear Regression Plot: Age vs Sleep Duration in Males')\n",
    "plt.xlabel('Age (Years)')\n",
    "plt.ylabel('Sleep Duration (Hours)')\n",
    "plt.show()"
   ]
  },
  {
   "cell_type": "markdown",
   "id": "b2a4d31f",
   "metadata": {},
   "source": [
    "## 2.3 Residual Analysis"
   ]
  },
  {
   "cell_type": "markdown",
   "id": "4feb54a6",
   "metadata": {},
   "source": [
    "### Smartphone Screen Time vs Sleep Duration in Males (Figure 2.7 and Figure 2.8)"
   ]
  },
  {
   "cell_type": "code",
   "execution_count": 72,
   "id": "2ce9bd8e",
   "metadata": {},
   "outputs": [
    {
     "name": "stderr",
     "output_type": "stream",
     "text": [
      "/Users/hetvipatel/opt/anaconda3/envs/Pandas/lib/python3.8/site-packages/seaborn/distributions.py:2619: FutureWarning:\n",
      "\n",
      "`distplot` is a deprecated function and will be removed in a future version. Please adapt your code to use either `displot` (a figure-level function with similar flexibility) or `histplot` (an axes-level function for histograms).\n",
      "\n"
     ]
    },
    {
     "data": {
      "image/png": "[encoded data removed]",
      "text/plain": [
       "<Figure size 504x360 with 1 Axes>"
      ]
     },
     "metadata": {},
     "output_type": "display_data"
    },
    {
     "data": {
      "image/png": "[encoded data removed]",
      "text/plain": [
       "<Figure size 504x360 with 1 Axes>"
      ]
     },
     "metadata": {},
     "output_type": "display_data"
    }
   ],
   "source": [
    "# Predicting y_value using the data of X\n",
    "y_prediction_male = lr.predict(cst_slptime_scrtime)\n",
    "\n",
    "# Creating residuals from the y_prediction_male and predicted y data\n",
    "res = (y - y_prediction_male)\n",
    "\n",
    "fig = plt.figure()\n",
    "sns.distplot(res, bins = 15)\n",
    "plt.title('Figure 2.7. Residual Graph of Smartphone Screen Time vs Sleep Duration in Males', fontsize = 15)\n",
    "plt.xlabel('Sleep Duration - Screen Duration Prediction Values in Males', fontsize = 15)\n",
    "plt.show()\n",
    "\n",
    "# Looking for any patterns in the residuals\n",
    "plt.scatter(X,res)\n",
    "plt.title('Figure 2.8. Residual Scatter Plot of Smartphone Screen Time vs Sleep Duration in Males', fontsize = 15)\n",
    "plt.xlabel(\"Screen Time (Hours)\")\n",
    "plt.ylabel(\"Residual Results\")\n",
    "plt.show()"
   ]
  },
  {
   "cell_type": "markdown",
   "id": "e8270983",
   "metadata": {},
   "source": [
    "### Age vs Sleep Duration in Males (Figure 2.9 and Figure 2.10)"
   ]
  },
  {
   "cell_type": "code",
   "execution_count": 73,
   "id": "fac65ea3",
   "metadata": {
    "scrolled": true
   },
   "outputs": [
    {
     "name": "stderr",
     "output_type": "stream",
     "text": [
      "/Users/hetvipatel/opt/anaconda3/envs/Pandas/lib/python3.8/site-packages/seaborn/distributions.py:2619: FutureWarning:\n",
      "\n",
      "`distplot` is a deprecated function and will be removed in a future version. Please adapt your code to use either `displot` (a figure-level function with similar flexibility) or `histplot` (an axes-level function for histograms).\n",
      "\n"
     ]
    },
    {
     "data": {
      "image/png": "[encoded data removed]",
      "text/plain": [
       "<Figure size 504x360 with 1 Axes>"
      ]
     },
     "metadata": {},
     "output_type": "display_data"
    },
    {
     "data": {
      "image/png": "[encoded data removed]",
      "text/plain": [
       "<Figure size 504x360 with 1 Axes>"
      ]
     },
     "metadata": {},
     "output_type": "display_data"
    }
   ],
   "source": [
    "# Predicting y_value using  data of X\n",
    "y_prediction_male_age = lr.predict(cst_slptime_scrtime_age)\n",
    "\n",
    "# Creating residuals from the y_prediction_male_age and predicted y data\n",
    "res = (y_sleep_time - y_prediction_male_age)\n",
    "\n",
    "fig = plt.figure()\n",
    "sns.distplot(res, bins = 15)\n",
    "plt.title('Figure 2.9. Residual Graph of Age vs Sleep Duration in Males', fontsize = 15)\n",
    "plt.xlabel('Age - sleep time prediction values in Male', fontsize = 15)\n",
    "plt.show()\n",
    "\n",
    "# Looking for any patterns in the residuals\n",
    "plt.scatter(X_age,res)\n",
    "plt.title('Figure 2.10. Scatter Plot of Residuals for Age Vs Sleep Time in Male', fontsize = 15)\n",
    "plt.xlabel(\"Age (Years)\")\n",
    "plt.ylabel(\"Residual Results\")\n",
    "plt.show()"
   ]
  },
  {
   "cell_type": "markdown",
   "id": "0e7cfb3b",
   "metadata": {},
   "source": [
    "# 3. Analytical Methods: Females"
   ]
  },
  {
   "cell_type": "markdown",
   "id": "b1d68450",
   "metadata": {},
   "source": [
    "### Creating a Dataframe for Females"
   ]
  },
  {
   "cell_type": "code",
   "execution_count": 27,
   "id": "dc8b33d5",
   "metadata": {},
   "outputs": [
    {
     "data": {
      "text/html": [
       "<div>\n",
       "<style scoped>\n",
       "    .dataframe tbody tr th:only-of-type {\n",
       "        vertical-align: middle;\n",
       "    }\n",
       "\n",
       "    .dataframe tbody tr th {\n",
       "        vertical-align: top;\n",
       "    }\n",
       "\n",
       "    .dataframe thead th {\n",
       "        text-align: right;\n",
       "    }\n",
       "</style>\n",
       "<table border=\"1\" class=\"dataframe\">\n",
       "  <thead>\n",
       "    <tr style=\"text-align: right;\">\n",
       "      <th></th>\n",
       "      <th>Age</th>\n",
       "      <th>Gender</th>\n",
       "      <th>meals/day</th>\n",
       "      <th>physical illness</th>\n",
       "      <th>screen time</th>\n",
       "      <th>bluelight filter</th>\n",
       "      <th>sleep direction</th>\n",
       "      <th>exercise</th>\n",
       "      <th>smoke/drink</th>\n",
       "      <th>beverage</th>\n",
       "      <th>sleep time</th>\n",
       "    </tr>\n",
       "  </thead>\n",
       "  <tbody>\n",
       "    <tr>\n",
       "      <th>1</th>\n",
       "      <td>22</td>\n",
       "      <td>Female</td>\n",
       "      <td>three</td>\n",
       "      <td>no</td>\n",
       "      <td>3.5</td>\n",
       "      <td>no</td>\n",
       "      <td>south</td>\n",
       "      <td>no</td>\n",
       "      <td>no</td>\n",
       "      <td>Coffee</td>\n",
       "      <td>8.0</td>\n",
       "    </tr>\n",
       "    <tr>\n",
       "      <th>3</th>\n",
       "      <td>23</td>\n",
       "      <td>Female</td>\n",
       "      <td>two</td>\n",
       "      <td>no</td>\n",
       "      <td>1.5</td>\n",
       "      <td>no</td>\n",
       "      <td>east</td>\n",
       "      <td>sometimes</td>\n",
       "      <td>no</td>\n",
       "      <td>Coffee</td>\n",
       "      <td>6.5</td>\n",
       "    </tr>\n",
       "    <tr>\n",
       "      <th>7</th>\n",
       "      <td>24</td>\n",
       "      <td>Female</td>\n",
       "      <td>three</td>\n",
       "      <td>yes</td>\n",
       "      <td>4.5</td>\n",
       "      <td>no</td>\n",
       "      <td>east</td>\n",
       "      <td>sometimes</td>\n",
       "      <td>no</td>\n",
       "      <td>Tea</td>\n",
       "      <td>6.5</td>\n",
       "    </tr>\n",
       "    <tr>\n",
       "      <th>9</th>\n",
       "      <td>23</td>\n",
       "      <td>Female</td>\n",
       "      <td>three</td>\n",
       "      <td>no</td>\n",
       "      <td>4.5</td>\n",
       "      <td>yes</td>\n",
       "      <td>north</td>\n",
       "      <td>yes</td>\n",
       "      <td>yes</td>\n",
       "      <td>Tea and Coffee both</td>\n",
       "      <td>7.0</td>\n",
       "    </tr>\n",
       "    <tr>\n",
       "      <th>10</th>\n",
       "      <td>28</td>\n",
       "      <td>Female</td>\n",
       "      <td>three</td>\n",
       "      <td>no</td>\n",
       "      <td>0.5</td>\n",
       "      <td>yes</td>\n",
       "      <td>north</td>\n",
       "      <td>yes</td>\n",
       "      <td>no</td>\n",
       "      <td>Tea</td>\n",
       "      <td>6.5</td>\n",
       "    </tr>\n",
       "  </tbody>\n",
       "</table>\n",
       "</div>"
      ],
      "text/plain": [
       "    Age  Gender meals/day physical illness  screen time bluelight filter  \\\n",
       "1    22  Female     three               no          3.5               no   \n",
       "3    23  Female       two               no          1.5               no   \n",
       "7    24  Female     three              yes          4.5               no   \n",
       "9    23  Female     three               no          4.5              yes   \n",
       "10   28  Female     three               no          0.5              yes   \n",
       "\n",
       "   sleep direction   exercise smoke/drink             beverage  sleep time  \n",
       "1            south         no          no               Coffee         8.0  \n",
       "3             east  sometimes          no               Coffee         6.5  \n",
       "7             east  sometimes          no                  Tea         6.5  \n",
       "9            north        yes         yes  Tea and Coffee both         7.0  \n",
       "10           north        yes          no                  Tea         6.5  "
      ]
     },
     "execution_count": 27,
     "metadata": {},
     "output_type": "execute_result"
    }
   ],
   "source": [
    "df_female= df[df[\"Gender\"]=='Female']\n",
    "df_female.head()"
   ]
  },
  {
   "cell_type": "markdown",
   "id": "4cc846f2",
   "metadata": {},
   "source": [
    "## 3.1 Data Visualization"
   ]
  },
  {
   "cell_type": "markdown",
   "id": "8f520b2f",
   "metadata": {},
   "source": [
    "### Smartphone Screen Time vs Sleep Duration in Females (Figure 3.1)"
   ]
  },
  {
   "cell_type": "code",
   "execution_count": 74,
   "id": "27a6bb1a",
   "metadata": {},
   "outputs": [
    {
     "data": {
      "image/png": "[encoded data removed]",
      "text/plain": [
       "<Figure size 1152x432 with 1 Axes>"
      ]
     },
     "metadata": {},
     "output_type": "display_data"
    }
   ],
   "source": [
    "fig_dims = (16, 6)\n",
    "fig, ax = plt.subplots(figsize=fig_dims)\n",
    "g = sns.barplot(x='screen time', y='sleep time', data=df_female).set(xlabel =\"Screen Time (Hours)\", ylabel = \"Sleep Time (Hours)\",title='Figure 3.1. Smartphone Screen Time vs Sleep Duration in Males')"
   ]
  },
  {
   "cell_type": "markdown",
   "id": "fe7ee596",
   "metadata": {},
   "source": [
    "### Age vs Sleep Duration in Females (Figure 3.2)"
   ]
  },
  {
   "cell_type": "code",
   "execution_count": 75,
   "id": "bf0888ff",
   "metadata": {},
   "outputs": [
    {
     "data": {
      "image/png": "[encoded data removed]",
      "text/plain": [
       "<Figure size 1152x432 with 1 Axes>"
      ]
     },
     "metadata": {},
     "output_type": "display_data"
    }
   ],
   "source": [
    "fig_dims = (16, 6)\n",
    "fig, ax = plt.subplots(figsize=fig_dims)\n",
    "g = sns.barplot(x='Age', y='sleep time', data=df_female).set(xlabel =\"Age (Years)\", ylabel = \"Sleep Time (Hours)\",title='Figure 3.2. Age vs Sleep Duration in Females')"
   ]
  },
  {
   "cell_type": "code",
   "execution_count": 76,
   "id": "092a7d18",
   "metadata": {},
   "outputs": [
    {
     "data": {
      "application/vnd.plotly.v1+json": {
       "config": {
        "plotlyServerURL": "https://plot.ly"
       },
       "data": [
        {
         "domain": {
          "x": [
           0,
           1
          ],
          "y": [
           0,
           1
          ]
         },
         "hovertemplate": "Age=%{label}<br>sleep time=%{value}<extra></extra>",
         "labels": [
          22,
          23,
          24,
          23,
          28,
          23,
          23,
          39,
          23,
          25,
          25,
          23,
          23,
          23,
          23,
          23,
          22,
          23
         ],
         "legendgroup": "",
         "name": "",
         "showlegend": true,
         "textinfo": "percent+label",
         "textposition": "inside",
         "type": "pie",
         "values": [
          8,
          6.5,
          6.5,
          7,
          6.5,
          8,
          8,
          6,
          7,
          7,
          5,
          7,
          9,
          7,
          6,
          6,
          6,
          8
         ]
        }
       ],
       "layout": {
        "legend": {
         "tracegroupgap": 0
        },
        "template": {
         "data": {
          "bar": [
           {
            "error_x": {
             "color": "#f2f5fa"
            },
            "error_y": {
             "color": "#f2f5fa"
            },
            "marker": {
             "line": {
              "color": "rgb(17,17,17)",
              "width": 0.5
             },
             "pattern": {
              "fillmode": "overlay",
              "size": 10,
              "solidity": 0.2
             }
            },
            "type": "bar"
           }
          ],
          "barpolar": [
           {
            "marker": {
             "line": {
              "color": "rgb(17,17,17)",
              "width": 0.5
             },
             "pattern": {
              "fillmode": "overlay",
              "size": 10,
              "solidity": 0.2
             }
            },
            "type": "barpolar"
           }
          ],
          "carpet": [
           {
            "aaxis": {
             "endlinecolor": "#A2B1C6",
             "gridcolor": "#506784",
             "linecolor": "#506784",
             "minorgridcolor": "#506784",
             "startlinecolor": "#A2B1C6"
            },
            "baxis": {
             "endlinecolor": "#A2B1C6",
             "gridcolor": "#506784",
             "linecolor": "#506784",
             "minorgridcolor": "#506784",
             "startlinecolor": "#A2B1C6"
            },
            "type": "carpet"
           }
          ],
          "choropleth": [
           {
            "colorbar": {
             "outlinewidth": 0,
             "ticks": ""
            },
            "type": "choropleth"
           }
          ],
          "contour": [
           {
            "colorbar": {
             "outlinewidth": 0,
             "ticks": ""
            },
            "colorscale": [
             [
              0,
              "#0d0887"
             ],
             [
              0.1111111111111111,
              "#46039f"
             ],
             [
              0.2222222222222222,
              "#7201a8"
             ],
             [
              0.3333333333333333,
              "#9c179e"
             ],
             [
              0.4444444444444444,
              "#bd3786"
             ],
             [
              0.5555555555555556,
              "#d8576b"
             ],
             [
              0.6666666666666666,
              "#ed7953"
             ],
             [
              0.7777777777777778,
              "#fb9f3a"
             ],
             [
              0.8888888888888888,
              "#fdca26"
             ],
             [
              1,
              "#f0f921"
             ]
            ],
            "type": "contour"
           }
          ],
          "contourcarpet": [
           {
            "colorbar": {
             "outlinewidth": 0,
             "ticks": ""
            },
            "type": "contourcarpet"
           }
          ],
          "heatmap": [
           {
            "colorbar": {
             "outlinewidth": 0,
             "ticks": ""
            },
            "colorscale": [
             [
              0,
              "#0d0887"
             ],
             [
              0.1111111111111111,
              "#46039f"
             ],
             [
              0.2222222222222222,
              "#7201a8"
             ],
             [
              0.3333333333333333,
              "#9c179e"
             ],
             [
              0.4444444444444444,
              "#bd3786"
             ],
             [
              0.5555555555555556,
              "#d8576b"
             ],
             [
              0.6666666666666666,
              "#ed7953"
             ],
             [
              0.7777777777777778,
              "#fb9f3a"
             ],
             [
              0.8888888888888888,
              "#fdca26"
             ],
             [
              1,
              "#f0f921"
             ]
            ],
            "type": "heatmap"
           }
          ],
          "heatmapgl": [
           {
            "colorbar": {
             "outlinewidth": 0,
             "ticks": ""
            },
            "colorscale": [
             [
              0,
              "#0d0887"
             ],
             [
              0.1111111111111111,
              "#46039f"
             ],
             [
              0.2222222222222222,
              "#7201a8"
             ],
             [
              0.3333333333333333,
              "#9c179e"
             ],
             [
              0.4444444444444444,
              "#bd3786"
             ],
             [
              0.5555555555555556,
              "#d8576b"
             ],
             [
              0.6666666666666666,
              "#ed7953"
             ],
             [
              0.7777777777777778,
              "#fb9f3a"
             ],
             [
              0.8888888888888888,
              "#fdca26"
             ],
             [
              1,
              "#f0f921"
             ]
            ],
            "type": "heatmapgl"
           }
          ],
          "histogram": [
           {
            "marker": {
             "pattern": {
              "fillmode": "overlay",
              "size": 10,
              "solidity": 0.2
             }
            },
            "type": "histogram"
           }
          ],
          "histogram2d": [
           {
            "colorbar": {
             "outlinewidth": 0,
             "ticks": ""
            },
            "colorscale": [
             [
              0,
              "#0d0887"
             ],
             [
              0.1111111111111111,
              "#46039f"
             ],
             [
              0.2222222222222222,
              "#7201a8"
             ],
             [
              0.3333333333333333,
              "#9c179e"
             ],
             [
              0.4444444444444444,
              "#bd3786"
             ],
             [
              0.5555555555555556,
              "#d8576b"
             ],
             [
              0.6666666666666666,
              "#ed7953"
             ],
             [
              0.7777777777777778,
              "#fb9f3a"
             ],
             [
              0.8888888888888888,
              "#fdca26"
             ],
             [
              1,
              "#f0f921"
             ]
            ],
            "type": "histogram2d"
           }
          ],
          "histogram2dcontour": [
           {
            "colorbar": {
             "outlinewidth": 0,
             "ticks": ""
            },
            "colorscale": [
             [
              0,
              "#0d0887"
             ],
             [
              0.1111111111111111,
              "#46039f"
             ],
             [
              0.2222222222222222,
              "#7201a8"
             ],
             [
              0.3333333333333333,
              "#9c179e"
             ],
             [
              0.4444444444444444,
              "#bd3786"
             ],
             [
              0.5555555555555556,
              "#d8576b"
             ],
             [
              0.6666666666666666,
              "#ed7953"
             ],
             [
              0.7777777777777778,
              "#fb9f3a"
             ],
             [
              0.8888888888888888,
              "#fdca26"
             ],
             [
              1,
              "#f0f921"
             ]
            ],
            "type": "histogram2dcontour"
           }
          ],
          "mesh3d": [
           {
            "colorbar": {
             "outlinewidth": 0,
             "ticks": ""
            },
            "type": "mesh3d"
           }
          ],
          "parcoords": [
           {
            "line": {
             "colorbar": {
              "outlinewidth": 0,
              "ticks": ""
             }
            },
            "type": "parcoords"
           }
          ],
          "pie": [
           {
            "automargin": true,
            "type": "pie"
           }
          ],
          "scatter": [
           {
            "marker": {
             "line": {
              "color": "#283442"
             }
            },
            "type": "scatter"
           }
          ],
          "scatter3d": [
           {
            "line": {
             "colorbar": {
              "outlinewidth": 0,
              "ticks": ""
             }
            },
            "marker": {
             "colorbar": {
              "outlinewidth": 0,
              "ticks": ""
             }
            },
            "type": "scatter3d"
           }
          ],
          "scattercarpet": [
           {
            "marker": {
             "colorbar": {
              "outlinewidth": 0,
              "ticks": ""
             }
            },
            "type": "scattercarpet"
           }
          ],
          "scattergeo": [
           {
            "marker": {
             "colorbar": {
              "outlinewidth": 0,
              "ticks": ""
             }
            },
            "type": "scattergeo"
           }
          ],
          "scattergl": [
           {
            "marker": {
             "line": {
              "color": "#283442"
             }
            },
            "type": "scattergl"
           }
          ],
          "scattermapbox": [
           {
            "marker": {
             "colorbar": {
              "outlinewidth": 0,
              "ticks": ""
             }
            },
            "type": "scattermapbox"
           }
          ],
          "scatterpolar": [
           {
            "marker": {
             "colorbar": {
              "outlinewidth": 0,
              "ticks": ""
             }
            },
            "type": "scatterpolar"
           }
          ],
          "scatterpolargl": [
           {
            "marker": {
             "colorbar": {
              "outlinewidth": 0,
              "ticks": ""
             }
            },
            "type": "scatterpolargl"
           }
          ],
          "scatterternary": [
           {
            "marker": {
             "colorbar": {
              "outlinewidth": 0,
              "ticks": ""
             }
            },
            "type": "scatterternary"
           }
          ],
          "surface": [
           {
            "colorbar": {
             "outlinewidth": 0,
             "ticks": ""
            },
            "colorscale": [
             [
              0,
              "#0d0887"
             ],
             [
              0.1111111111111111,
              "#46039f"
             ],
             [
              0.2222222222222222,
              "#7201a8"
             ],
             [
              0.3333333333333333,
              "#9c179e"
             ],
             [
              0.4444444444444444,
              "#bd3786"
             ],
             [
              0.5555555555555556,
              "#d8576b"
             ],
             [
              0.6666666666666666,
              "#ed7953"
             ],
             [
              0.7777777777777778,
              "#fb9f3a"
             ],
             [
              0.8888888888888888,
              "#fdca26"
             ],
             [
              1,
              "#f0f921"
             ]
            ],
            "type": "surface"
           }
          ],
          "table": [
           {
            "cells": {
             "fill": {
              "color": "#506784"
             },
             "line": {
              "color": "rgb(17,17,17)"
             }
            },
            "header": {
             "fill": {
              "color": "#2a3f5f"
             },
             "line": {
              "color": "rgb(17,17,17)"
             }
            },
            "type": "table"
           }
          ]
         },
         "layout": {
          "annotationdefaults": {
           "arrowcolor": "#f2f5fa",
           "arrowhead": 0,
           "arrowwidth": 1
          },
          "autotypenumbers": "strict",
          "coloraxis": {
           "colorbar": {
            "outlinewidth": 0,
            "ticks": ""
           }
          },
          "colorscale": {
           "diverging": [
            [
             0,
             "#8e0152"
            ],
            [
             0.1,
             "#c51b7d"
            ],
            [
             0.2,
             "#de77ae"
            ],
            [
             0.3,
             "#f1b6da"
            ],
            [
             0.4,
             "#fde0ef"
            ],
            [
             0.5,
             "#f7f7f7"
            ],
            [
             0.6,
             "#e6f5d0"
            ],
            [
             0.7,
             "#b8e186"
            ],
            [
             0.8,
             "#7fbc41"
            ],
            [
             0.9,
             "#4d9221"
            ],
            [
             1,
             "#276419"
            ]
           ],
           "sequential": [
            [
             0,
             "#0d0887"
            ],
            [
             0.1111111111111111,
             "#46039f"
            ],
            [
             0.2222222222222222,
             "#7201a8"
            ],
            [
             0.3333333333333333,
             "#9c179e"
            ],
            [
             0.4444444444444444,
             "#bd3786"
            ],
            [
             0.5555555555555556,
             "#d8576b"
            ],
            [
             0.6666666666666666,
             "#ed7953"
            ],
            [
             0.7777777777777778,
             "#fb9f3a"
            ],
            [
             0.8888888888888888,
             "#fdca26"
            ],
            [
             1,
             "#f0f921"
            ]
           ],
           "sequentialminus": [
            [
             0,
             "#0d0887"
            ],
            [
             0.1111111111111111,
             "#46039f"
            ],
            [
             0.2222222222222222,
             "#7201a8"
            ],
            [
             0.3333333333333333,
             "#9c179e"
            ],
            [
             0.4444444444444444,
             "#bd3786"
            ],
            [
             0.5555555555555556,
             "#d8576b"
            ],
            [
             0.6666666666666666,
             "#ed7953"
            ],
            [
             0.7777777777777778,
             "#fb9f3a"
            ],
            [
             0.8888888888888888,
             "#fdca26"
            ],
            [
             1,
             "#f0f921"
            ]
           ]
          },
          "colorway": [
           "#636efa",
           "#EF553B",
           "#00cc96",
           "#ab63fa",
           "#FFA15A",
           "#19d3f3",
           "#FF6692",
           "#B6E880",
           "#FF97FF",
           "#FECB52"
          ],
          "font": {
           "color": "#f2f5fa"
          },
          "geo": {
           "bgcolor": "rgb(17,17,17)",
           "lakecolor": "rgb(17,17,17)",
           "landcolor": "rgb(17,17,17)",
           "showlakes": true,
           "showland": true,
           "subunitcolor": "#506784"
          },
          "hoverlabel": {
           "align": "left"
          },
          "hovermode": "closest",
          "mapbox": {
           "style": "dark"
          },
          "paper_bgcolor": "rgb(17,17,17)",
          "plot_bgcolor": "rgb(17,17,17)",
          "polar": {
           "angularaxis": {
            "gridcolor": "#506784",
            "linecolor": "#506784",
            "ticks": ""
           },
           "bgcolor": "rgb(17,17,17)",
           "radialaxis": {
            "gridcolor": "#506784",
            "linecolor": "#506784",
            "ticks": ""
           }
          },
          "scene": {
           "xaxis": {
            "backgroundcolor": "rgb(17,17,17)",
            "gridcolor": "#506784",
            "gridwidth": 2,
            "linecolor": "#506784",
            "showbackground": true,
            "ticks": "",
            "zerolinecolor": "#C8D4E3"
           },
           "yaxis": {
            "backgroundcolor": "rgb(17,17,17)",
            "gridcolor": "#506784",
            "gridwidth": 2,
            "linecolor": "#506784",
            "showbackground": true,
            "ticks": "",
            "zerolinecolor": "#C8D4E3"
           },
           "zaxis": {
            "backgroundcolor": "rgb(17,17,17)",
            "gridcolor": "#506784",
            "gridwidth": 2,
            "linecolor": "#506784",
            "showbackground": true,
            "ticks": "",
            "zerolinecolor": "#C8D4E3"
           }
          },
          "shapedefaults": {
           "line": {
            "color": "#f2f5fa"
           }
          },
          "sliderdefaults": {
           "bgcolor": "#C8D4E3",
           "bordercolor": "rgb(17,17,17)",
           "borderwidth": 1,
           "tickwidth": 0
          },
          "ternary": {
           "aaxis": {
            "gridcolor": "#506784",
            "linecolor": "#506784",
            "ticks": ""
           },
           "baxis": {
            "gridcolor": "#506784",
            "linecolor": "#506784",
            "ticks": ""
           },
           "bgcolor": "rgb(17,17,17)",
           "caxis": {
            "gridcolor": "#506784",
            "linecolor": "#506784",
            "ticks": ""
           }
          },
          "title": {
           "x": 0.05
          },
          "updatemenudefaults": {
           "bgcolor": "#506784",
           "borderwidth": 0
          },
          "xaxis": {
           "automargin": true,
           "gridcolor": "#283442",
           "linecolor": "#506784",
           "ticks": "",
           "title": {
            "standoff": 15
           },
           "zerolinecolor": "#283442",
           "zerolinewidth": 2
          },
          "yaxis": {
           "automargin": true,
           "gridcolor": "#283442",
           "linecolor": "#506784",
           "ticks": "",
           "title": {
            "standoff": 15
           },
           "zerolinecolor": "#283442",
           "zerolinewidth": 2
          }
         }
        },
        "title": {
         "text": "Figure 3.3. Pie Chart Representation Of Age vs Sleep Duration in Females"
        }
       }
      },
      "text/html": [
       "<div>                            <div id=\"a891ab5e-a705-40d6-90f9-3122f4295a6f\" class=\"plotly-graph-div\" style=\"height:525px; width:100%;\"></div>            <script type=\"text/javascript\">                require([\"plotly\"], function(Plotly) {                    window.PLOTLYENV=window.PLOTLYENV || {};                                    if (document.getElementById(\"a891ab5e-a705-40d6-90f9-3122f4295a6f\")) {                    Plotly.newPlot(                        \"a891ab5e-a705-40d6-90f9-3122f4295a6f\",                        [{\"domain\":{\"x\":[0.0,1.0],\"y\":[0.0,1.0]},\"hovertemplate\":\"Age=%{label}<br>sleep time=%{value}<extra></extra>\",\"labels\":[22,23,24,23,28,23,23,39,23,25,25,23,23,23,23,23,22,23],\"legendgroup\":\"\",\"name\":\"\",\"showlegend\":true,\"values\":[8.0,6.5,6.5,7.0,6.5,8.0,8.0,6.0,7.0,7.0,5.0,7.0,9.0,7.0,6.0,6.0,6.0,8.0],\"type\":\"pie\",\"textinfo\":\"percent+label\",\"textposition\":\"inside\"}],                        {\"template\":{\"data\":{\"bar\":[{\"error_x\":{\"color\":\"#f2f5fa\"},\"error_y\":{\"color\":\"#f2f5fa\"},\"marker\":{\"line\":{\"color\":\"rgb(17,17,17)\",\"width\":0.5},\"pattern\":{\"fillmode\":\"overlay\",\"size\":10,\"solidity\":0.2}},\"type\":\"bar\"}],\"barpolar\":[{\"marker\":{\"line\":{\"color\":\"rgb(17,17,17)\",\"width\":0.5},\"pattern\":{\"fillmode\":\"overlay\",\"size\":10,\"solidity\":0.2}},\"type\":\"barpolar\"}],\"carpet\":[{\"aaxis\":{\"endlinecolor\":\"#A2B1C6\",\"gridcolor\":\"#506784\",\"linecolor\":\"#506784\",\"minorgridcolor\":\"#506784\",\"startlinecolor\":\"#A2B1C6\"},\"baxis\":{\"endlinecolor\":\"#A2B1C6\",\"gridcolor\":\"#506784\",\"linecolor\":\"#506784\",\"minorgridcolor\":\"#506784\",\"startlinecolor\":\"#A2B1C6\"},\"type\":\"carpet\"}],\"choropleth\":[{\"colorbar\":{\"outlinewidth\":0,\"ticks\":\"\"},\"type\":\"choropleth\"}],\"contour\":[{\"colorbar\":{\"outlinewidth\":0,\"ticks\":\"\"},\"colorscale\":[[0.0,\"#0d0887\"],[0.1111111111111111,\"#46039f\"],[0.2222222222222222,\"#7201a8\"],[0.3333333333333333,\"#9c179e\"],[0.4444444444444444,\"#bd3786\"],[0.5555555555555556,\"#d8576b\"],[0.6666666666666666,\"#ed7953\"],[0.7777777777777778,\"#fb9f3a\"],[0.8888888888888888,\"#fdca26\"],[1.0,\"#f0f921\"]],\"type\":\"contour\"}],\"contourcarpet\":[{\"colorbar\":{\"outlinewidth\":0,\"ticks\":\"\"},\"type\":\"contourcarpet\"}],\"heatmap\":[{\"colorbar\":{\"outlinewidth\":0,\"ticks\":\"\"},\"colorscale\":[[0.0,\"#0d0887\"],[0.1111111111111111,\"#46039f\"],[0.2222222222222222,\"#7201a8\"],[0.3333333333333333,\"#9c179e\"],[0.4444444444444444,\"#bd3786\"],[0.5555555555555556,\"#d8576b\"],[0.6666666666666666,\"#ed7953\"],[0.7777777777777778,\"#fb9f3a\"],[0.8888888888888888,\"#fdca26\"],[1.0,\"#f0f921\"]],\"type\":\"heatmap\"}],\"heatmapgl\":[{\"colorbar\":{\"outlinewidth\":0,\"ticks\":\"\"},\"colorscale\":[[0.0,\"#0d0887\"],[0.1111111111111111,\"#46039f\"],[0.2222222222222222,\"#7201a8\"],[0.3333333333333333,\"#9c179e\"],[0.4444444444444444,\"#bd3786\"],[0.5555555555555556,\"#d8576b\"],[0.6666666666666666,\"#ed7953\"],[0.7777777777777778,\"#fb9f3a\"],[0.8888888888888888,\"#fdca26\"],[1.0,\"#f0f921\"]],\"type\":\"heatmapgl\"}],\"histogram\":[{\"marker\":{\"pattern\":{\"fillmode\":\"overlay\",\"size\":10,\"solidity\":0.2}},\"type\":\"histogram\"}],\"histogram2d\":[{\"colorbar\":{\"outlinewidth\":0,\"ticks\":\"\"},\"colorscale\":[[0.0,\"#0d0887\"],[0.1111111111111111,\"#46039f\"],[0.2222222222222222,\"#7201a8\"],[0.3333333333333333,\"#9c179e\"],[0.4444444444444444,\"#bd3786\"],[0.5555555555555556,\"#d8576b\"],[0.6666666666666666,\"#ed7953\"],[0.7777777777777778,\"#fb9f3a\"],[0.8888888888888888,\"#fdca26\"],[1.0,\"#f0f921\"]],\"type\":\"histogram2d\"}],\"histogram2dcontour\":[{\"colorbar\":{\"outlinewidth\":0,\"ticks\":\"\"},\"colorscale\":[[0.0,\"#0d0887\"],[0.1111111111111111,\"#46039f\"],[0.2222222222222222,\"#7201a8\"],[0.3333333333333333,\"#9c179e\"],[0.4444444444444444,\"#bd3786\"],[0.5555555555555556,\"#d8576b\"],[0.6666666666666666,\"#ed7953\"],[0.7777777777777778,\"#fb9f3a\"],[0.8888888888888888,\"#fdca26\"],[1.0,\"#f0f921\"]],\"type\":\"histogram2dcontour\"}],\"mesh3d\":[{\"colorbar\":{\"outlinewidth\":0,\"ticks\":\"\"},\"type\":\"mesh3d\"}],\"parcoords\":[{\"line\":{\"colorbar\":{\"outlinewidth\":0,\"ticks\":\"\"}},\"type\":\"parcoords\"}],\"pie\":[{\"automargin\":true,\"type\":\"pie\"}],\"scatter\":[{\"marker\":{\"line\":{\"color\":\"#283442\"}},\"type\":\"scatter\"}],\"scatter3d\":[{\"line\":{\"colorbar\":{\"outlinewidth\":0,\"ticks\":\"\"}},\"marker\":{\"colorbar\":{\"outlinewidth\":0,\"ticks\":\"\"}},\"type\":\"scatter3d\"}],\"scattercarpet\":[{\"marker\":{\"colorbar\":{\"outlinewidth\":0,\"ticks\":\"\"}},\"type\":\"scattercarpet\"}],\"scattergeo\":[{\"marker\":{\"colorbar\":{\"outlinewidth\":0,\"ticks\":\"\"}},\"type\":\"scattergeo\"}],\"scattergl\":[{\"marker\":{\"line\":{\"color\":\"#283442\"}},\"type\":\"scattergl\"}],\"scattermapbox\":[{\"marker\":{\"colorbar\":{\"outlinewidth\":0,\"ticks\":\"\"}},\"type\":\"scattermapbox\"}],\"scatterpolar\":[{\"marker\":{\"colorbar\":{\"outlinewidth\":0,\"ticks\":\"\"}},\"type\":\"scatterpolar\"}],\"scatterpolargl\":[{\"marker\":{\"colorbar\":{\"outlinewidth\":0,\"ticks\":\"\"}},\"type\":\"scatterpolargl\"}],\"scatterternary\":[{\"marker\":{\"colorbar\":{\"outlinewidth\":0,\"ticks\":\"\"}},\"type\":\"scatterternary\"}],\"surface\":[{\"colorbar\":{\"outlinewidth\":0,\"ticks\":\"\"},\"colorscale\":[[0.0,\"#0d0887\"],[0.1111111111111111,\"#46039f\"],[0.2222222222222222,\"#7201a8\"],[0.3333333333333333,\"#9c179e\"],[0.4444444444444444,\"#bd3786\"],[0.5555555555555556,\"#d8576b\"],[0.6666666666666666,\"#ed7953\"],[0.7777777777777778,\"#fb9f3a\"],[0.8888888888888888,\"#fdca26\"],[1.0,\"#f0f921\"]],\"type\":\"surface\"}],\"table\":[{\"cells\":{\"fill\":{\"color\":\"#506784\"},\"line\":{\"color\":\"rgb(17,17,17)\"}},\"header\":{\"fill\":{\"color\":\"#2a3f5f\"},\"line\":{\"color\":\"rgb(17,17,17)\"}},\"type\":\"table\"}]},\"layout\":{\"annotationdefaults\":{\"arrowcolor\":\"#f2f5fa\",\"arrowhead\":0,\"arrowwidth\":1},\"autotypenumbers\":\"strict\",\"coloraxis\":{\"colorbar\":{\"outlinewidth\":0,\"ticks\":\"\"}},\"colorscale\":{\"diverging\":[[0,\"#8e0152\"],[0.1,\"#c51b7d\"],[0.2,\"#de77ae\"],[0.3,\"#f1b6da\"],[0.4,\"#fde0ef\"],[0.5,\"#f7f7f7\"],[0.6,\"#e6f5d0\"],[0.7,\"#b8e186\"],[0.8,\"#7fbc41\"],[0.9,\"#4d9221\"],[1,\"#276419\"]],\"sequential\":[[0.0,\"#0d0887\"],[0.1111111111111111,\"#46039f\"],[0.2222222222222222,\"#7201a8\"],[0.3333333333333333,\"#9c179e\"],[0.4444444444444444,\"#bd3786\"],[0.5555555555555556,\"#d8576b\"],[0.6666666666666666,\"#ed7953\"],[0.7777777777777778,\"#fb9f3a\"],[0.8888888888888888,\"#fdca26\"],[1.0,\"#f0f921\"]],\"sequentialminus\":[[0.0,\"#0d0887\"],[0.1111111111111111,\"#46039f\"],[0.2222222222222222,\"#7201a8\"],[0.3333333333333333,\"#9c179e\"],[0.4444444444444444,\"#bd3786\"],[0.5555555555555556,\"#d8576b\"],[0.6666666666666666,\"#ed7953\"],[0.7777777777777778,\"#fb9f3a\"],[0.8888888888888888,\"#fdca26\"],[1.0,\"#f0f921\"]]},\"colorway\":[\"#636efa\",\"#EF553B\",\"#00cc96\",\"#ab63fa\",\"#FFA15A\",\"#19d3f3\",\"#FF6692\",\"#B6E880\",\"#FF97FF\",\"#FECB52\"],\"font\":{\"color\":\"#f2f5fa\"},\"geo\":{\"bgcolor\":\"rgb(17,17,17)\",\"lakecolor\":\"rgb(17,17,17)\",\"landcolor\":\"rgb(17,17,17)\",\"showlakes\":true,\"showland\":true,\"subunitcolor\":\"#506784\"},\"hoverlabel\":{\"align\":\"left\"},\"hovermode\":\"closest\",\"mapbox\":{\"style\":\"dark\"},\"paper_bgcolor\":\"rgb(17,17,17)\",\"plot_bgcolor\":\"rgb(17,17,17)\",\"polar\":{\"angularaxis\":{\"gridcolor\":\"#506784\",\"linecolor\":\"#506784\",\"ticks\":\"\"},\"bgcolor\":\"rgb(17,17,17)\",\"radialaxis\":{\"gridcolor\":\"#506784\",\"linecolor\":\"#506784\",\"ticks\":\"\"}},\"scene\":{\"xaxis\":{\"backgroundcolor\":\"rgb(17,17,17)\",\"gridcolor\":\"#506784\",\"gridwidth\":2,\"linecolor\":\"#506784\",\"showbackground\":true,\"ticks\":\"\",\"zerolinecolor\":\"#C8D4E3\"},\"yaxis\":{\"backgroundcolor\":\"rgb(17,17,17)\",\"gridcolor\":\"#506784\",\"gridwidth\":2,\"linecolor\":\"#506784\",\"showbackground\":true,\"ticks\":\"\",\"zerolinecolor\":\"#C8D4E3\"},\"zaxis\":{\"backgroundcolor\":\"rgb(17,17,17)\",\"gridcolor\":\"#506784\",\"gridwidth\":2,\"linecolor\":\"#506784\",\"showbackground\":true,\"ticks\":\"\",\"zerolinecolor\":\"#C8D4E3\"}},\"shapedefaults\":{\"line\":{\"color\":\"#f2f5fa\"}},\"sliderdefaults\":{\"bgcolor\":\"#C8D4E3\",\"bordercolor\":\"rgb(17,17,17)\",\"borderwidth\":1,\"tickwidth\":0},\"ternary\":{\"aaxis\":{\"gridcolor\":\"#506784\",\"linecolor\":\"#506784\",\"ticks\":\"\"},\"baxis\":{\"gridcolor\":\"#506784\",\"linecolor\":\"#506784\",\"ticks\":\"\"},\"bgcolor\":\"rgb(17,17,17)\",\"caxis\":{\"gridcolor\":\"#506784\",\"linecolor\":\"#506784\",\"ticks\":\"\"}},\"title\":{\"x\":0.05},\"updatemenudefaults\":{\"bgcolor\":\"#506784\",\"borderwidth\":0},\"xaxis\":{\"automargin\":true,\"gridcolor\":\"#283442\",\"linecolor\":\"#506784\",\"ticks\":\"\",\"title\":{\"standoff\":15},\"zerolinecolor\":\"#283442\",\"zerolinewidth\":2},\"yaxis\":{\"automargin\":true,\"gridcolor\":\"#283442\",\"linecolor\":\"#506784\",\"ticks\":\"\",\"title\":{\"standoff\":15},\"zerolinecolor\":\"#283442\",\"zerolinewidth\":2}}},\"legend\":{\"tracegroupgap\":0},\"title\":{\"text\":\"Figure 3.3. Pie Chart Representation Of Age vs Sleep Duration in Females\"}},                        {\"responsive\": true}                    ).then(function(){\n",
       "                            \n",
       "var gd = document.getElementById('a891ab5e-a705-40d6-90f9-3122f4295a6f');\n",
       "var x = new MutationObserver(function (mutations, observer) {{\n",
       "        var display = window.getComputedStyle(gd).display;\n",
       "        if (!display || display === 'none') {{\n",
       "            console.log([gd, 'removed!']);\n",
       "            Plotly.purge(gd);\n",
       "            observer.disconnect();\n",
       "        }}\n",
       "}});\n",
       "\n",
       "// Listen for the removal of the full notebook cells\n",
       "var notebookContainer = gd.closest('#notebook-container');\n",
       "if (notebookContainer) {{\n",
       "    x.observe(notebookContainer, {childList: true});\n",
       "}}\n",
       "\n",
       "// Listen for the clearing of the current output cell\n",
       "var outputEl = gd.closest('.output');\n",
       "if (outputEl) {{\n",
       "    x.observe(outputEl, {childList: true});\n",
       "}}\n",
       "\n",
       "                        })                };                });            </script>        </div>"
      ]
     },
     "metadata": {},
     "output_type": "display_data"
    }
   ],
   "source": [
    "fig = px.pie(\n",
    "    df_female,\n",
    "    values='sleep time',\n",
    "    names=\"Age\",\n",
    "    title=\"Figure 3.3. Pie Chart Representation Of Age vs Sleep Duration in Females\"\n",
    ")\n",
    "fig.update_traces(textposition='inside', textinfo='percent+label')\n",
    "fig.show()"
   ]
  },
  {
   "cell_type": "markdown",
   "id": "d78fc052",
   "metadata": {},
   "source": [
    "### Age vs Smartphone Screen Time in Females (Figure 3.4)"
   ]
  },
  {
   "cell_type": "code",
   "execution_count": 77,
   "id": "246215fe",
   "metadata": {},
   "outputs": [
    {
     "data": {
      "image/png": "[encoded data removed]",
      "text/plain": [
       "<Figure size 1152x432 with 1 Axes>"
      ]
     },
     "metadata": {},
     "output_type": "display_data"
    }
   ],
   "source": [
    "fig_dims = (16, 6)\n",
    "fig, ax = plt.subplots(figsize=fig_dims)\n",
    "g = sns.barplot(x='Age', y='screen time', data=df_female).set(xlabel =\"Age (Years)\", ylabel = \"Screen Time (Hours)\",title='Figure 3.4. Age vs Smartphone Screen Time in Females')"
   ]
  },
  {
   "cell_type": "markdown",
   "id": "1c09daa5",
   "metadata": {},
   "source": [
    "# 3.2 OLS Linear Regression"
   ]
  },
  {
   "cell_type": "markdown",
   "id": "1404fb60",
   "metadata": {},
   "source": [
    "### Smartphone Screen Time vs Sleep Duration in Females "
   ]
  },
  {
   "cell_type": "code",
   "execution_count": 33,
   "id": "eb7368c1",
   "metadata": {},
   "outputs": [
    {
     "name": "stderr",
     "output_type": "stream",
     "text": [
      "/Users/hetvipatel/opt/anaconda3/envs/Pandas/lib/python3.8/site-packages/scipy/stats/stats.py:1541: UserWarning:\n",
      "\n",
      "kurtosistest only valid for n>=20 ... continuing anyway, n=18\n",
      "\n"
     ]
    },
    {
     "data": {
      "text/html": [
       "<table class=\"simpletable\">\n",
       "<caption>OLS Regression Results</caption>\n",
       "<tr>\n",
       "  <th>Dep. Variable:</th>       <td>sleep time</td>    <th>  R-squared:         </th> <td>   0.021</td>\n",
       "</tr>\n",
       "<tr>\n",
       "  <th>Model:</th>                   <td>OLS</td>       <th>  Adj. R-squared:    </th> <td>  -0.041</td>\n",
       "</tr>\n",
       "<tr>\n",
       "  <th>Method:</th>             <td>Least Squares</td>  <th>  F-statistic:       </th> <td>  0.3351</td>\n",
       "</tr>\n",
       "<tr>\n",
       "  <th>Date:</th>             <td>Wed, 15 Dec 2021</td> <th>  Prob (F-statistic):</th>  <td> 0.571</td> \n",
       "</tr>\n",
       "<tr>\n",
       "  <th>Time:</th>                 <td>21:56:47</td>     <th>  Log-Likelihood:    </th> <td> -24.639</td>\n",
       "</tr>\n",
       "<tr>\n",
       "  <th>No. Observations:</th>      <td>    18</td>      <th>  AIC:               </th> <td>   53.28</td>\n",
       "</tr>\n",
       "<tr>\n",
       "  <th>Df Residuals:</th>          <td>    16</td>      <th>  BIC:               </th> <td>   55.06</td>\n",
       "</tr>\n",
       "<tr>\n",
       "  <th>Df Model:</th>              <td>     1</td>      <th>                     </th>     <td> </td>   \n",
       "</tr>\n",
       "<tr>\n",
       "  <th>Covariance Type:</th>      <td>nonrobust</td>    <th>                     </th>     <td> </td>   \n",
       "</tr>\n",
       "</table>\n",
       "<table class=\"simpletable\">\n",
       "<tr>\n",
       "       <td></td>          <th>coef</th>     <th>std err</th>      <th>t</th>      <th>P>|t|</th>  <th>[0.025</th>    <th>0.975]</th>  \n",
       "</tr>\n",
       "<tr>\n",
       "  <th>const</th>       <td>    6.5139</td> <td>    0.735</td> <td>    8.859</td> <td> 0.000</td> <td>    4.955</td> <td>    8.073</td>\n",
       "</tr>\n",
       "<tr>\n",
       "  <th>screen time</th> <td>    0.1169</td> <td>    0.202</td> <td>    0.579</td> <td> 0.571</td> <td>   -0.311</td> <td>    0.545</td>\n",
       "</tr>\n",
       "</table>\n",
       "<table class=\"simpletable\">\n",
       "<tr>\n",
       "  <th>Omnibus:</th>       <td> 0.891</td> <th>  Durbin-Watson:     </th> <td>   1.748</td>\n",
       "</tr>\n",
       "<tr>\n",
       "  <th>Prob(Omnibus):</th> <td> 0.640</td> <th>  Jarque-Bera (JB):  </th> <td>   0.466</td>\n",
       "</tr>\n",
       "<tr>\n",
       "  <th>Skew:</th>          <td> 0.387</td> <th>  Prob(JB):          </th> <td>   0.792</td>\n",
       "</tr>\n",
       "<tr>\n",
       "  <th>Kurtosis:</th>      <td> 2.852</td> <th>  Cond. No.          </th> <td>    12.0</td>\n",
       "</tr>\n",
       "</table><br/><br/>Notes:<br/>[1] Standard Errors assume that the covariance matrix of the errors is correctly specified."
      ],
      "text/plain": [
       "<class 'statsmodels.iolib.summary.Summary'>\n",
       "\"\"\"\n",
       "                            OLS Regression Results                            \n",
       "==============================================================================\n",
       "Dep. Variable:             sleep time   R-squared:                       0.021\n",
       "Model:                            OLS   Adj. R-squared:                 -0.041\n",
       "Method:                 Least Squares   F-statistic:                    0.3351\n",
       "Date:                Wed, 15 Dec 2021   Prob (F-statistic):              0.571\n",
       "Time:                        21:56:47   Log-Likelihood:                -24.639\n",
       "No. Observations:                  18   AIC:                             53.28\n",
       "Df Residuals:                      16   BIC:                             55.06\n",
       "Df Model:                           1                                         \n",
       "Covariance Type:            nonrobust                                         \n",
       "===============================================================================\n",
       "                  coef    std err          t      P>|t|      [0.025      0.975]\n",
       "-------------------------------------------------------------------------------\n",
       "const           6.5139      0.735      8.859      0.000       4.955       8.073\n",
       "screen time     0.1169      0.202      0.579      0.571      -0.311       0.545\n",
       "==============================================================================\n",
       "Omnibus:                        0.891   Durbin-Watson:                   1.748\n",
       "Prob(Omnibus):                  0.640   Jarque-Bera (JB):                0.466\n",
       "Skew:                           0.387   Prob(JB):                        0.792\n",
       "Kurtosis:                       2.852   Cond. No.                         12.0\n",
       "==============================================================================\n",
       "\n",
       "Notes:\n",
       "[1] Standard Errors assume that the covariance matrix of the errors is correctly specified.\n",
       "\"\"\""
      ]
     },
     "execution_count": 33,
     "metadata": {},
     "output_type": "execute_result"
    }
   ],
   "source": [
    "x_female = df_female['screen time']\n",
    "y_female = df_female['sleep time']\n",
    "\n",
    "# Adding a constant to get an intercept\n",
    "cst_slptime_scrtime_female = sm.add_constant(x_female)\n",
    "\n",
    "# Fitting the resgression line using 'OLS'\n",
    "lr = sm.OLS(y_female, cst_slptime_scrtime_female).fit()\n",
    "\n",
    "lr.summary()"
   ]
  },
  {
   "cell_type": "markdown",
   "id": "1dabd8a0",
   "metadata": {},
   "source": [
    "### Linear Regression Plot: Smartphone Screen Time vs Sleep Duration in Females (Figure 3.4)"
   ]
  },
  {
   "cell_type": "code",
   "execution_count": 83,
   "id": "45b26388",
   "metadata": {},
   "outputs": [
    {
     "data": {
      "image/png": "[encoded data removed]",
      "text/plain": [
       "<Figure size 504x360 with 1 Axes>"
      ]
     },
     "metadata": {},
     "output_type": "display_data"
    }
   ],
   "source": [
    "plt.scatter(x_female, y_female)\n",
    "plt.plot(x_female, 6.5139 + (0.1169)*x_female, 'r')\n",
    "plt.title('Figure 3.4. Linear Regression Plot: Smartphone Screen Time vs Sleep Duration in Females')\n",
    "plt.xlabel('Smartphone Screen Time (Hours)')\n",
    "plt.ylabel('Sleep Duration (Hours)')\n",
    "plt.show()"
   ]
  },
  {
   "cell_type": "markdown",
   "id": "3a2f0ead",
   "metadata": {},
   "source": [
    "### Age vs Sleep Duration in Females"
   ]
  },
  {
   "cell_type": "code",
   "execution_count": 35,
   "id": "a71c6b0f",
   "metadata": {},
   "outputs": [
    {
     "name": "stderr",
     "output_type": "stream",
     "text": [
      "/Users/hetvipatel/opt/anaconda3/envs/Pandas/lib/python3.8/site-packages/scipy/stats/stats.py:1541: UserWarning:\n",
      "\n",
      "kurtosistest only valid for n>=20 ... continuing anyway, n=18\n",
      "\n"
     ]
    },
    {
     "data": {
      "text/html": [
       "<table class=\"simpletable\">\n",
       "<caption>OLS Regression Results</caption>\n",
       "<tr>\n",
       "  <th>Dep. Variable:</th>       <td>sleep time</td>    <th>  R-squared:         </th> <td>   0.102</td>\n",
       "</tr>\n",
       "<tr>\n",
       "  <th>Model:</th>                   <td>OLS</td>       <th>  Adj. R-squared:    </th> <td>   0.046</td>\n",
       "</tr>\n",
       "<tr>\n",
       "  <th>Method:</th>             <td>Least Squares</td>  <th>  F-statistic:       </th> <td>   1.818</td>\n",
       "</tr>\n",
       "<tr>\n",
       "  <th>Date:</th>             <td>Wed, 15 Dec 2021</td> <th>  Prob (F-statistic):</th>  <td> 0.196</td> \n",
       "</tr>\n",
       "<tr>\n",
       "  <th>Time:</th>                 <td>21:56:48</td>     <th>  Log-Likelihood:    </th> <td> -23.857</td>\n",
       "</tr>\n",
       "<tr>\n",
       "  <th>No. Observations:</th>      <td>    18</td>      <th>  AIC:               </th> <td>   51.71</td>\n",
       "</tr>\n",
       "<tr>\n",
       "  <th>Df Residuals:</th>          <td>    16</td>      <th>  BIC:               </th> <td>   53.50</td>\n",
       "</tr>\n",
       "<tr>\n",
       "  <th>Df Model:</th>              <td>     1</td>      <th>                     </th>     <td> </td>   \n",
       "</tr>\n",
       "<tr>\n",
       "  <th>Covariance Type:</th>      <td>nonrobust</td>    <th>                     </th>     <td> </td>   \n",
       "</tr>\n",
       "</table>\n",
       "<table class=\"simpletable\">\n",
       "<tr>\n",
       "    <td></td>       <th>coef</th>     <th>std err</th>      <th>t</th>      <th>P>|t|</th>  <th>[0.025</th>    <th>0.975]</th>  \n",
       "</tr>\n",
       "<tr>\n",
       "  <th>const</th> <td>    8.8821</td> <td>    1.475</td> <td>    6.020</td> <td> 0.000</td> <td>    5.754</td> <td>   12.010</td>\n",
       "</tr>\n",
       "<tr>\n",
       "  <th>Age</th>   <td>   -0.0808</td> <td>    0.060</td> <td>   -1.348</td> <td> 0.196</td> <td>   -0.208</td> <td>    0.046</td>\n",
       "</tr>\n",
       "</table>\n",
       "<table class=\"simpletable\">\n",
       "<tr>\n",
       "  <th>Omnibus:</th>       <td> 0.161</td> <th>  Durbin-Watson:     </th> <td>   1.657</td>\n",
       "</tr>\n",
       "<tr>\n",
       "  <th>Prob(Omnibus):</th> <td> 0.923</td> <th>  Jarque-Bera (JB):  </th> <td>   0.053</td>\n",
       "</tr>\n",
       "<tr>\n",
       "  <th>Skew:</th>          <td> 0.076</td> <th>  Prob(JB):          </th> <td>   0.974</td>\n",
       "</tr>\n",
       "<tr>\n",
       "  <th>Kurtosis:</th>      <td> 2.782</td> <th>  Cond. No.          </th> <td>    160.</td>\n",
       "</tr>\n",
       "</table><br/><br/>Notes:<br/>[1] Standard Errors assume that the covariance matrix of the errors is correctly specified."
      ],
      "text/plain": [
       "<class 'statsmodels.iolib.summary.Summary'>\n",
       "\"\"\"\n",
       "                            OLS Regression Results                            \n",
       "==============================================================================\n",
       "Dep. Variable:             sleep time   R-squared:                       0.102\n",
       "Model:                            OLS   Adj. R-squared:                  0.046\n",
       "Method:                 Least Squares   F-statistic:                     1.818\n",
       "Date:                Wed, 15 Dec 2021   Prob (F-statistic):              0.196\n",
       "Time:                        21:56:48   Log-Likelihood:                -23.857\n",
       "No. Observations:                  18   AIC:                             51.71\n",
       "Df Residuals:                      16   BIC:                             53.50\n",
       "Df Model:                           1                                         \n",
       "Covariance Type:            nonrobust                                         \n",
       "==============================================================================\n",
       "                 coef    std err          t      P>|t|      [0.025      0.975]\n",
       "------------------------------------------------------------------------------\n",
       "const          8.8821      1.475      6.020      0.000       5.754      12.010\n",
       "Age           -0.0808      0.060     -1.348      0.196      -0.208       0.046\n",
       "==============================================================================\n",
       "Omnibus:                        0.161   Durbin-Watson:                   1.657\n",
       "Prob(Omnibus):                  0.923   Jarque-Bera (JB):                0.053\n",
       "Skew:                           0.076   Prob(JB):                        0.974\n",
       "Kurtosis:                       2.782   Cond. No.                         160.\n",
       "==============================================================================\n",
       "\n",
       "Notes:\n",
       "[1] Standard Errors assume that the covariance matrix of the errors is correctly specified.\n",
       "\"\"\""
      ]
     },
     "execution_count": 35,
     "metadata": {},
     "output_type": "execute_result"
    }
   ],
   "source": [
    "x_female_age = df_female['Age']\n",
    "y_female_sleep_time = df_female['sleep time']\n",
    "\n",
    "# Adding a constant to get an intercept\n",
    "cst_slptime_scrtime_female_age = sm.add_constant(x_female_age)\n",
    "\n",
    "# Fitting the resgression line using 'OLS'\n",
    "lr = sm.OLS(y_female_sleep_time, cst_slptime_scrtime_female_age).fit()\n",
    "\n",
    "lr.summary()"
   ]
  },
  {
   "cell_type": "markdown",
   "id": "9b7bb1a6",
   "metadata": {},
   "source": [
    "### Linear Regression Plot: Age vs Sleep Duration in Females (Figure 3.5)"
   ]
  },
  {
   "cell_type": "code",
   "execution_count": 84,
   "id": "cd9e3530",
   "metadata": {},
   "outputs": [
    {
     "data": {
      "image/png": "[encoded data removed]",
      "text/plain": [
       "<Figure size 504x360 with 1 Axes>"
      ]
     },
     "metadata": {},
     "output_type": "display_data"
    }
   ],
   "source": [
    "plt.scatter(x_female_age, y_female_sleep_time)\n",
    "plt.plot(x_female_age, 8.8821 + (-0.0808)*x_female_age, 'r')\n",
    "plt.title('Figure 3.5. Linear Regression Plot: Age vs Sleep Duration in Females')\n",
    "plt.xlabel('Age (Years)')\n",
    "plt.ylabel('Sleep Duration (Hours)')\n",
    "plt.show()"
   ]
  },
  {
   "cell_type": "markdown",
   "id": "1ff9eabf",
   "metadata": {},
   "source": [
    "## 3.3 Residual Analysis"
   ]
  },
  {
   "cell_type": "markdown",
   "id": "7ee5d9f2",
   "metadata": {},
   "source": [
    "### Smartphone Screen Time vs Sleep Duration in Females"
   ]
  },
  {
   "cell_type": "code",
   "execution_count": 85,
   "id": "f95a5c21",
   "metadata": {},
   "outputs": [
    {
     "name": "stderr",
     "output_type": "stream",
     "text": [
      "/Users/hetvipatel/opt/anaconda3/envs/Pandas/lib/python3.8/site-packages/seaborn/distributions.py:2619: FutureWarning:\n",
      "\n",
      "`distplot` is a deprecated function and will be removed in a future version. Please adapt your code to use either `displot` (a figure-level function with similar flexibility) or `histplot` (an axes-level function for histograms).\n",
      "\n"
     ]
    },
    {
     "data": {
      "image/png": "[encoded data removed]",
      "text/plain": [
       "<Figure size 504x360 with 1 Axes>"
      ]
     },
     "metadata": {},
     "output_type": "display_data"
    },
    {
     "data": {
      "image/png": "[encoded data removed]",
      "text/plain": [
       "<Figure size 504x360 with 1 Axes>"
      ]
     },
     "metadata": {},
     "output_type": "display_data"
    }
   ],
   "source": [
    "# Predicting y_value using the data of x_female\n",
    "y_prediction_female = lr.predict(cst_slptime_scrtime_female)\n",
    "\n",
    "# Creating residuals from the y_prediction_female and predicted y data\n",
    "res = (y_female - y_prediction_female)\n",
    "\n",
    "fig = plt.figure()\n",
    "sns.distplot(res, bins = 15)\n",
    "plt.title('Figure 3.6. Residual Graph of Smartphone Screen Time vs Sleep Duration in Females', fontsize = 15)\n",
    "plt.xlabel('Screen Time - Sleep Time prediction values in Female', fontsize = 15)\n",
    "plt.show()\n",
    "\n",
    "# Looking for any patterns in the residuals\n",
    "plt.scatter(x_female,res)\n",
    "plt.title('Figure 3.7. Residuls Scatter Plot of Smartphone Screen Time vs Sleep Duration in Females', fontsize = 13)\n",
    "plt.xlabel(\"Screen Time\")\n",
    "plt.ylabel(\"Residual Results\")\n",
    "plt.show()"
   ]
  },
  {
   "cell_type": "markdown",
   "id": "b8d385f7",
   "metadata": {},
   "source": [
    "### Age Vs Sleep Duration in Females"
   ]
  },
  {
   "cell_type": "code",
   "execution_count": 86,
   "id": "25806f82",
   "metadata": {},
   "outputs": [
    {
     "name": "stderr",
     "output_type": "stream",
     "text": [
      "/Users/hetvipatel/opt/anaconda3/envs/Pandas/lib/python3.8/site-packages/seaborn/distributions.py:2619: FutureWarning:\n",
      "\n",
      "`distplot` is a deprecated function and will be removed in a future version. Please adapt your code to use either `displot` (a figure-level function with similar flexibility) or `histplot` (an axes-level function for histograms).\n",
      "\n"
     ]
    },
    {
     "data": {
      "image/png": "[encoded data removed]",
      "text/plain": [
       "<Figure size 504x360 with 1 Axes>"
      ]
     },
     "metadata": {},
     "output_type": "display_data"
    },
    {
     "data": {
      "image/png": "[encoded data removed]",
      "text/plain": [
       "<Figure size 504x360 with 1 Axes>"
      ]
     },
     "metadata": {},
     "output_type": "display_data"
    }
   ],
   "source": [
    "# Predicting y_value using the data of x_female_age\n",
    "y_prediction_female_age = lr.predict(cst_slptime_scrtime_female_age)\n",
    "\n",
    "# Creating residuals from the y_prediction_female_age and predicted y data\n",
    "res = (y_female_sleep_time - y_prediction_female_age)\n",
    "\n",
    "fig = plt.figure()\n",
    "sns.distplot(res, bins = 15)\n",
    "plt.title(' Figure 3.8. Residuals Graph ofAge Vs Sleep Duration in Females', fontsize = 15)\n",
    "plt.xlabel('Age - sleep time prediction values in Female', fontsize = 15)\n",
    "plt.show()\n",
    "\n",
    "# Looking for any patterns in the residuals\n",
    "plt.scatter(x_female_age,res)\n",
    "plt.title('Figure 3.9. Residuals Scatter Plot for Age Vs Sleep Duration in Females', fontsize = 15)\n",
    "plt.xlabel(\"Age\")\n",
    "plt.ylabel(\"Residual Results\")\n",
    "plt.show()"
   ]
  },
  {
   "cell_type": "markdown",
   "id": "e0cd0625",
   "metadata": {},
   "source": [
    "# 4. Visualization of Smartphone Screen Time vs Sleep Duration Across all Genders (Figure 4)"
   ]
  },
  {
   "cell_type": "code",
   "execution_count": 91,
   "id": "98033bec",
   "metadata": {},
   "outputs": [
    {
     "data": {
      "image/png": "[encoded data removed]",
      "text/plain": [
       "<Figure size 1152x432 with 1 Axes>"
      ]
     },
     "metadata": {},
     "output_type": "display_data"
    }
   ],
   "source": [
    "fig_dims = (16, 6)\n",
    "fig, ax = plt.subplots(figsize=fig_dims)\n",
    "g = sns.barplot(x='screen time', y='sleep time', hue='Gender', data=df).set(xlabel='Screen Time (Hours)',ylabel='Sleep Time (Hours)',title='Figure 4. Comparision of Smartphone Screen Time vs Sleep Duration Across all Genders')"
   ]
  },
  {
   "cell_type": "markdown",
   "id": "eb1ab5f2",
   "metadata": {},
   "source": [
    "# 5. Visualization of Age vs Sleep Duration Across all Genders (Figure 5)"
   ]
  },
  {
   "cell_type": "code",
   "execution_count": 92,
   "id": "6fded157",
   "metadata": {},
   "outputs": [
    {
     "data": {
      "image/png": "[encoded data removed]",
      "text/plain": [
       "<Figure size 1152x432 with 1 Axes>"
      ]
     },
     "metadata": {},
     "output_type": "display_data"
    }
   ],
   "source": [
    "fig_dims = (16, 6)\n",
    "fig, ax = plt.subplots(figsize=fig_dims)\n",
    "g = sns.barplot(x='Age', y='sleep time', hue='Gender', data=df).set(xlabel='Age (Years)', ylabel='Sleep Time (Hours)',title='Figure 5. Comparision of Sleep Duration and Age Across all Genders')"
   ]
  },
  {
   "cell_type": "markdown",
   "id": "6cdf60cb",
   "metadata": {},
   "source": [
    "# 6. Visualization of Age and Smartphone Screen Time Across all Genders (Figure 6)"
   ]
  },
  {
   "cell_type": "code",
   "execution_count": 93,
   "id": "30602d17",
   "metadata": {},
   "outputs": [
    {
     "data": {
      "image/png": "[encoded data removed]",
      "text/plain": [
       "<Figure size 1152x432 with 1 Axes>"
      ]
     },
     "metadata": {},
     "output_type": "display_data"
    }
   ],
   "source": [
    "fig_dims = (16, 6)\n",
    "fig, ax = plt.subplots(figsize=fig_dims)\n",
    "g = sns.barplot(x='Age', y='screen time', hue='Gender', data=df).set(xlabel='Age (Years)',ylabel='Screen Time (Hours)',title='Figure 6. Comparision of Smartphone Screen Time based on Age Across all Genders')"
   ]
  },
  {
   "cell_type": "markdown",
   "id": "63e7d855",
   "metadata": {},
   "source": [
    "# 7. Descriptive Statistical Analysis"
   ]
  },
  {
   "cell_type": "markdown",
   "id": "8760dbfd",
   "metadata": {},
   "source": [
    "### Descriptive Statistical Analysis of Males and Females and their Smartphone Screen Time Usage and Sleep Duration "
   ]
  },
  {
   "cell_type": "code",
   "execution_count": 42,
   "id": "d94fa07e",
   "metadata": {},
   "outputs": [
    {
     "data": {
      "text/html": [
       "<div>\n",
       "<style scoped>\n",
       "    .dataframe tbody tr th:only-of-type {\n",
       "        vertical-align: middle;\n",
       "    }\n",
       "\n",
       "    .dataframe tbody tr th {\n",
       "        vertical-align: top;\n",
       "    }\n",
       "\n",
       "    .dataframe thead tr th {\n",
       "        text-align: left;\n",
       "    }\n",
       "\n",
       "    .dataframe thead tr:last-of-type th {\n",
       "        text-align: right;\n",
       "    }\n",
       "</style>\n",
       "<table border=\"1\" class=\"dataframe\">\n",
       "  <thead>\n",
       "    <tr>\n",
       "      <th></th>\n",
       "      <th colspan=\"8\" halign=\"left\">Age</th>\n",
       "      <th colspan=\"5\" halign=\"left\">screen time</th>\n",
       "      <th colspan=\"8\" halign=\"left\">sleep time</th>\n",
       "    </tr>\n",
       "    <tr>\n",
       "      <th></th>\n",
       "      <th>count</th>\n",
       "      <th>mean</th>\n",
       "      <th>std</th>\n",
       "      <th>min</th>\n",
       "      <th>25%</th>\n",
       "      <th>50%</th>\n",
       "      <th>75%</th>\n",
       "      <th>max</th>\n",
       "      <th>count</th>\n",
       "      <th>mean</th>\n",
       "      <th>...</th>\n",
       "      <th>75%</th>\n",
       "      <th>max</th>\n",
       "      <th>count</th>\n",
       "      <th>mean</th>\n",
       "      <th>std</th>\n",
       "      <th>min</th>\n",
       "      <th>25%</th>\n",
       "      <th>50%</th>\n",
       "      <th>75%</th>\n",
       "      <th>max</th>\n",
       "    </tr>\n",
       "    <tr>\n",
       "      <th>Gender</th>\n",
       "      <th></th>\n",
       "      <th></th>\n",
       "      <th></th>\n",
       "      <th></th>\n",
       "      <th></th>\n",
       "      <th></th>\n",
       "      <th></th>\n",
       "      <th></th>\n",
       "      <th></th>\n",
       "      <th></th>\n",
       "      <th></th>\n",
       "      <th></th>\n",
       "      <th></th>\n",
       "      <th></th>\n",
       "      <th></th>\n",
       "      <th></th>\n",
       "      <th></th>\n",
       "      <th></th>\n",
       "      <th></th>\n",
       "      <th></th>\n",
       "      <th></th>\n",
       "    </tr>\n",
       "  </thead>\n",
       "  <tbody>\n",
       "    <tr>\n",
       "      <th>Female</th>\n",
       "      <td>18.0</td>\n",
       "      <td>24.333333</td>\n",
       "      <td>3.910769</td>\n",
       "      <td>22.0</td>\n",
       "      <td>23.0</td>\n",
       "      <td>23.0</td>\n",
       "      <td>23.75</td>\n",
       "      <td>39.0</td>\n",
       "      <td>18.0</td>\n",
       "      <td>3.444444</td>\n",
       "      <td>...</td>\n",
       "      <td>4.5</td>\n",
       "      <td>4.5</td>\n",
       "      <td>18.0</td>\n",
       "      <td>6.916667</td>\n",
       "      <td>0.988909</td>\n",
       "      <td>5.00</td>\n",
       "      <td>6.1250</td>\n",
       "      <td>7.00</td>\n",
       "      <td>7.750</td>\n",
       "      <td>9.0</td>\n",
       "    </tr>\n",
       "    <tr>\n",
       "      <th>Male</th>\n",
       "      <td>26.0</td>\n",
       "      <td>25.038462</td>\n",
       "      <td>8.838465</td>\n",
       "      <td>20.0</td>\n",
       "      <td>22.0</td>\n",
       "      <td>22.5</td>\n",
       "      <td>24.00</td>\n",
       "      <td>59.0</td>\n",
       "      <td>26.0</td>\n",
       "      <td>3.250000</td>\n",
       "      <td>...</td>\n",
       "      <td>4.5</td>\n",
       "      <td>4.5</td>\n",
       "      <td>26.0</td>\n",
       "      <td>6.801731</td>\n",
       "      <td>1.192718</td>\n",
       "      <td>3.33</td>\n",
       "      <td>6.7575</td>\n",
       "      <td>7.00</td>\n",
       "      <td>7.750</td>\n",
       "      <td>8.0</td>\n",
       "    </tr>\n",
       "    <tr>\n",
       "      <th>Prefer not to say</th>\n",
       "      <td>2.0</td>\n",
       "      <td>25.000000</td>\n",
       "      <td>0.000000</td>\n",
       "      <td>25.0</td>\n",
       "      <td>25.0</td>\n",
       "      <td>25.0</td>\n",
       "      <td>25.00</td>\n",
       "      <td>25.0</td>\n",
       "      <td>2.0</td>\n",
       "      <td>4.500000</td>\n",
       "      <td>...</td>\n",
       "      <td>4.5</td>\n",
       "      <td>4.5</td>\n",
       "      <td>2.0</td>\n",
       "      <td>4.750000</td>\n",
       "      <td>4.596194</td>\n",
       "      <td>1.50</td>\n",
       "      <td>3.1250</td>\n",
       "      <td>4.75</td>\n",
       "      <td>6.375</td>\n",
       "      <td>8.0</td>\n",
       "    </tr>\n",
       "  </tbody>\n",
       "</table>\n",
       "<p>3 rows × 24 columns</p>\n",
       "</div>"
      ],
      "text/plain": [
       "                    Age                                                      \\\n",
       "                  count       mean       std   min   25%   50%    75%   max   \n",
       "Gender                                                                        \n",
       "Female             18.0  24.333333  3.910769  22.0  23.0  23.0  23.75  39.0   \n",
       "Male               26.0  25.038462  8.838465  20.0  22.0  22.5  24.00  59.0   \n",
       "Prefer not to say   2.0  25.000000  0.000000  25.0  25.0  25.0  25.00  25.0   \n",
       "\n",
       "                  screen time            ...           sleep time            \\\n",
       "                        count      mean  ...  75%  max      count      mean   \n",
       "Gender                                   ...                                  \n",
       "Female                   18.0  3.444444  ...  4.5  4.5       18.0  6.916667   \n",
       "Male                     26.0  3.250000  ...  4.5  4.5       26.0  6.801731   \n",
       "Prefer not to say         2.0  4.500000  ...  4.5  4.5        2.0  4.750000   \n",
       "\n",
       "                                                             \n",
       "                        std   min     25%   50%    75%  max  \n",
       "Gender                                                       \n",
       "Female             0.988909  5.00  6.1250  7.00  7.750  9.0  \n",
       "Male               1.192718  3.33  6.7575  7.00  7.750  8.0  \n",
       "Prefer not to say  4.596194  1.50  3.1250  4.75  6.375  8.0  \n",
       "\n",
       "[3 rows x 24 columns]"
      ]
     },
     "execution_count": 42,
     "metadata": {},
     "output_type": "execute_result"
    }
   ],
   "source": [
    "male = df.query('Gender == \"Male\"')['Age']\n",
    "female = df.query('Gender == \"Female\"')['Age']\n",
    "df.groupby('Gender').describe()"
   ]
  },
  {
   "cell_type": "markdown",
   "id": "12022e7e",
   "metadata": {},
   "source": [
    "### Descriptive Statistical Analysis of Blue Light Filter Usage and Effect on Smartphone Screen Time and Sleep Duration Across All Genders and Ages"
   ]
  },
  {
   "cell_type": "code",
   "execution_count": 44,
   "id": "bd491bcc",
   "metadata": {},
   "outputs": [
    {
     "data": {
      "text/html": [
       "<div>\n",
       "<style scoped>\n",
       "    .dataframe tbody tr th:only-of-type {\n",
       "        vertical-align: middle;\n",
       "    }\n",
       "\n",
       "    .dataframe tbody tr th {\n",
       "        vertical-align: top;\n",
       "    }\n",
       "\n",
       "    .dataframe thead tr th {\n",
       "        text-align: left;\n",
       "    }\n",
       "\n",
       "    .dataframe thead tr:last-of-type th {\n",
       "        text-align: right;\n",
       "    }\n",
       "</style>\n",
       "<table border=\"1\" class=\"dataframe\">\n",
       "  <thead>\n",
       "    <tr>\n",
       "      <th></th>\n",
       "      <th colspan=\"8\" halign=\"left\">Age</th>\n",
       "      <th colspan=\"5\" halign=\"left\">screen time</th>\n",
       "      <th colspan=\"8\" halign=\"left\">sleep time</th>\n",
       "    </tr>\n",
       "    <tr>\n",
       "      <th></th>\n",
       "      <th>count</th>\n",
       "      <th>mean</th>\n",
       "      <th>std</th>\n",
       "      <th>min</th>\n",
       "      <th>25%</th>\n",
       "      <th>50%</th>\n",
       "      <th>75%</th>\n",
       "      <th>max</th>\n",
       "      <th>count</th>\n",
       "      <th>mean</th>\n",
       "      <th>...</th>\n",
       "      <th>75%</th>\n",
       "      <th>max</th>\n",
       "      <th>count</th>\n",
       "      <th>mean</th>\n",
       "      <th>std</th>\n",
       "      <th>min</th>\n",
       "      <th>25%</th>\n",
       "      <th>50%</th>\n",
       "      <th>75%</th>\n",
       "      <th>max</th>\n",
       "    </tr>\n",
       "    <tr>\n",
       "      <th>filter</th>\n",
       "      <th></th>\n",
       "      <th></th>\n",
       "      <th></th>\n",
       "      <th></th>\n",
       "      <th></th>\n",
       "      <th></th>\n",
       "      <th></th>\n",
       "      <th></th>\n",
       "      <th></th>\n",
       "      <th></th>\n",
       "      <th></th>\n",
       "      <th></th>\n",
       "      <th></th>\n",
       "      <th></th>\n",
       "      <th></th>\n",
       "      <th></th>\n",
       "      <th></th>\n",
       "      <th></th>\n",
       "      <th></th>\n",
       "      <th></th>\n",
       "      <th></th>\n",
       "    </tr>\n",
       "  </thead>\n",
       "  <tbody>\n",
       "    <tr>\n",
       "      <th>no</th>\n",
       "      <td>21.0</td>\n",
       "      <td>25.904762</td>\n",
       "      <td>9.684548</td>\n",
       "      <td>20.0</td>\n",
       "      <td>22.0</td>\n",
       "      <td>23.0</td>\n",
       "      <td>24.0</td>\n",
       "      <td>59.0</td>\n",
       "      <td>21.0</td>\n",
       "      <td>3.50</td>\n",
       "      <td>...</td>\n",
       "      <td>4.5</td>\n",
       "      <td>4.5</td>\n",
       "      <td>21.0</td>\n",
       "      <td>6.872857</td>\n",
       "      <td>1.257566</td>\n",
       "      <td>3.33</td>\n",
       "      <td>6.0</td>\n",
       "      <td>7.0</td>\n",
       "      <td>8.0</td>\n",
       "      <td>9.0</td>\n",
       "    </tr>\n",
       "    <tr>\n",
       "      <th>yes</th>\n",
       "      <td>25.0</td>\n",
       "      <td>23.800000</td>\n",
       "      <td>3.488075</td>\n",
       "      <td>21.0</td>\n",
       "      <td>22.0</td>\n",
       "      <td>23.0</td>\n",
       "      <td>24.0</td>\n",
       "      <td>39.0</td>\n",
       "      <td>25.0</td>\n",
       "      <td>3.28</td>\n",
       "      <td>...</td>\n",
       "      <td>4.5</td>\n",
       "      <td>4.5</td>\n",
       "      <td>25.0</td>\n",
       "      <td>6.660600</td>\n",
       "      <td>1.439586</td>\n",
       "      <td>1.50</td>\n",
       "      <td>6.5</td>\n",
       "      <td>7.0</td>\n",
       "      <td>7.0</td>\n",
       "      <td>8.0</td>\n",
       "    </tr>\n",
       "  </tbody>\n",
       "</table>\n",
       "<p>2 rows × 24 columns</p>\n",
       "</div>"
      ],
      "text/plain": [
       "         Age                                                    screen time  \\\n",
       "       count       mean       std   min   25%   50%   75%   max       count   \n",
       "filter                                                                        \n",
       "no      21.0  25.904762  9.684548  20.0  22.0  23.0  24.0  59.0        21.0   \n",
       "yes     25.0  23.800000  3.488075  21.0  22.0  23.0  24.0  39.0        25.0   \n",
       "\n",
       "              ...           sleep time                                      \\\n",
       "        mean  ...  75%  max      count      mean       std   min  25%  50%   \n",
       "filter        ...                                                            \n",
       "no      3.50  ...  4.5  4.5       21.0  6.872857  1.257566  3.33  6.0  7.0   \n",
       "yes     3.28  ...  4.5  4.5       25.0  6.660600  1.439586  1.50  6.5  7.0   \n",
       "\n",
       "                  \n",
       "        75%  max  \n",
       "filter            \n",
       "no      8.0  9.0  \n",
       "yes     7.0  8.0  \n",
       "\n",
       "[2 rows x 24 columns]"
      ]
     },
     "execution_count": 44,
     "metadata": {},
     "output_type": "execute_result"
    }
   ],
   "source": [
    "df = df.rename(columns={'bluelight filter': 'filter'})\n",
    "yes = df.query('filter == \"yes\"')['Age']\n",
    "no = df.query('filter == \"no\"')['Age']\n",
    "df.groupby('filter').describe()"
   ]
  },
  {
   "cell_type": "code",
   "execution_count": 106,
   "id": "305f8f01",
   "metadata": {},
   "outputs": [
    {
     "data": {
      "image/png": "[encoded data removed]",
      "text/plain": [
       "<Figure size 1152x720 with 1 Axes>"
      ]
     },
     "metadata": {},
     "output_type": "display_data"
    }
   ],
   "source": [
    "fig_dims = (16, 10)\n",
    "fig, ax = plt.subplots(figsize=fig_dims)\n",
    "g = sns.barplot(x='filter', y='Age',data=df).set(xlabel='Blue Light Filter Usage',ylabel='Age (Years)',title='Figure 7.1. Blue Light Filter Usage by Age Across all Genders')"
   ]
  },
  {
   "cell_type": "markdown",
   "id": "6d6509a6",
   "metadata": {},
   "source": [
    "### Descriptive Statistical Analysis of Blue Light Filter Usage and Sleep Duration Across Genders"
   ]
  },
  {
   "cell_type": "code",
   "execution_count": 46,
   "id": "fcd58e51",
   "metadata": {},
   "outputs": [],
   "source": [
    "y = df.loc[df['filter'] == 'yes']['Gender']\n",
    "n = df.loc[df['filter'] == 'no']['Gender']\n",
    "col =[]\n",
    "for val in df['Gender']:\n",
    "    if val=='Male':\n",
    "        col.append(1)\n",
    "    else:\n",
    "        col.append(0)\n",
    "# col = [1 for val in df['Gender'] val ='Male' else 0 ]\n",
    "df['Gender_binary'] = col"
   ]
  },
  {
   "cell_type": "code",
   "execution_count": 47,
   "id": "73250e4c",
   "metadata": {},
   "outputs": [
    {
     "data": {
      "text/html": [
       "<div>\n",
       "<style scoped>\n",
       "    .dataframe tbody tr th:only-of-type {\n",
       "        vertical-align: middle;\n",
       "    }\n",
       "\n",
       "    .dataframe tbody tr th {\n",
       "        vertical-align: top;\n",
       "    }\n",
       "\n",
       "    .dataframe thead tr th {\n",
       "        text-align: left;\n",
       "    }\n",
       "\n",
       "    .dataframe thead tr:last-of-type th {\n",
       "        text-align: right;\n",
       "    }\n",
       "</style>\n",
       "<table border=\"1\" class=\"dataframe\">\n",
       "  <thead>\n",
       "    <tr>\n",
       "      <th></th>\n",
       "      <th colspan=\"8\" halign=\"left\">Age</th>\n",
       "      <th colspan=\"2\" halign=\"left\">screen time</th>\n",
       "      <th>...</th>\n",
       "      <th colspan=\"2\" halign=\"left\">sleep time</th>\n",
       "      <th colspan=\"8\" halign=\"left\">Gender_binary</th>\n",
       "    </tr>\n",
       "    <tr>\n",
       "      <th></th>\n",
       "      <th>count</th>\n",
       "      <th>mean</th>\n",
       "      <th>std</th>\n",
       "      <th>min</th>\n",
       "      <th>25%</th>\n",
       "      <th>50%</th>\n",
       "      <th>75%</th>\n",
       "      <th>max</th>\n",
       "      <th>count</th>\n",
       "      <th>mean</th>\n",
       "      <th>...</th>\n",
       "      <th>75%</th>\n",
       "      <th>max</th>\n",
       "      <th>count</th>\n",
       "      <th>mean</th>\n",
       "      <th>std</th>\n",
       "      <th>min</th>\n",
       "      <th>25%</th>\n",
       "      <th>50%</th>\n",
       "      <th>75%</th>\n",
       "      <th>max</th>\n",
       "    </tr>\n",
       "    <tr>\n",
       "      <th>filter</th>\n",
       "      <th></th>\n",
       "      <th></th>\n",
       "      <th></th>\n",
       "      <th></th>\n",
       "      <th></th>\n",
       "      <th></th>\n",
       "      <th></th>\n",
       "      <th></th>\n",
       "      <th></th>\n",
       "      <th></th>\n",
       "      <th></th>\n",
       "      <th></th>\n",
       "      <th></th>\n",
       "      <th></th>\n",
       "      <th></th>\n",
       "      <th></th>\n",
       "      <th></th>\n",
       "      <th></th>\n",
       "      <th></th>\n",
       "      <th></th>\n",
       "      <th></th>\n",
       "    </tr>\n",
       "  </thead>\n",
       "  <tbody>\n",
       "    <tr>\n",
       "      <th>no</th>\n",
       "      <td>21.0</td>\n",
       "      <td>25.904762</td>\n",
       "      <td>9.684548</td>\n",
       "      <td>20.0</td>\n",
       "      <td>22.0</td>\n",
       "      <td>23.0</td>\n",
       "      <td>24.0</td>\n",
       "      <td>59.0</td>\n",
       "      <td>21.0</td>\n",
       "      <td>3.50</td>\n",
       "      <td>...</td>\n",
       "      <td>8.0</td>\n",
       "      <td>9.0</td>\n",
       "      <td>21.0</td>\n",
       "      <td>0.52381</td>\n",
       "      <td>0.511766</td>\n",
       "      <td>0.0</td>\n",
       "      <td>0.0</td>\n",
       "      <td>1.0</td>\n",
       "      <td>1.0</td>\n",
       "      <td>1.0</td>\n",
       "    </tr>\n",
       "    <tr>\n",
       "      <th>yes</th>\n",
       "      <td>25.0</td>\n",
       "      <td>23.800000</td>\n",
       "      <td>3.488075</td>\n",
       "      <td>21.0</td>\n",
       "      <td>22.0</td>\n",
       "      <td>23.0</td>\n",
       "      <td>24.0</td>\n",
       "      <td>39.0</td>\n",
       "      <td>25.0</td>\n",
       "      <td>3.28</td>\n",
       "      <td>...</td>\n",
       "      <td>7.0</td>\n",
       "      <td>8.0</td>\n",
       "      <td>25.0</td>\n",
       "      <td>0.60000</td>\n",
       "      <td>0.500000</td>\n",
       "      <td>0.0</td>\n",
       "      <td>0.0</td>\n",
       "      <td>1.0</td>\n",
       "      <td>1.0</td>\n",
       "      <td>1.0</td>\n",
       "    </tr>\n",
       "  </tbody>\n",
       "</table>\n",
       "<p>2 rows × 32 columns</p>\n",
       "</div>"
      ],
      "text/plain": [
       "         Age                                                    screen time  \\\n",
       "       count       mean       std   min   25%   50%   75%   max       count   \n",
       "filter                                                                        \n",
       "no      21.0  25.904762  9.684548  20.0  22.0  23.0  24.0  59.0        21.0   \n",
       "yes     25.0  23.800000  3.488075  21.0  22.0  23.0  24.0  39.0        25.0   \n",
       "\n",
       "              ... sleep time      Gender_binary                               \\\n",
       "        mean  ...        75%  max         count     mean       std  min  25%   \n",
       "filter        ...                                                              \n",
       "no      3.50  ...        8.0  9.0          21.0  0.52381  0.511766  0.0  0.0   \n",
       "yes     3.28  ...        7.0  8.0          25.0  0.60000  0.500000  0.0  0.0   \n",
       "\n",
       "                       \n",
       "        50%  75%  max  \n",
       "filter                 \n",
       "no      1.0  1.0  1.0  \n",
       "yes     1.0  1.0  1.0  \n",
       "\n",
       "[2 rows x 32 columns]"
      ]
     },
     "execution_count": 47,
     "metadata": {},
     "output_type": "execute_result"
    }
   ],
   "source": [
    "df.groupby('filter').describe()"
   ]
  },
  {
   "cell_type": "code",
   "execution_count": 48,
   "id": "93fb725a",
   "metadata": {},
   "outputs": [
    {
     "data": {
      "text/html": [
       "<div>\n",
       "<style scoped>\n",
       "    .dataframe tbody tr th:only-of-type {\n",
       "        vertical-align: middle;\n",
       "    }\n",
       "\n",
       "    .dataframe tbody tr th {\n",
       "        vertical-align: top;\n",
       "    }\n",
       "\n",
       "    .dataframe thead th {\n",
       "        text-align: right;\n",
       "    }\n",
       "</style>\n",
       "<table border=\"1\" class=\"dataframe\">\n",
       "  <thead>\n",
       "    <tr style=\"text-align: right;\">\n",
       "      <th></th>\n",
       "      <th>count</th>\n",
       "      <th>unique</th>\n",
       "      <th>top</th>\n",
       "      <th>freq</th>\n",
       "    </tr>\n",
       "    <tr>\n",
       "      <th>filter</th>\n",
       "      <th></th>\n",
       "      <th></th>\n",
       "      <th></th>\n",
       "      <th></th>\n",
       "    </tr>\n",
       "  </thead>\n",
       "  <tbody>\n",
       "    <tr>\n",
       "      <th>no</th>\n",
       "      <td>21</td>\n",
       "      <td>2</td>\n",
       "      <td>Male</td>\n",
       "      <td>11</td>\n",
       "    </tr>\n",
       "    <tr>\n",
       "      <th>yes</th>\n",
       "      <td>25</td>\n",
       "      <td>3</td>\n",
       "      <td>Male</td>\n",
       "      <td>15</td>\n",
       "    </tr>\n",
       "  </tbody>\n",
       "</table>\n",
       "</div>"
      ],
      "text/plain": [
       "       count unique   top freq\n",
       "filter                        \n",
       "no        21      2  Male   11\n",
       "yes       25      3  Male   15"
      ]
     },
     "execution_count": 48,
     "metadata": {},
     "output_type": "execute_result"
    }
   ],
   "source": [
    "df.groupby('filter')['Gender'].describe()"
   ]
  },
  {
   "cell_type": "markdown",
   "id": "45e812d2",
   "metadata": {},
   "source": [
    "### Descriptive Statistical Analysis of Genders, Sleep Duration, and Smartphone Screen Time Using Blue Light Filter"
   ]
  },
  {
   "cell_type": "code",
   "execution_count": 49,
   "id": "40884c5e",
   "metadata": {},
   "outputs": [
    {
     "data": {
      "text/html": [
       "<div>\n",
       "<style scoped>\n",
       "    .dataframe tbody tr th:only-of-type {\n",
       "        vertical-align: middle;\n",
       "    }\n",
       "\n",
       "    .dataframe tbody tr th {\n",
       "        vertical-align: top;\n",
       "    }\n",
       "\n",
       "    .dataframe thead tr th {\n",
       "        text-align: left;\n",
       "    }\n",
       "\n",
       "    .dataframe thead tr:last-of-type th {\n",
       "        text-align: right;\n",
       "    }\n",
       "</style>\n",
       "<table border=\"1\" class=\"dataframe\">\n",
       "  <thead>\n",
       "    <tr>\n",
       "      <th></th>\n",
       "      <th colspan=\"8\" halign=\"left\">Age</th>\n",
       "      <th colspan=\"2\" halign=\"left\">screen time</th>\n",
       "      <th>...</th>\n",
       "      <th colspan=\"2\" halign=\"left\">sleep time</th>\n",
       "      <th colspan=\"8\" halign=\"left\">Gender_binary</th>\n",
       "    </tr>\n",
       "    <tr>\n",
       "      <th></th>\n",
       "      <th>count</th>\n",
       "      <th>mean</th>\n",
       "      <th>std</th>\n",
       "      <th>min</th>\n",
       "      <th>25%</th>\n",
       "      <th>50%</th>\n",
       "      <th>75%</th>\n",
       "      <th>max</th>\n",
       "      <th>count</th>\n",
       "      <th>mean</th>\n",
       "      <th>...</th>\n",
       "      <th>75%</th>\n",
       "      <th>max</th>\n",
       "      <th>count</th>\n",
       "      <th>mean</th>\n",
       "      <th>std</th>\n",
       "      <th>min</th>\n",
       "      <th>25%</th>\n",
       "      <th>50%</th>\n",
       "      <th>75%</th>\n",
       "      <th>max</th>\n",
       "    </tr>\n",
       "    <tr>\n",
       "      <th>Gender</th>\n",
       "      <th></th>\n",
       "      <th></th>\n",
       "      <th></th>\n",
       "      <th></th>\n",
       "      <th></th>\n",
       "      <th></th>\n",
       "      <th></th>\n",
       "      <th></th>\n",
       "      <th></th>\n",
       "      <th></th>\n",
       "      <th></th>\n",
       "      <th></th>\n",
       "      <th></th>\n",
       "      <th></th>\n",
       "      <th></th>\n",
       "      <th></th>\n",
       "      <th></th>\n",
       "      <th></th>\n",
       "      <th></th>\n",
       "      <th></th>\n",
       "      <th></th>\n",
       "    </tr>\n",
       "  </thead>\n",
       "  <tbody>\n",
       "    <tr>\n",
       "      <th>Female</th>\n",
       "      <td>18.0</td>\n",
       "      <td>24.333333</td>\n",
       "      <td>3.910769</td>\n",
       "      <td>22.0</td>\n",
       "      <td>23.0</td>\n",
       "      <td>23.0</td>\n",
       "      <td>23.75</td>\n",
       "      <td>39.0</td>\n",
       "      <td>18.0</td>\n",
       "      <td>3.444444</td>\n",
       "      <td>...</td>\n",
       "      <td>7.750</td>\n",
       "      <td>9.0</td>\n",
       "      <td>18.0</td>\n",
       "      <td>0.0</td>\n",
       "      <td>0.0</td>\n",
       "      <td>0.0</td>\n",
       "      <td>0.0</td>\n",
       "      <td>0.0</td>\n",
       "      <td>0.0</td>\n",
       "      <td>0.0</td>\n",
       "    </tr>\n",
       "    <tr>\n",
       "      <th>Male</th>\n",
       "      <td>26.0</td>\n",
       "      <td>25.038462</td>\n",
       "      <td>8.838465</td>\n",
       "      <td>20.0</td>\n",
       "      <td>22.0</td>\n",
       "      <td>22.5</td>\n",
       "      <td>24.00</td>\n",
       "      <td>59.0</td>\n",
       "      <td>26.0</td>\n",
       "      <td>3.250000</td>\n",
       "      <td>...</td>\n",
       "      <td>7.750</td>\n",
       "      <td>8.0</td>\n",
       "      <td>26.0</td>\n",
       "      <td>1.0</td>\n",
       "      <td>0.0</td>\n",
       "      <td>1.0</td>\n",
       "      <td>1.0</td>\n",
       "      <td>1.0</td>\n",
       "      <td>1.0</td>\n",
       "      <td>1.0</td>\n",
       "    </tr>\n",
       "    <tr>\n",
       "      <th>Prefer not to say</th>\n",
       "      <td>2.0</td>\n",
       "      <td>25.000000</td>\n",
       "      <td>0.000000</td>\n",
       "      <td>25.0</td>\n",
       "      <td>25.0</td>\n",
       "      <td>25.0</td>\n",
       "      <td>25.00</td>\n",
       "      <td>25.0</td>\n",
       "      <td>2.0</td>\n",
       "      <td>4.500000</td>\n",
       "      <td>...</td>\n",
       "      <td>6.375</td>\n",
       "      <td>8.0</td>\n",
       "      <td>2.0</td>\n",
       "      <td>0.0</td>\n",
       "      <td>0.0</td>\n",
       "      <td>0.0</td>\n",
       "      <td>0.0</td>\n",
       "      <td>0.0</td>\n",
       "      <td>0.0</td>\n",
       "      <td>0.0</td>\n",
       "    </tr>\n",
       "  </tbody>\n",
       "</table>\n",
       "<p>3 rows × 32 columns</p>\n",
       "</div>"
      ],
      "text/plain": [
       "                    Age                                                      \\\n",
       "                  count       mean       std   min   25%   50%    75%   max   \n",
       "Gender                                                                        \n",
       "Female             18.0  24.333333  3.910769  22.0  23.0  23.0  23.75  39.0   \n",
       "Male               26.0  25.038462  8.838465  20.0  22.0  22.5  24.00  59.0   \n",
       "Prefer not to say   2.0  25.000000  0.000000  25.0  25.0  25.0  25.00  25.0   \n",
       "\n",
       "                  screen time            ... sleep time      Gender_binary  \\\n",
       "                        count      mean  ...        75%  max         count   \n",
       "Gender                                   ...                                 \n",
       "Female                   18.0  3.444444  ...      7.750  9.0          18.0   \n",
       "Male                     26.0  3.250000  ...      7.750  8.0          26.0   \n",
       "Prefer not to say         2.0  4.500000  ...      6.375  8.0           2.0   \n",
       "\n",
       "                                                      \n",
       "                  mean  std  min  25%  50%  75%  max  \n",
       "Gender                                                \n",
       "Female             0.0  0.0  0.0  0.0  0.0  0.0  0.0  \n",
       "Male               1.0  0.0  1.0  1.0  1.0  1.0  1.0  \n",
       "Prefer not to say  0.0  0.0  0.0  0.0  0.0  0.0  0.0  \n",
       "\n",
       "[3 rows x 32 columns]"
      ]
     },
     "execution_count": 49,
     "metadata": {},
     "output_type": "execute_result"
    }
   ],
   "source": [
    "male = df.query('Gender == \"Male\"')['filter']\n",
    "female = df.query('Gender == \"Female\"')['filter']\n",
    "df.groupby('Gender').describe()"
   ]
  },
  {
   "cell_type": "code",
   "execution_count": 107,
   "id": "bf809660",
   "metadata": {},
   "outputs": [
    {
     "data": {
      "image/png": "[encoded data removed]",
      "text/plain": [
       "<Figure size 1152x720 with 1 Axes>"
      ]
     },
     "metadata": {},
     "output_type": "display_data"
    }
   ],
   "source": [
    "fig_dims = (16, 10)\n",
    "fig, ax = plt.subplots(figsize=fig_dims)\n",
    "g = sns.barplot(x='filter', y='sleep time',hue='Gender',data=df).set(xlabel='Blue Light Filter Usage',ylabel='Sleep Durations (Hours)',title='Figure 7.2. Blue Light Filter Usage vs Sleep Duration Across all Genders')"
   ]
  },
  {
   "cell_type": "code",
   "execution_count": null,
   "id": "8c069b95",
   "metadata": {},
   "outputs": [],
   "source": []
  }
 ],
 "metadata": {
  "kernelspec": {
   "display_name": "Python 3 (ipykernel)",
   "language": "python",
   "name": "python3"
  },
  "language_info": {
   "codemirror_mode": {
    "name": "ipython",
    "version": 3
   },
   "file_extension": ".py",
   "mimetype": "text/x-python",
   "name": "python",
   "nbconvert_exporter": "python",
   "pygments_lexer": "ipython3",
   "version": "3.8.11"
  }
 },
 "nbformat": 4,
 "nbformat_minor": 5
}
