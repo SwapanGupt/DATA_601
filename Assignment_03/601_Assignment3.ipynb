{
 "cells": [
  {
   "cell_type": "code",
   "execution_count": null,
   "metadata": {
    "colab": {
     "base_uri": "https://localhost:8080/"
    },
    "id": "ww2gRsWNFITe",
    "outputId": "e0199cd3-32b5-4e00-f80d-71cffa3aafff"
   },
   "outputs": [
    {
     "name": "stdout",
     "output_type": "stream",
     "text": [
      "Collecting random_address\n",
      "  Downloading random_address-1.1.1-py3-none-any.whl (97 kB)\n",
      "\u001b[?25l\r",
      "\u001b[K     |███▍                            | 10 kB 25.0 MB/s eta 0:00:01\r",
      "\u001b[K     |██████▊                         | 20 kB 25.3 MB/s eta 0:00:01\r",
      "\u001b[K     |██████████                      | 30 kB 11.2 MB/s eta 0:00:01\r",
      "\u001b[K     |█████████████▍                  | 40 kB 9.0 MB/s eta 0:00:01\r",
      "\u001b[K     |████████████████▉               | 51 kB 5.3 MB/s eta 0:00:01\r",
      "\u001b[K     |████████████████████▏           | 61 kB 5.9 MB/s eta 0:00:01\r",
      "\u001b[K     |███████████████████████▌        | 71 kB 5.5 MB/s eta 0:00:01\r",
      "\u001b[K     |██████████████████████████▉     | 81 kB 6.2 MB/s eta 0:00:01\r",
      "\u001b[K     |██████████████████████████████▎ | 92 kB 4.9 MB/s eta 0:00:01\r",
      "\u001b[K     |████████████████████████████████| 97 kB 3.0 MB/s \n",
      "\u001b[?25hInstalling collected packages: random-address\n",
      "Successfully installed random-address-1.1.1\n"
     ]
    }
   ],
   "source": [
    "!pip install random_address"
   ]
  },
  {
   "cell_type": "code",
   "execution_count": null,
   "metadata": {
    "colab": {
     "base_uri": "https://localhost:8080/"
    },
    "id": "Ws8c8fYHFPNs",
    "outputId": "98ccb714-60dd-4c9a-96a5-4ffca430b43a"
   },
   "outputs": [
    {
     "name": "stdout",
     "output_type": "stream",
     "text": [
      "Collecting names\n",
      "  Downloading names-0.3.0.tar.gz (789 kB)\n",
      "\u001b[?25l\r",
      "\u001b[K     |▍                               | 10 kB 22.9 MB/s eta 0:00:01\r",
      "\u001b[K     |▉                               | 20 kB 14.1 MB/s eta 0:00:01\r",
      "\u001b[K     |█▎                              | 30 kB 13.2 MB/s eta 0:00:01\r",
      "\u001b[K     |█▋                              | 40 kB 9.8 MB/s eta 0:00:01\r",
      "\u001b[K     |██                              | 51 kB 5.2 MB/s eta 0:00:01\r",
      "\u001b[K     |██▌                             | 61 kB 5.8 MB/s eta 0:00:01\r",
      "\u001b[K     |███                             | 71 kB 5.7 MB/s eta 0:00:01\r",
      "\u001b[K     |███▎                            | 81 kB 6.4 MB/s eta 0:00:01\r",
      "\u001b[K     |███▊                            | 92 kB 4.9 MB/s eta 0:00:01\r",
      "\u001b[K     |████▏                           | 102 kB 5.4 MB/s eta 0:00:01\r",
      "\u001b[K     |████▋                           | 112 kB 5.4 MB/s eta 0:00:01\r",
      "\u001b[K     |█████                           | 122 kB 5.4 MB/s eta 0:00:01\r",
      "\u001b[K     |█████▍                          | 133 kB 5.4 MB/s eta 0:00:01\r",
      "\u001b[K     |█████▉                          | 143 kB 5.4 MB/s eta 0:00:01\r",
      "\u001b[K     |██████▎                         | 153 kB 5.4 MB/s eta 0:00:01\r",
      "\u001b[K     |██████▋                         | 163 kB 5.4 MB/s eta 0:00:01\r",
      "\u001b[K     |███████                         | 174 kB 5.4 MB/s eta 0:00:01\r",
      "\u001b[K     |███████▌                        | 184 kB 5.4 MB/s eta 0:00:01\r",
      "\u001b[K     |████████                        | 194 kB 5.4 MB/s eta 0:00:01\r",
      "\u001b[K     |████████▎                       | 204 kB 5.4 MB/s eta 0:00:01\r",
      "\u001b[K     |████████▊                       | 215 kB 5.4 MB/s eta 0:00:01\r",
      "\u001b[K     |█████████▏                      | 225 kB 5.4 MB/s eta 0:00:01\r",
      "\u001b[K     |█████████▌                      | 235 kB 5.4 MB/s eta 0:00:01\r",
      "\u001b[K     |██████████                      | 245 kB 5.4 MB/s eta 0:00:01\r",
      "\u001b[K     |██████████▍                     | 256 kB 5.4 MB/s eta 0:00:01\r",
      "\u001b[K     |██████████▉                     | 266 kB 5.4 MB/s eta 0:00:01\r",
      "\u001b[K     |███████████▏                    | 276 kB 5.4 MB/s eta 0:00:01\r",
      "\u001b[K     |███████████▋                    | 286 kB 5.4 MB/s eta 0:00:01\r",
      "\u001b[K     |████████████                    | 296 kB 5.4 MB/s eta 0:00:01\r",
      "\u001b[K     |████████████▌                   | 307 kB 5.4 MB/s eta 0:00:01\r",
      "\u001b[K     |████████████▉                   | 317 kB 5.4 MB/s eta 0:00:01\r",
      "\u001b[K     |█████████████▎                  | 327 kB 5.4 MB/s eta 0:00:01\r",
      "\u001b[K     |█████████████▊                  | 337 kB 5.4 MB/s eta 0:00:01\r",
      "\u001b[K     |██████████████▏                 | 348 kB 5.4 MB/s eta 0:00:01\r",
      "\u001b[K     |██████████████▌                 | 358 kB 5.4 MB/s eta 0:00:01\r",
      "\u001b[K     |███████████████                 | 368 kB 5.4 MB/s eta 0:00:01\r",
      "\u001b[K     |███████████████▍                | 378 kB 5.4 MB/s eta 0:00:01\r",
      "\u001b[K     |███████████████▉                | 389 kB 5.4 MB/s eta 0:00:01\r",
      "\u001b[K     |████████████████▏               | 399 kB 5.4 MB/s eta 0:00:01\r",
      "\u001b[K     |████████████████▋               | 409 kB 5.4 MB/s eta 0:00:01\r",
      "\u001b[K     |█████████████████               | 419 kB 5.4 MB/s eta 0:00:01\r",
      "\u001b[K     |█████████████████▍              | 430 kB 5.4 MB/s eta 0:00:01\r",
      "\u001b[K     |█████████████████▉              | 440 kB 5.4 MB/s eta 0:00:01\r",
      "\u001b[K     |██████████████████▎             | 450 kB 5.4 MB/s eta 0:00:01\r",
      "\u001b[K     |██████████████████▊             | 460 kB 5.4 MB/s eta 0:00:01\r",
      "\u001b[K     |███████████████████             | 471 kB 5.4 MB/s eta 0:00:01\r",
      "\u001b[K     |███████████████████▌            | 481 kB 5.4 MB/s eta 0:00:01\r",
      "\u001b[K     |████████████████████            | 491 kB 5.4 MB/s eta 0:00:01\r",
      "\u001b[K     |████████████████████▍           | 501 kB 5.4 MB/s eta 0:00:01\r",
      "\u001b[K     |████████████████████▊           | 512 kB 5.4 MB/s eta 0:00:01\r",
      "\u001b[K     |█████████████████████▏          | 522 kB 5.4 MB/s eta 0:00:01\r",
      "\u001b[K     |█████████████████████▋          | 532 kB 5.4 MB/s eta 0:00:01\r",
      "\u001b[K     |██████████████████████          | 542 kB 5.4 MB/s eta 0:00:01\r",
      "\u001b[K     |██████████████████████▍         | 552 kB 5.4 MB/s eta 0:00:01\r",
      "\u001b[K     |██████████████████████▉         | 563 kB 5.4 MB/s eta 0:00:01\r",
      "\u001b[K     |███████████████████████▎        | 573 kB 5.4 MB/s eta 0:00:01\r",
      "\u001b[K     |███████████████████████▊        | 583 kB 5.4 MB/s eta 0:00:01\r",
      "\u001b[K     |████████████████████████        | 593 kB 5.4 MB/s eta 0:00:01\r",
      "\u001b[K     |████████████████████████▌       | 604 kB 5.4 MB/s eta 0:00:01\r",
      "\u001b[K     |█████████████████████████       | 614 kB 5.4 MB/s eta 0:00:01\r",
      "\u001b[K     |█████████████████████████▎      | 624 kB 5.4 MB/s eta 0:00:01\r",
      "\u001b[K     |█████████████████████████▊      | 634 kB 5.4 MB/s eta 0:00:01\r",
      "\u001b[K     |██████████████████████████▏     | 645 kB 5.4 MB/s eta 0:00:01\r",
      "\u001b[K     |██████████████████████████▋     | 655 kB 5.4 MB/s eta 0:00:01\r",
      "\u001b[K     |███████████████████████████     | 665 kB 5.4 MB/s eta 0:00:01\r",
      "\u001b[K     |███████████████████████████▍    | 675 kB 5.4 MB/s eta 0:00:01\r",
      "\u001b[K     |███████████████████████████▉    | 686 kB 5.4 MB/s eta 0:00:01\r",
      "\u001b[K     |████████████████████████████▎   | 696 kB 5.4 MB/s eta 0:00:01\r",
      "\u001b[K     |████████████████████████████▋   | 706 kB 5.4 MB/s eta 0:00:01\r",
      "\u001b[K     |█████████████████████████████   | 716 kB 5.4 MB/s eta 0:00:01\r",
      "\u001b[K     |█████████████████████████████▌  | 727 kB 5.4 MB/s eta 0:00:01\r",
      "\u001b[K     |██████████████████████████████  | 737 kB 5.4 MB/s eta 0:00:01\r",
      "\u001b[K     |██████████████████████████████▎ | 747 kB 5.4 MB/s eta 0:00:01\r",
      "\u001b[K     |██████████████████████████████▊ | 757 kB 5.4 MB/s eta 0:00:01\r",
      "\u001b[K     |███████████████████████████████▏| 768 kB 5.4 MB/s eta 0:00:01\r",
      "\u001b[K     |███████████████████████████████▋| 778 kB 5.4 MB/s eta 0:00:01\r",
      "\u001b[K     |████████████████████████████████| 788 kB 5.4 MB/s eta 0:00:01\r",
      "\u001b[K     |████████████████████████████████| 789 kB 5.4 MB/s \n",
      "\u001b[?25hBuilding wheels for collected packages: names\n",
      "  Building wheel for names (setup.py) ... \u001b[?25l\u001b[?25hdone\n",
      "  Created wheel for names: filename=names-0.3.0-py3-none-any.whl size=803698 sha256=1722f9f5ceeb02734f78614b8c47169d9afe1d040918b8da78e1bef69cb4246c\n",
      "  Stored in directory: /root/.cache/pip/wheels/05/ea/68/92f6b0669e478af9b7c3c524520d03050089e034edcc775c2b\n",
      "Successfully built names\n",
      "Installing collected packages: names\n",
      "Successfully installed names-0.3.0\n"
     ]
    }
   ],
   "source": [
    "!pip install names "
   ]
  },
  {
   "cell_type": "code",
   "execution_count": 9,
   "metadata": {
    "colab": {
     "base_uri": "https://localhost:8080/"
    },
    "id": "IQDclSH1Emz3",
    "outputId": "665672f8-e608-4406-ebb0-821a4178984e"
   },
   "outputs": [
    {
     "name": "stdout",
     "output_type": "stream",
     "text": [
      "enter number of entities: 5\n",
      "Name: Eric Jones\n",
      "Email: rwglpkx@gmail.com\n",
      "Phone Number: 7366883664\n",
      "Year Born: 2001\n",
      "Number of Kids: 0\n",
      "Home(Categorical Value):  Own\n",
      "Address {'address1': '9222 Sandra Grace Road', 'address2': '', 'city': 'Southport', 'state': 'FL', 'postalCode': '32409', 'coordinates': {'lat': 30.317219, 'lng': -85.615911}}\n",
      "Name: Angela Troxler\n",
      "Email: epcovwp@gmail.com\n",
      "Phone Number: 4398676414\n",
      "Year Born: 1977\n",
      "Number of Kids:  3\n",
      "Home(Categorical Value):  Own\n",
      "Address {'address1': '1439 2nd Street', 'address2': '', 'city': 'Panama City', 'state': 'FL', 'postalCode': '32409', 'coordinates': {'lat': 30.291842, 'lng': -85.651057}}\n",
      "Name: Scott Dortch\n",
      "Email: wplxdmw@gmail.com\n",
      "Phone Number: 6959614812\n",
      "Year Born: 1994\n",
      "Number of Kids:  4\n",
      "Home(Categorical Value):  Rent\n",
      "Address {'address1': '9222 Sandra Grace Road', 'address2': '', 'city': 'Southport', 'state': 'FL', 'postalCode': '32409', 'coordinates': {'lat': 30.317219, 'lng': -85.615911}}\n",
      "Name: Rosa Brown\n",
      "Email: gtwwenw@gmail.com\n",
      "Phone Number: 3792619351\n",
      "Year Born: 1946\n",
      "Number of Kids:  1\n",
      "Home(Categorical Value):  Own\n",
      "Address {'address1': '325 Joseph Circle', 'address2': '', 'city': 'Southport', 'state': 'FL', 'postalCode': '32409', 'coordinates': {'lat': 30.407817, 'lng': -85.684715}}\n",
      "Name: James Wyrick\n",
      "Email: psptqqb@gmail.com\n",
      "Phone Number: 6942214581\n",
      "Year Born: 1940\n",
      "Number of Kids:  1\n",
      "Home(Categorical Value):  Own\n",
      "Address {'address1': '7809 Highway 2302', 'address2': '', 'city': 'Panama City', 'state': 'FL', 'postalCode': '32409', 'coordinates': {'lat': 30.289833, 'lng': -85.64659999999999}}\n"
     ]
    }
   ],
   "source": [
    "import random\n",
    "import string\n",
    "import names\n",
    "import random_address\n",
    "\n",
    "n=int(input(\"enter number of entities: \"))\n",
    "def random_char(y):\n",
    "    \n",
    "    z=[]\n",
    "    for x in range(y):\n",
    "        z.append(random.choice(string.ascii_lowercase))  \n",
    "    return z\n",
    "\n",
    "heading=['NAME','EMAIL ID','PHONE NUMBER','BIRTH YEAR','NUMBER OF KIDS','HOME(CATEGORICAL VALUE)','ADDRESS']\n",
    "rows = []\n",
    "rows.append(heading)\n",
    "for i in range(0,n):\n",
    "    row = []\n",
    "    name = names.get_full_name()\n",
    "    row.append(name)\n",
    "    print(\"Name:\",name)\n",
    "    email=''.join(random_char(7))+\"@gmail.com\"\n",
    "    row.append(email)\n",
    "    print (\"Email:\",email)\n",
    "    s = random.randint(1234567890,9876543210)\n",
    "    print (\"Phone Number:\",s)\n",
    "    row.append(s)\n",
    "    p = random.randint(1920,2021)\n",
    "    row.append(p)\n",
    "    print (\"Year Born:\",p)\n",
    "    b =random.randint(1,4)\n",
    "    row.append(b)\n",
    "    if(p<=1998):\n",
    "        print(\"Number of Kids: \",b)\n",
    "    else:\n",
    "        print(\"Number of Kids: 0\")\n",
    "    with open(\"Data.txt\", \"r\") as file:\n",
    "      text = file.read()\n",
    "      words = list(map(str, text.split()))\n",
    "      temp=random.choice(words)\n",
    "      row.append(temp)\n",
    "      print(\"Home(Categorical Value): \",temp)\n",
    "      address = random_address.real_random_address_by_postal_code('32409')\n",
    "      print('Address',address)\n",
    "      row.append(address)\n",
    "    rows.append(row)\n"
   ]
  },
  {
   "cell_type": "code",
   "execution_count": 11,
   "metadata": {
    "id": "RF5fFResFarp"
   },
   "outputs": [],
   "source": [
    "import csv\n",
    "\n",
    "with open('csv_file.csv', 'w') as f:\n",
    "    writer = csv.writer(f)\n",
    "    writer.writerows(rows)\n",
    "\n",
    "f.close()"
   ]
  },
  {
   "cell_type": "code",
   "execution_count": 12,
   "metadata": {
    "id": "cBillMQ8A8cN"
   },
   "outputs": [],
   "source": [
    "import json\n",
    "json_file=\"myfile.json\"\n",
    "\n",
    "data={}\n",
    "with open('csv_file.csv') as csvFile:\n",
    "  csvReader = csv.DictReader(csvFile)\n",
    "  for rows in csvReader:\n",
    "    id=rows['NAME']\n",
    "    data[id]=rows\n",
    "with open(json_file,'w') as jsonFile:\n",
    "  jsonFile.write(json.dumps(data,indent=2))"
   ]
  }
 ],
 "metadata": {
  "colab": {
   "collapsed_sections": [],
   "name": "601_Assignment3.ipynb",
   "provenance": []
  },
  "kernelspec": {
   "display_name": "Python 3",
   "language": "python",
   "name": "python3"
  },
  "language_info": {
   "codemirror_mode": {
    "name": "ipython",
    "version": 3
   },
   "file_extension": ".py",
   "mimetype": "text/x-python",
   "name": "python",
   "nbconvert_exporter": "python",
   "pygments_lexer": "ipython3",
   "version": "3.8.8"
  }
 },
 "nbformat": 4,
 "nbformat_minor": 1
}
